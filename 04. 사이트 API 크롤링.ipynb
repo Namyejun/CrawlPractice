{
 "cells": [
  {
   "cell_type": "code",
   "execution_count": 1,
   "metadata": {
    "executionInfo": {
     "elapsed": 3,
     "status": "ok",
     "timestamp": 1680063828777,
     "user": {
      "displayName": "소민호",
      "userId": "16551848544638359832"
     },
     "user_tz": -540
    },
    "id": "_q_ZYyDFmsGm"
   },
   "outputs": [],
   "source": [
    "import requests"
   ]
  },
  {
   "cell_type": "code",
   "execution_count": 2,
   "metadata": {
    "executionInfo": {
     "elapsed": 3,
     "status": "ok",
     "timestamp": 1680063828778,
     "user": {
      "displayName": "소민호",
      "userId": "16551848544638359832"
     },
     "user_tz": -540
    },
    "id": "3UVHHkcVmwPj"
   },
   "outputs": [],
   "source": [
    "NAVER_STOCK_URL = \"https://m.stock.naver.com/domestic/index/KOSPI/total\""
   ]
  },
  {
   "cell_type": "code",
   "execution_count": 7,
   "metadata": {
    "executionInfo": {
     "elapsed": 1570,
     "status": "ok",
     "timestamp": 1680063984180,
     "user": {
      "displayName": "소민호",
      "userId": "16551848544638359832"
     },
     "user_tz": -540
    },
    "id": "cgNtXgJkm05D"
   },
   "outputs": [],
   "source": [
    "from bs4 import BeautifulSoup\n",
    "\n",
    "response = requests.get(NAVER_STOCK_URL)\n",
    "page = response.content"
   ]
  },
  {
   "cell_type": "code",
   "execution_count": 8,
   "metadata": {
    "colab": {
     "base_uri": "https://localhost:8080/"
    },
    "executionInfo": {
     "elapsed": 289,
     "status": "ok",
     "timestamp": 1680063988914,
     "user": {
      "displayName": "소민호",
      "userId": "16551848544638359832"
     },
     "user_tz": -540
    },
    "id": "TJrm_esRm9GN",
    "outputId": "e8faf516-4651-4234-c914-69daa1ccb0f5"
   },
   "outputs": [
    {
     "data": {
      "text/plain": [
       "<!DOCTYPE html>\n",
       "\n",
       "<html lang=\"ko\">\n",
       "<head>\n",
       "<meta charset=\"utf-8\"/>\n",
       "<meta content=\"width=device-width,initial-scale=1,maximum-scale=1,minimum-scale=1,user-scalable=no\" name=\"viewport\"/>\n",
       "<meta content=\"코스피 - 네이버 증권\" property=\"og:title\">\n",
       "<meta content=\"article\" property=\"og:type\"/>\n",
       "<meta content=\"https://m.stock.naver.com/domestic/index/KOSPI/total\" property=\"og:url\"/>\n",
       "<meta content=\"관심종목의 실시간 주가를 가장 빠르게 확인하는 곳\" property=\"og:description\"/>\n",
       "<meta content=\"https://ssl.pstatic.net/static/m/stock/im/2016/08/og_stock-200.png\" property=\"og:image\"/>\n",
       "<meta content=\"네이버증권\" property=\"og:article:author\"/>\n",
       "<meta content=\"https://m.stock.naver.com\" property=\"og:article:author:url\"/>\n",
       "<meta content=\"https://ssl.pstatic.net/static/m/stock/im/2016/08/og_stock-200.png\" property=\"og:article:thumbnailUrl\"/>\n",
       "<title>네이버 증권</title>\n",
       "<link href=\"https://ssl.pstatic.net/imgstock/favi/favicon.ico\" rel=\"shortcut icon\"/>\n",
       "<meta content=\"네이버 증권\" name=\"apple-mobile-web-app-title\"/>\n",
       "<link href=\"https://ssl.pstatic.net/imgstock/favi/favicon-96x96.png\" rel=\"apple-touch-icon-precomposed\">\n",
       "<link href=\"https://ssl.pstatic.net/imgstock/favi/favicon-180x180.png\" rel=\"apple-touch-icon-precomposed\" sizes=\"180x180\"/>\n",
       "<link href=\"https://ssl.pstatic.net/imgstock/favi/favicon-192x192.png\" rel=\"apple-touch-icon-precomposed\" sizes=\"192x192\"/>\n",
       "<link href=\"https://ssl.pstatic.net/imgstock/favi/favicon-16x16.png\" rel=\"icon\" sizes=\"16x16\" type=\"image/png\"/>\n",
       "<link href=\"https://ssl.pstatic.net/imgstock/favi/favicon-32x32.png\" rel=\"icon\" sizes=\"32x32\" type=\"image/png\"/>\n",
       "<link href=\"https://ssl.pstatic.net/imgstock/favi/favicon-96x96.png\" rel=\"icon\" sizes=\"96x96\" type=\"image/png\"/>\n",
       "<link href=\"https://ssl.pstatic.net/imgstock/favi/favicon-192x192.png\" rel=\"icon\" sizes=\"192x192\" type=\"image/png\"/>\n",
       "<link href=\"https://ssl.pstatic.net/imgstock/stock/build/prod/mobile/20230322165611/static/css/main.dd0cb95c.chunk.css\" rel=\"stylesheet\"/>\n",
       "<script src=\"https://ssl.pstatic.net/imgstock/stock/build/prod/mobile/20230322165611/header.js?20230322165611\" type=\"text/javascript\"></script>\n",
       "<script src=\"https://ssl.pstatic.net/tveta/libs/glad/prod/gfp-core.js\" type=\"text/javascript\"></script>\n",
       "</link></meta></head>\n",
       "<body class=\"international\">\n",
       "<div id=\"root\"></div>\n",
       "<script>!function(e){function t(t){for(var n,o,u=t[0],f=t[1],i=t[2],d=0,s=[];d<u.length;d++)o=u[d],Object.prototype.hasOwnProperty.call(a,o)&&a[o]&&s.push(a[o][0]),a[o]=0;for(n in f)Object.prototype.hasOwnProperty.call(f,n)&&(e[n]=f[n]);for(l&&l(t);s.length;)s.shift()();return c.push.apply(c,i||[]),r()}function r(){for(var e,t=0;t<c.length;t++){for(var r=c[t],n=!0,o=1;o<r.length;o++){var f=r[o];0!==a[f]&&(n=!1)}n&&(c.splice(t--,1),e=u(u.s=r[0]))}return e}var n={},o={8:0},a={8:0},c=[];function u(t){if(n[t])return n[t].exports;var r=n[t]={i:t,l:!1,exports:{}};return e[t].call(r.exports,r,r.exports,u),r.l=!0,r.exports}u.e=function(e){var t=[];o[e]?t.push(o[e]):0!==o[e]&&{0:1,2:1,3:1,4:1,10:1,11:1,12:1,13:1,14:1,15:1,16:1,17:1,18:1,19:1,20:1}[e]&&t.push(o[e]=new Promise((function(t,r){for(var n=\"static/css/\"+({}[e]||e)+\".\"+{0:\"a63b0bcc\",1:\"31d6cfe0\",2:\"02efc3f1\",3:\"2ea2f92f\",4:\"7d1972e2\",5:\"31d6cfe0\",6:\"31d6cfe0\",10:\"1963f76d\",11:\"a0458cd6\",12:\"07461eed\",13:\"40867142\",14:\"3337bdd0\",15:\"20f2ac0d\",16:\"6d9f44bb\",17:\"724a9bd0\",18:\"dbb9c469\",19:\"1db4b7c6\",20:\"0162d134\",21:\"31d6cfe0\",22:\"31d6cfe0\"}[e]+\".chunk.css\",a=u.p+n,c=document.getElementsByTagName(\"link\"),f=0;f<c.length;f++){var i=(l=c[f]).getAttribute(\"data-href\")||l.getAttribute(\"href\");if(\"stylesheet\"===l.rel&&(i===n||i===a))return t()}var d=document.getElementsByTagName(\"style\");for(f=0;f<d.length;f++){var l;if((i=(l=d[f]).getAttribute(\"data-href\"))===n||i===a)return t()}var s=document.createElement(\"link\");s.rel=\"stylesheet\",s.type=\"text/css\",s.onload=t,s.onerror=function(t){var n=t&&t.target&&t.target.src||a,c=new Error(\"Loading CSS chunk \"+e+\" failed.\\n(\"+n+\")\");c.code=\"CSS_CHUNK_LOAD_FAILED\",c.request=n,delete o[e],s.parentNode.removeChild(s),r(c)},s.href=a,document.getElementsByTagName(\"head\")[0].appendChild(s)})).then((function(){o[e]=0})));var r=a[e];if(0!==r)if(r)t.push(r[2]);else{var n=new Promise((function(t,n){r=a[e]=[t,n]}));t.push(r[2]=n);var c,f=document.createElement(\"script\");f.charset=\"utf-8\",f.timeout=120,u.nc&&f.setAttribute(\"nonce\",u.nc),f.src=function(e){return u.p+\"static/js/\"+({}[e]||e)+\".\"+{0:\"7215a1e4\",1:\"7bac6db9\",2:\"211586bd\",3:\"6dba623a\",4:\"e1c82aeb\",5:\"2c454e6b\",6:\"cd87eac5\",10:\"6ffb4359\",11:\"f1d0e846\",12:\"b69fc2d6\",13:\"b532767b\",14:\"89e52d4b\",15:\"423995af\",16:\"78225396\",17:\"daaaf4ff\",18:\"fdcb5d93\",19:\"5259a749\",20:\"78980694\",21:\"5cdba9d6\",22:\"1de118f4\"}[e]+\".chunk.js\"}(e);var i=new Error;c=function(t){f.onerror=f.onload=null,clearTimeout(d);var r=a[e];if(0!==r){if(r){var n=t&&(\"load\"===t.type?\"missing\":t.type),o=t&&t.target&&t.target.src;i.message=\"Loading chunk \"+e+\" failed.\\n(\"+n+\": \"+o+\")\",i.name=\"ChunkLoadError\",i.type=n,i.request=o,r[1](i)}a[e]=void 0}};var d=setTimeout((function(){c({type:\"timeout\",target:f})}),12e4);f.onerror=f.onload=c,document.head.appendChild(f)}return Promise.all(t)},u.m=e,u.c=n,u.d=function(e,t,r){u.o(e,t)||Object.defineProperty(e,t,{enumerable:!0,get:r})},u.r=function(e){\"undefined\"!=typeof Symbol&&Symbol.toStringTag&&Object.defineProperty(e,Symbol.toStringTag,{value:\"Module\"}),Object.defineProperty(e,\"__esModule\",{value:!0})},u.t=function(e,t){if(1&t&&(e=u(e)),8&t)return e;if(4&t&&\"object\"==typeof e&&e&&e.__esModule)return e;var r=Object.create(null);if(u.r(r),Object.defineProperty(r,\"default\",{enumerable:!0,value:e}),2&t&&\"string\"!=typeof e)for(var n in e)u.d(r,n,function(t){return e[t]}.bind(null,n));return r},u.n=function(e){var t=e&&e.__esModule?function(){return e.default}:function(){return e};return u.d(t,\"a\",t),t},u.o=function(e,t){return Object.prototype.hasOwnProperty.call(e,t)},u.p=\"https://ssl.pstatic.net/imgstock/stock/build/prod/mobile/20230322165611/\",u.oe=function(e){throw console.error(e),e};var f=this[\"webpackJsonpweb-mobile-frontend\"]=this[\"webpackJsonpweb-mobile-frontend\"]||[],i=f.push.bind(f);f.push=t,f=f.slice();for(var d=0;d<f.length;d++)t(f[d]);var l=i;r()}([])</script>\n",
       "<script src=\"https://ssl.pstatic.net/imgstock/stock/build/prod/mobile/20230322165611/static/js/9.d728144a.chunk.js\"></script>\n",
       "<script src=\"https://ssl.pstatic.net/imgstock/stock/build/prod/mobile/20230322165611/static/js/main.de49f3ea.chunk.js\"></script>\n",
       "</body>\n",
       "</html>"
      ]
     },
     "execution_count": 8,
     "metadata": {},
     "output_type": "execute_result"
    }
   ],
   "source": [
    "soup = BeautifulSoup(page, 'html.parser')\n",
    "soup"
   ]
  },
  {
   "cell_type": "code",
   "execution_count": 9,
   "metadata": {
    "colab": {
     "base_uri": "https://localhost:8080/"
    },
    "executionInfo": {
     "elapsed": 2,
     "status": "ok",
     "timestamp": 1680064043936,
     "user": {
      "displayName": "소민호",
      "userId": "16551848544638359832"
     },
     "user_tz": -540
    },
    "id": "jS2XzxzpngDD",
    "outputId": "df95278d-b403-46b9-f251-3844638bf6da"
   },
   "outputs": [
    {
     "data": {
      "text/plain": [
       "[]"
      ]
     },
     "execution_count": 9,
     "metadata": {},
     "output_type": "execute_result"
    }
   ],
   "source": [
    "soup.select(\".GraphMain_price__3GnHd\")"
   ]
  },
  {
   "cell_type": "code",
   "execution_count": 10,
   "metadata": {
    "colab": {
     "base_uri": "https://localhost:8080/"
    },
    "executionInfo": {
     "elapsed": 836,
     "status": "ok",
     "timestamp": 1680066667546,
     "user": {
      "displayName": "소민호",
      "userId": "16551848544638359832"
     },
     "user_tz": -540
    },
    "id": "fSRJysxentZs",
    "outputId": "0a0766ab-2a98-4dc2-c736-47b1a1b33319"
   },
   "outputs": [
    {
     "data": {
      "text/plain": [
       "200"
      ]
     },
     "execution_count": 10,
     "metadata": {},
     "output_type": "execute_result"
    }
   ],
   "source": [
    "# 실시간 코스피 지수 가져오기\n",
    "REALTIME_KOSPI_API = \"https://polling.finance.naver.com/api/realtime/domestic/index/KOSPI\"\n",
    "response = requests.get(REALTIME_KOSPI_API)\n",
    "response.status_code"
   ]
  },
  {
   "cell_type": "code",
   "execution_count": 12,
   "metadata": {
    "colab": {
     "base_uri": "https://localhost:8080/"
    },
    "executionInfo": {
     "elapsed": 2,
     "status": "ok",
     "timestamp": 1680066863490,
     "user": {
      "displayName": "소민호",
      "userId": "16551848544638359832"
     },
     "user_tz": -540
    },
    "id": "drUmjOWYxtn2",
    "outputId": "dd83b68e-537d-4ffd-c8c3-ee2c3a7a3e65"
   },
   "outputs": [
    {
     "data": {
      "text/plain": [
       "{'pollingInterval': 7000,\n",
       " 'datas': [{'itemCode': 'KOSPI',\n",
       "   'stockName': '코스피',\n",
       "   'stockExchangeType': {'code': 'KS',\n",
       "    'zoneId': 'Asia/Seoul',\n",
       "    'nationType': 'KOR',\n",
       "    'delayTime': 0,\n",
       "    'startTime': '0900',\n",
       "    'endTime': '1530',\n",
       "    'closePriceSendTime': '1630',\n",
       "    'nameKor': '코스피',\n",
       "    'nameEng': 'KOSPI',\n",
       "    'nationCode': 'KOR',\n",
       "    'nationName': '대한민국',\n",
       "    'name': 'KOSPI'},\n",
       "   'closePrice': '2,433.39',\n",
       "   'compareToPreviousClosePrice': '-1.55',\n",
       "   'compareToPreviousPrice': {'code': '5', 'text': '하락', 'name': 'FALLING'},\n",
       "   'fluctuationsRatio': '-0.06',\n",
       "   'openPrice': '2,432.63',\n",
       "   'highPrice': '2,442.45',\n",
       "   'lowPrice': '2,428.61',\n",
       "   'accumulatedTradingVolume': '403,214천주',\n",
       "   'accumulatedTradingValue': '6,747,739백만',\n",
       "   'marketStatus': 'OPEN',\n",
       "   'localTradedAt': '2023-03-29T14:11:15+09:00',\n",
       "   'symbolCode': 'KOSPI'}],\n",
       " 'time': '20230329141116'}"
      ]
     },
     "execution_count": 12,
     "metadata": {},
     "output_type": "execute_result"
    }
   ],
   "source": [
    "# 응답을 어떻게 받았을까? - content-type 확인하기\n",
    "data = response.json()\n",
    "data"
   ]
  },
  {
   "cell_type": "code",
   "execution_count": 15,
   "metadata": {
    "colab": {
     "base_uri": "https://localhost:8080/",
     "height": 35
    },
    "executionInfo": {
     "elapsed": 4,
     "status": "ok",
     "timestamp": 1680066938436,
     "user": {
      "displayName": "소민호",
      "userId": "16551848544638359832"
     },
     "user_tz": -540
    },
    "id": "QBv935HZyBoI",
    "outputId": "c4996103-421d-4533-ca60-46403474e332"
   },
   "outputs": [
    {
     "data": {
      "application/vnd.google.colaboratory.intrinsic+json": {
       "type": "string"
      },
      "text/plain": [
       "'2,433.39'"
      ]
     },
     "execution_count": 15,
     "metadata": {},
     "output_type": "execute_result"
    }
   ],
   "source": [
    "data['datas'][0]['closePrice']"
   ]
  },
  {
   "cell_type": "code",
   "execution_count": 16,
   "metadata": {
    "colab": {
     "base_uri": "https://localhost:8080/"
    },
    "executionInfo": {
     "elapsed": 1404,
     "status": "ok",
     "timestamp": 1680067314689,
     "user": {
      "displayName": "소민호",
      "userId": "16551848544638359832"
     },
     "user_tz": -540
    },
    "id": "HiwnofAoyjAG",
    "outputId": "64b80d24-3209-47d0-8a24-b79b033633c4"
   },
   "outputs": [
    {
     "data": {
      "text/plain": [
       "200"
      ]
     },
     "execution_count": 16,
     "metadata": {},
     "output_type": "execute_result"
    }
   ],
   "source": [
    "# 200일치 코스피 종가를 데이터 프레임으로 정리\n",
    "KOSPI_API = \"https://api.stock.naver.com/chart/domestic/index/KOSPI?periodType=dayCandle\"\n",
    "response = requests.get(KOSPI_API)\n",
    "response.status_code"
   ]
  },
  {
   "cell_type": "code",
   "execution_count": 18,
   "metadata": {
    "colab": {
     "base_uri": "https://localhost:8080/"
    },
    "executionInfo": {
     "elapsed": 2,
     "status": "ok",
     "timestamp": 1680067457402,
     "user": {
      "displayName": "소민호",
      "userId": "16551848544638359832"
     },
     "user_tz": -540
    },
    "id": "ndgAZ35C0Llt",
    "outputId": "e35545a9-b20e-4a1e-990d-91aa94ad1338"
   },
   "outputs": [
    {
     "data": {
      "text/plain": [
       "[{'localDate': '20221021',\n",
       "  'closePrice': 2213.12,\n",
       "  'openPrice': 2210.59,\n",
       "  'highPrice': 2224.04,\n",
       "  'lowPrice': 2204.64,\n",
       "  'accumulatedTradingVolume': 637486,\n",
       "  'foreignRetentionRate': 0.0},\n",
       " {'localDate': '20221024',\n",
       "  'closePrice': 2236.16,\n",
       "  'openPrice': 2248.26,\n",
       "  'highPrice': 2256.67,\n",
       "  'lowPrice': 2229.85,\n",
       "  'accumulatedTradingVolume': 444820,\n",
       "  'foreignRetentionRate': 0.0}]"
      ]
     },
     "execution_count": 18,
     "metadata": {},
     "output_type": "execute_result"
    }
   ],
   "source": [
    "datas = response.json()\n",
    "price_info_datas = datas['priceInfos']\n",
    "price_info_datas[:2]"
   ]
  },
  {
   "cell_type": "code",
   "execution_count": 19,
   "metadata": {
    "colab": {
     "base_uri": "https://localhost:8080/",
     "height": 206
    },
    "executionInfo": {
     "elapsed": 5,
     "status": "ok",
     "timestamp": 1680067577841,
     "user": {
      "displayName": "소민호",
      "userId": "16551848544638359832"
     },
     "user_tz": -540
    },
    "id": "8P5sMtka0ZuO",
    "outputId": "630a3394-e3d4-4cc9-f470-ece3447f7891"
   },
   "outputs": [
    {
     "data": {
      "text/html": [
       "\n",
       "  <div id=\"df-9421c672-a36c-4b84-ad18-311fc3b75097\">\n",
       "    <div class=\"colab-df-container\">\n",
       "      <div>\n",
       "<style scoped>\n",
       "    .dataframe tbody tr th:only-of-type {\n",
       "        vertical-align: middle;\n",
       "    }\n",
       "\n",
       "    .dataframe tbody tr th {\n",
       "        vertical-align: top;\n",
       "    }\n",
       "\n",
       "    .dataframe thead th {\n",
       "        text-align: right;\n",
       "    }\n",
       "</style>\n",
       "<table border=\"1\" class=\"dataframe\">\n",
       "  <thead>\n",
       "    <tr style=\"text-align: right;\">\n",
       "      <th></th>\n",
       "      <th>localDate</th>\n",
       "      <th>closePrice</th>\n",
       "      <th>openPrice</th>\n",
       "      <th>highPrice</th>\n",
       "      <th>lowPrice</th>\n",
       "      <th>accumulatedTradingVolume</th>\n",
       "      <th>foreignRetentionRate</th>\n",
       "    </tr>\n",
       "  </thead>\n",
       "  <tbody>\n",
       "    <tr>\n",
       "      <th>105</th>\n",
       "      <td>20230323</td>\n",
       "      <td>2424.48</td>\n",
       "      <td>2398.27</td>\n",
       "      <td>2424.48</td>\n",
       "      <td>2397.91</td>\n",
       "      <td>567704</td>\n",
       "      <td>0.0</td>\n",
       "    </tr>\n",
       "    <tr>\n",
       "      <th>106</th>\n",
       "      <td>20230324</td>\n",
       "      <td>2414.96</td>\n",
       "      <td>2421.27</td>\n",
       "      <td>2423.76</td>\n",
       "      <td>2399.49</td>\n",
       "      <td>470659</td>\n",
       "      <td>0.0</td>\n",
       "    </tr>\n",
       "    <tr>\n",
       "      <th>107</th>\n",
       "      <td>20230327</td>\n",
       "      <td>2409.22</td>\n",
       "      <td>2423.94</td>\n",
       "      <td>2423.94</td>\n",
       "      <td>2395.97</td>\n",
       "      <td>472847</td>\n",
       "      <td>0.0</td>\n",
       "    </tr>\n",
       "    <tr>\n",
       "      <th>108</th>\n",
       "      <td>20230328</td>\n",
       "      <td>2434.94</td>\n",
       "      <td>2418.69</td>\n",
       "      <td>2434.94</td>\n",
       "      <td>2415.34</td>\n",
       "      <td>524016</td>\n",
       "      <td>0.0</td>\n",
       "    </tr>\n",
       "    <tr>\n",
       "      <th>109</th>\n",
       "      <td>20230329</td>\n",
       "      <td>2434.84</td>\n",
       "      <td>2432.63</td>\n",
       "      <td>2442.45</td>\n",
       "      <td>2428.61</td>\n",
       "      <td>410968</td>\n",
       "      <td>0.0</td>\n",
       "    </tr>\n",
       "  </tbody>\n",
       "</table>\n",
       "</div>\n",
       "      <button class=\"colab-df-convert\" onclick=\"convertToInteractive('df-9421c672-a36c-4b84-ad18-311fc3b75097')\"\n",
       "              title=\"Convert this dataframe to an interactive table.\"\n",
       "              style=\"display:none;\">\n",
       "        \n",
       "  <svg xmlns=\"http://www.w3.org/2000/svg\" height=\"24px\"viewBox=\"0 0 24 24\"\n",
       "       width=\"24px\">\n",
       "    <path d=\"M0 0h24v24H0V0z\" fill=\"none\"/>\n",
       "    <path d=\"M18.56 5.44l.94 2.06.94-2.06 2.06-.94-2.06-.94-.94-2.06-.94 2.06-2.06.94zm-11 1L8.5 8.5l.94-2.06 2.06-.94-2.06-.94L8.5 2.5l-.94 2.06-2.06.94zm10 10l.94 2.06.94-2.06 2.06-.94-2.06-.94-.94-2.06-.94 2.06-2.06.94z\"/><path d=\"M17.41 7.96l-1.37-1.37c-.4-.4-.92-.59-1.43-.59-.52 0-1.04.2-1.43.59L10.3 9.45l-7.72 7.72c-.78.78-.78 2.05 0 2.83L4 21.41c.39.39.9.59 1.41.59.51 0 1.02-.2 1.41-.59l7.78-7.78 2.81-2.81c.8-.78.8-2.07 0-2.86zM5.41 20L4 18.59l7.72-7.72 1.47 1.35L5.41 20z\"/>\n",
       "  </svg>\n",
       "      </button>\n",
       "      \n",
       "  <style>\n",
       "    .colab-df-container {\n",
       "      display:flex;\n",
       "      flex-wrap:wrap;\n",
       "      gap: 12px;\n",
       "    }\n",
       "\n",
       "    .colab-df-convert {\n",
       "      background-color: #E8F0FE;\n",
       "      border: none;\n",
       "      border-radius: 50%;\n",
       "      cursor: pointer;\n",
       "      display: none;\n",
       "      fill: #1967D2;\n",
       "      height: 32px;\n",
       "      padding: 0 0 0 0;\n",
       "      width: 32px;\n",
       "    }\n",
       "\n",
       "    .colab-df-convert:hover {\n",
       "      background-color: #E2EBFA;\n",
       "      box-shadow: 0px 1px 2px rgba(60, 64, 67, 0.3), 0px 1px 3px 1px rgba(60, 64, 67, 0.15);\n",
       "      fill: #174EA6;\n",
       "    }\n",
       "\n",
       "    [theme=dark] .colab-df-convert {\n",
       "      background-color: #3B4455;\n",
       "      fill: #D2E3FC;\n",
       "    }\n",
       "\n",
       "    [theme=dark] .colab-df-convert:hover {\n",
       "      background-color: #434B5C;\n",
       "      box-shadow: 0px 1px 3px 1px rgba(0, 0, 0, 0.15);\n",
       "      filter: drop-shadow(0px 1px 2px rgba(0, 0, 0, 0.3));\n",
       "      fill: #FFFFFF;\n",
       "    }\n",
       "  </style>\n",
       "\n",
       "      <script>\n",
       "        const buttonEl =\n",
       "          document.querySelector('#df-9421c672-a36c-4b84-ad18-311fc3b75097 button.colab-df-convert');\n",
       "        buttonEl.style.display =\n",
       "          google.colab.kernel.accessAllowed ? 'block' : 'none';\n",
       "\n",
       "        async function convertToInteractive(key) {\n",
       "          const element = document.querySelector('#df-9421c672-a36c-4b84-ad18-311fc3b75097');\n",
       "          const dataTable =\n",
       "            await google.colab.kernel.invokeFunction('convertToInteractive',\n",
       "                                                     [key], {});\n",
       "          if (!dataTable) return;\n",
       "\n",
       "          const docLinkHtml = 'Like what you see? Visit the ' +\n",
       "            '<a target=\"_blank\" href=https://colab.research.google.com/notebooks/data_table.ipynb>data table notebook</a>'\n",
       "            + ' to learn more about interactive tables.';\n",
       "          element.innerHTML = '';\n",
       "          dataTable['output_type'] = 'display_data';\n",
       "          await google.colab.output.renderOutput(dataTable, element);\n",
       "          const docLink = document.createElement('div');\n",
       "          docLink.innerHTML = docLinkHtml;\n",
       "          element.appendChild(docLink);\n",
       "        }\n",
       "      </script>\n",
       "    </div>\n",
       "  </div>\n",
       "  "
      ],
      "text/plain": [
       "    localDate  closePrice  openPrice  highPrice  lowPrice  \\\n",
       "105  20230323     2424.48    2398.27    2424.48   2397.91   \n",
       "106  20230324     2414.96    2421.27    2423.76   2399.49   \n",
       "107  20230327     2409.22    2423.94    2423.94   2395.97   \n",
       "108  20230328     2434.94    2418.69    2434.94   2415.34   \n",
       "109  20230329     2434.84    2432.63    2442.45   2428.61   \n",
       "\n",
       "     accumulatedTradingVolume  foreignRetentionRate  \n",
       "105                    567704                   0.0  \n",
       "106                    470659                   0.0  \n",
       "107                    472847                   0.0  \n",
       "108                    524016                   0.0  \n",
       "109                    410968                   0.0  "
      ]
     },
     "execution_count": 19,
     "metadata": {},
     "output_type": "execute_result"
    }
   ],
   "source": [
    "import pandas as pd\n",
    "\n",
    "kospi_df = pd.DataFrame(price_info_datas)\n",
    "kospi_df.tail()"
   ]
  },
  {
   "cell_type": "code",
   "execution_count": 20,
   "metadata": {
    "colab": {
     "base_uri": "https://localhost:8080/"
    },
    "executionInfo": {
     "elapsed": 2029,
     "status": "ok",
     "timestamp": 1680072148028,
     "user": {
      "displayName": "소민호",
      "userId": "16551848544638359832"
     },
     "user_tz": -540
    },
    "id": "_G8jMw3x1MHl",
    "outputId": "7597b764-5a26-4182-9790-62a27fd76a31"
   },
   "outputs": [
    {
     "data": {
      "text/plain": [
       "[{'localDate': '20221021',\n",
       "  'closePrice': 674.48,\n",
       "  'openPrice': 678.16,\n",
       "  'highPrice': 682.49,\n",
       "  'lowPrice': 674.48,\n",
       "  'accumulatedTradingVolume': 1034393,\n",
       "  'foreignRetentionRate': 0.0},\n",
       " {'localDate': '20221024',\n",
       "  'closePrice': 688.5,\n",
       "  'openPrice': 686.43,\n",
       "  'highPrice': 693.44,\n",
       "  'lowPrice': 686.43,\n",
       "  'accumulatedTradingVolume': 817958,\n",
       "  'foreignRetentionRate': 0.0}]"
      ]
     },
     "execution_count": 20,
     "metadata": {},
     "output_type": "execute_result"
    }
   ],
   "source": [
    "# 코스닥 데이터 가져오기\n",
    "url = \"https://api.stock.naver.com/chart/domestic/index/KOSDAQ?periodType=dayCandle\"\n",
    "\n",
    "res = requests.get(url)\n",
    "datas = res.json()[\"priceInfos\"]\n",
    "datas[:2]"
   ]
  },
  {
   "cell_type": "code",
   "execution_count": 21,
   "metadata": {
    "colab": {
     "base_uri": "https://localhost:8080/",
     "height": 206
    },
    "executionInfo": {
     "elapsed": 5,
     "status": "ok",
     "timestamp": 1680072148028,
     "user": {
      "displayName": "소민호",
      "userId": "16551848544638359832"
     },
     "user_tz": -540
    },
    "id": "KrDgC1QWGnAt",
    "outputId": "75d467c9-1ec9-4ecd-a5f6-4e47c378e43f"
   },
   "outputs": [
    {
     "data": {
      "text/html": [
       "\n",
       "  <div id=\"df-a588d66b-c0f0-44f3-8438-dcc9a68edaa6\">\n",
       "    <div class=\"colab-df-container\">\n",
       "      <div>\n",
       "<style scoped>\n",
       "    .dataframe tbody tr th:only-of-type {\n",
       "        vertical-align: middle;\n",
       "    }\n",
       "\n",
       "    .dataframe tbody tr th {\n",
       "        vertical-align: top;\n",
       "    }\n",
       "\n",
       "    .dataframe thead th {\n",
       "        text-align: right;\n",
       "    }\n",
       "</style>\n",
       "<table border=\"1\" class=\"dataframe\">\n",
       "  <thead>\n",
       "    <tr style=\"text-align: right;\">\n",
       "      <th></th>\n",
       "      <th>localDate</th>\n",
       "      <th>closePrice</th>\n",
       "      <th>openPrice</th>\n",
       "      <th>highPrice</th>\n",
       "      <th>lowPrice</th>\n",
       "      <th>accumulatedTradingVolume</th>\n",
       "      <th>foreignRetentionRate</th>\n",
       "    </tr>\n",
       "  </thead>\n",
       "  <tbody>\n",
       "    <tr>\n",
       "      <th>105</th>\n",
       "      <td>20230323</td>\n",
       "      <td>812.19</td>\n",
       "      <td>807.53</td>\n",
       "      <td>824.20</td>\n",
       "      <td>806.40</td>\n",
       "      <td>1177437</td>\n",
       "      <td>0.0</td>\n",
       "    </tr>\n",
       "    <tr>\n",
       "      <th>106</th>\n",
       "      <td>20230324</td>\n",
       "      <td>824.11</td>\n",
       "      <td>820.16</td>\n",
       "      <td>824.11</td>\n",
       "      <td>814.07</td>\n",
       "      <td>1292725</td>\n",
       "      <td>0.0</td>\n",
       "    </tr>\n",
       "    <tr>\n",
       "      <th>107</th>\n",
       "      <td>20230327</td>\n",
       "      <td>827.69</td>\n",
       "      <td>827.95</td>\n",
       "      <td>829.18</td>\n",
       "      <td>817.81</td>\n",
       "      <td>1176553</td>\n",
       "      <td>0.0</td>\n",
       "    </tr>\n",
       "    <tr>\n",
       "      <th>108</th>\n",
       "      <td>20230328</td>\n",
       "      <td>833.51</td>\n",
       "      <td>831.07</td>\n",
       "      <td>833.68</td>\n",
       "      <td>825.40</td>\n",
       "      <td>1222377</td>\n",
       "      <td>0.0</td>\n",
       "    </tr>\n",
       "    <tr>\n",
       "      <th>109</th>\n",
       "      <td>20230329</td>\n",
       "      <td>843.94</td>\n",
       "      <td>833.90</td>\n",
       "      <td>843.94</td>\n",
       "      <td>832.44</td>\n",
       "      <td>1281668</td>\n",
       "      <td>0.0</td>\n",
       "    </tr>\n",
       "  </tbody>\n",
       "</table>\n",
       "</div>\n",
       "      <button class=\"colab-df-convert\" onclick=\"convertToInteractive('df-a588d66b-c0f0-44f3-8438-dcc9a68edaa6')\"\n",
       "              title=\"Convert this dataframe to an interactive table.\"\n",
       "              style=\"display:none;\">\n",
       "        \n",
       "  <svg xmlns=\"http://www.w3.org/2000/svg\" height=\"24px\"viewBox=\"0 0 24 24\"\n",
       "       width=\"24px\">\n",
       "    <path d=\"M0 0h24v24H0V0z\" fill=\"none\"/>\n",
       "    <path d=\"M18.56 5.44l.94 2.06.94-2.06 2.06-.94-2.06-.94-.94-2.06-.94 2.06-2.06.94zm-11 1L8.5 8.5l.94-2.06 2.06-.94-2.06-.94L8.5 2.5l-.94 2.06-2.06.94zm10 10l.94 2.06.94-2.06 2.06-.94-2.06-.94-.94-2.06-.94 2.06-2.06.94z\"/><path d=\"M17.41 7.96l-1.37-1.37c-.4-.4-.92-.59-1.43-.59-.52 0-1.04.2-1.43.59L10.3 9.45l-7.72 7.72c-.78.78-.78 2.05 0 2.83L4 21.41c.39.39.9.59 1.41.59.51 0 1.02-.2 1.41-.59l7.78-7.78 2.81-2.81c.8-.78.8-2.07 0-2.86zM5.41 20L4 18.59l7.72-7.72 1.47 1.35L5.41 20z\"/>\n",
       "  </svg>\n",
       "      </button>\n",
       "      \n",
       "  <style>\n",
       "    .colab-df-container {\n",
       "      display:flex;\n",
       "      flex-wrap:wrap;\n",
       "      gap: 12px;\n",
       "    }\n",
       "\n",
       "    .colab-df-convert {\n",
       "      background-color: #E8F0FE;\n",
       "      border: none;\n",
       "      border-radius: 50%;\n",
       "      cursor: pointer;\n",
       "      display: none;\n",
       "      fill: #1967D2;\n",
       "      height: 32px;\n",
       "      padding: 0 0 0 0;\n",
       "      width: 32px;\n",
       "    }\n",
       "\n",
       "    .colab-df-convert:hover {\n",
       "      background-color: #E2EBFA;\n",
       "      box-shadow: 0px 1px 2px rgba(60, 64, 67, 0.3), 0px 1px 3px 1px rgba(60, 64, 67, 0.15);\n",
       "      fill: #174EA6;\n",
       "    }\n",
       "\n",
       "    [theme=dark] .colab-df-convert {\n",
       "      background-color: #3B4455;\n",
       "      fill: #D2E3FC;\n",
       "    }\n",
       "\n",
       "    [theme=dark] .colab-df-convert:hover {\n",
       "      background-color: #434B5C;\n",
       "      box-shadow: 0px 1px 3px 1px rgba(0, 0, 0, 0.15);\n",
       "      filter: drop-shadow(0px 1px 2px rgba(0, 0, 0, 0.3));\n",
       "      fill: #FFFFFF;\n",
       "    }\n",
       "  </style>\n",
       "\n",
       "      <script>\n",
       "        const buttonEl =\n",
       "          document.querySelector('#df-a588d66b-c0f0-44f3-8438-dcc9a68edaa6 button.colab-df-convert');\n",
       "        buttonEl.style.display =\n",
       "          google.colab.kernel.accessAllowed ? 'block' : 'none';\n",
       "\n",
       "        async function convertToInteractive(key) {\n",
       "          const element = document.querySelector('#df-a588d66b-c0f0-44f3-8438-dcc9a68edaa6');\n",
       "          const dataTable =\n",
       "            await google.colab.kernel.invokeFunction('convertToInteractive',\n",
       "                                                     [key], {});\n",
       "          if (!dataTable) return;\n",
       "\n",
       "          const docLinkHtml = 'Like what you see? Visit the ' +\n",
       "            '<a target=\"_blank\" href=https://colab.research.google.com/notebooks/data_table.ipynb>data table notebook</a>'\n",
       "            + ' to learn more about interactive tables.';\n",
       "          element.innerHTML = '';\n",
       "          dataTable['output_type'] = 'display_data';\n",
       "          await google.colab.output.renderOutput(dataTable, element);\n",
       "          const docLink = document.createElement('div');\n",
       "          docLink.innerHTML = docLinkHtml;\n",
       "          element.appendChild(docLink);\n",
       "        }\n",
       "      </script>\n",
       "    </div>\n",
       "  </div>\n",
       "  "
      ],
      "text/plain": [
       "    localDate  closePrice  openPrice  highPrice  lowPrice  \\\n",
       "105  20230323      812.19     807.53     824.20    806.40   \n",
       "106  20230324      824.11     820.16     824.11    814.07   \n",
       "107  20230327      827.69     827.95     829.18    817.81   \n",
       "108  20230328      833.51     831.07     833.68    825.40   \n",
       "109  20230329      843.94     833.90     843.94    832.44   \n",
       "\n",
       "     accumulatedTradingVolume  foreignRetentionRate  \n",
       "105                   1177437                   0.0  \n",
       "106                   1292725                   0.0  \n",
       "107                   1176553                   0.0  \n",
       "108                   1222377                   0.0  \n",
       "109                   1281668                   0.0  "
      ]
     },
     "execution_count": 21,
     "metadata": {},
     "output_type": "execute_result"
    }
   ],
   "source": [
    "kosdaq_df = pd.DataFrame(datas)\n",
    "kosdaq_df.tail()"
   ]
  },
  {
   "cell_type": "code",
   "execution_count": 22,
   "metadata": {
    "colab": {
     "base_uri": "https://localhost:8080/",
     "height": 206
    },
    "executionInfo": {
     "elapsed": 1527,
     "status": "ok",
     "timestamp": 1680072178102,
     "user": {
      "displayName": "소민호",
      "userId": "16551848544638359832"
     },
     "user_tz": -540
    },
    "id": "LfOar6RLGnzk",
    "outputId": "84fc4301-1c48-4dc5-df22-8dfe3bbe0840"
   },
   "outputs": [
    {
     "data": {
      "text/html": [
       "\n",
       "  <div id=\"df-e562f4a3-c417-451a-83a5-2dc107adccfb\">\n",
       "    <div class=\"colab-df-container\">\n",
       "      <div>\n",
       "<style scoped>\n",
       "    .dataframe tbody tr th:only-of-type {\n",
       "        vertical-align: middle;\n",
       "    }\n",
       "\n",
       "    .dataframe tbody tr th {\n",
       "        vertical-align: top;\n",
       "    }\n",
       "\n",
       "    .dataframe thead th {\n",
       "        text-align: right;\n",
       "    }\n",
       "</style>\n",
       "<table border=\"1\" class=\"dataframe\">\n",
       "  <thead>\n",
       "    <tr style=\"text-align: right;\">\n",
       "      <th></th>\n",
       "      <th>localDate</th>\n",
       "      <th>closePrice</th>\n",
       "      <th>openPrice</th>\n",
       "      <th>highPrice</th>\n",
       "      <th>lowPrice</th>\n",
       "    </tr>\n",
       "  </thead>\n",
       "  <tbody>\n",
       "    <tr>\n",
       "      <th>120</th>\n",
       "      <td>20230323</td>\n",
       "      <td>1284.0</td>\n",
       "      <td>0.0</td>\n",
       "      <td>1284.0</td>\n",
       "      <td>1284.0</td>\n",
       "    </tr>\n",
       "    <tr>\n",
       "      <th>121</th>\n",
       "      <td>20230324</td>\n",
       "      <td>1300.0</td>\n",
       "      <td>0.0</td>\n",
       "      <td>1300.0</td>\n",
       "      <td>1300.0</td>\n",
       "    </tr>\n",
       "    <tr>\n",
       "      <th>122</th>\n",
       "      <td>20230327</td>\n",
       "      <td>1302.0</td>\n",
       "      <td>0.0</td>\n",
       "      <td>1302.0</td>\n",
       "      <td>1302.0</td>\n",
       "    </tr>\n",
       "    <tr>\n",
       "      <th>123</th>\n",
       "      <td>20230328</td>\n",
       "      <td>1300.5</td>\n",
       "      <td>0.0</td>\n",
       "      <td>1300.5</td>\n",
       "      <td>1300.5</td>\n",
       "    </tr>\n",
       "    <tr>\n",
       "      <th>124</th>\n",
       "      <td>20230329</td>\n",
       "      <td>1303.0</td>\n",
       "      <td>0.0</td>\n",
       "      <td>1303.0</td>\n",
       "      <td>1303.0</td>\n",
       "    </tr>\n",
       "  </tbody>\n",
       "</table>\n",
       "</div>\n",
       "      <button class=\"colab-df-convert\" onclick=\"convertToInteractive('df-e562f4a3-c417-451a-83a5-2dc107adccfb')\"\n",
       "              title=\"Convert this dataframe to an interactive table.\"\n",
       "              style=\"display:none;\">\n",
       "        \n",
       "  <svg xmlns=\"http://www.w3.org/2000/svg\" height=\"24px\"viewBox=\"0 0 24 24\"\n",
       "       width=\"24px\">\n",
       "    <path d=\"M0 0h24v24H0V0z\" fill=\"none\"/>\n",
       "    <path d=\"M18.56 5.44l.94 2.06.94-2.06 2.06-.94-2.06-.94-.94-2.06-.94 2.06-2.06.94zm-11 1L8.5 8.5l.94-2.06 2.06-.94-2.06-.94L8.5 2.5l-.94 2.06-2.06.94zm10 10l.94 2.06.94-2.06 2.06-.94-2.06-.94-.94-2.06-.94 2.06-2.06.94z\"/><path d=\"M17.41 7.96l-1.37-1.37c-.4-.4-.92-.59-1.43-.59-.52 0-1.04.2-1.43.59L10.3 9.45l-7.72 7.72c-.78.78-.78 2.05 0 2.83L4 21.41c.39.39.9.59 1.41.59.51 0 1.02-.2 1.41-.59l7.78-7.78 2.81-2.81c.8-.78.8-2.07 0-2.86zM5.41 20L4 18.59l7.72-7.72 1.47 1.35L5.41 20z\"/>\n",
       "  </svg>\n",
       "      </button>\n",
       "      \n",
       "  <style>\n",
       "    .colab-df-container {\n",
       "      display:flex;\n",
       "      flex-wrap:wrap;\n",
       "      gap: 12px;\n",
       "    }\n",
       "\n",
       "    .colab-df-convert {\n",
       "      background-color: #E8F0FE;\n",
       "      border: none;\n",
       "      border-radius: 50%;\n",
       "      cursor: pointer;\n",
       "      display: none;\n",
       "      fill: #1967D2;\n",
       "      height: 32px;\n",
       "      padding: 0 0 0 0;\n",
       "      width: 32px;\n",
       "    }\n",
       "\n",
       "    .colab-df-convert:hover {\n",
       "      background-color: #E2EBFA;\n",
       "      box-shadow: 0px 1px 2px rgba(60, 64, 67, 0.3), 0px 1px 3px 1px rgba(60, 64, 67, 0.15);\n",
       "      fill: #174EA6;\n",
       "    }\n",
       "\n",
       "    [theme=dark] .colab-df-convert {\n",
       "      background-color: #3B4455;\n",
       "      fill: #D2E3FC;\n",
       "    }\n",
       "\n",
       "    [theme=dark] .colab-df-convert:hover {\n",
       "      background-color: #434B5C;\n",
       "      box-shadow: 0px 1px 3px 1px rgba(0, 0, 0, 0.15);\n",
       "      filter: drop-shadow(0px 1px 2px rgba(0, 0, 0, 0.3));\n",
       "      fill: #FFFFFF;\n",
       "    }\n",
       "  </style>\n",
       "\n",
       "      <script>\n",
       "        const buttonEl =\n",
       "          document.querySelector('#df-e562f4a3-c417-451a-83a5-2dc107adccfb button.colab-df-convert');\n",
       "        buttonEl.style.display =\n",
       "          google.colab.kernel.accessAllowed ? 'block' : 'none';\n",
       "\n",
       "        async function convertToInteractive(key) {\n",
       "          const element = document.querySelector('#df-e562f4a3-c417-451a-83a5-2dc107adccfb');\n",
       "          const dataTable =\n",
       "            await google.colab.kernel.invokeFunction('convertToInteractive',\n",
       "                                                     [key], {});\n",
       "          if (!dataTable) return;\n",
       "\n",
       "          const docLinkHtml = 'Like what you see? Visit the ' +\n",
       "            '<a target=\"_blank\" href=https://colab.research.google.com/notebooks/data_table.ipynb>data table notebook</a>'\n",
       "            + ' to learn more about interactive tables.';\n",
       "          element.innerHTML = '';\n",
       "          dataTable['output_type'] = 'display_data';\n",
       "          await google.colab.output.renderOutput(dataTable, element);\n",
       "          const docLink = document.createElement('div');\n",
       "          docLink.innerHTML = docLinkHtml;\n",
       "          element.appendChild(docLink);\n",
       "        }\n",
       "      </script>\n",
       "    </div>\n",
       "  </div>\n",
       "  "
      ],
      "text/plain": [
       "    localDate  closePrice  openPrice  highPrice  lowPrice\n",
       "120  20230323      1284.0        0.0     1284.0    1284.0\n",
       "121  20230324      1300.0        0.0     1300.0    1300.0\n",
       "122  20230327      1302.0        0.0     1302.0    1302.0\n",
       "123  20230328      1300.5        0.0     1300.5    1300.5\n",
       "124  20230329      1303.0        0.0     1303.0    1303.0"
      ]
     },
     "execution_count": 22,
     "metadata": {},
     "output_type": "execute_result"
    }
   ],
   "source": [
    "# USD 크롤링\n",
    "url = \"https://api.stock.naver.com/chart/domestic/marketindex/FX_USDKRW?periodType=month&range=6\"\n",
    "res = requests.get(url)\n",
    "datas = res.json()[\"priceInfos\"]\n",
    "usd_df = pd.DataFrame(datas)\n",
    "usd_df.tail()"
   ]
  },
  {
   "cell_type": "code",
   "execution_count": 23,
   "metadata": {
    "executionInfo": {
     "elapsed": 288,
     "status": "ok",
     "timestamp": 1680072207287,
     "user": {
      "displayName": "소민호",
      "userId": "16551848544638359832"
     },
     "user_tz": -540
    },
    "id": "qYz2j-W0GvAk"
   },
   "outputs": [],
   "source": [
    "kospi_df_0329 = kospi_df[kospi_df[\"localDate\"] >= \"20230101\"]\n",
    "kosdaq_df_0329 = kosdaq_df[kosdaq_df[\"localDate\"] >= \"20230101\"]\n",
    "usd_df_0329 = usd_df[usd_df[\"localDate\"] >= \"20230101\"]"
   ]
  },
  {
   "cell_type": "code",
   "execution_count": 24,
   "metadata": {
    "executionInfo": {
     "elapsed": 3202,
     "status": "ok",
     "timestamp": 1680072215468,
     "user": {
      "displayName": "소민호",
      "userId": "16551848544638359832"
     },
     "user_tz": -540
    },
    "id": "yJ1kLerZG2jV"
   },
   "outputs": [],
   "source": [
    "import matplotlib.pyplot as plt\n",
    "import seaborn as sns\n",
    "\n",
    "sns.set() # matplotlib을 활용해도 seaborn 스타일로 사용이 된다."
   ]
  },
  {
   "cell_type": "code",
   "execution_count": 26,
   "metadata": {
    "colab": {
     "base_uri": "https://localhost:8080/",
     "height": 614
    },
    "executionInfo": {
     "elapsed": 2166,
     "status": "ok",
     "timestamp": 1680072244597,
     "user": {
      "displayName": "소민호",
      "userId": "16551848544638359832"
     },
     "user_tz": -540
    },
    "id": "9ZgyyP9iG3ll",
    "outputId": "6cc2eb66-1245-44aa-d0ca-3bf098768ed8"
   },
   "outputs": [
    {
     "data": {
      "image/png": "[encoded data removed]",
      "text/plain": [
       "<Figure size 1440x720 with 1 Axes>"
      ]
     },
     "metadata": {},
     "output_type": "display_data"
    }
   ],
   "source": [
    "plt.figure(figsize=(20, 10))\n",
    "\n",
    "plt.plot(kospi_df_0329[\"localDate\"], kospi_df_0329[\"closePrice\"], \"r*:\", label=\"kospi\")\n",
    "plt.plot(kosdaq_df_0329[\"localDate\"], kosdaq_df_0329[\"closePrice\"], \"bo:\", label=\"kosdaq\")\n",
    "plt.plot(usd_df_0329[\"localDate\"], usd_df_0329[\"closePrice\"], \"g^--\", label=\"usd\")\n",
    "plt.xticks(rotation=45, fontsize=7)\n",
    "plt.legend()\n",
    "plt.show()"
   ]
  },
  {
   "cell_type": "code",
   "execution_count": 27,
   "metadata": {
    "colab": {
     "base_uri": "https://localhost:8080/"
    },
    "executionInfo": {
     "elapsed": 349,
     "status": "ok",
     "timestamp": 1680072269624,
     "user": {
      "displayName": "소민호",
      "userId": "16551848544638359832"
     },
     "user_tz": -540
    },
    "id": "ohJnT7hRG4sc",
    "outputId": "de51c365-06ff-4197-f31d-438707daeeb5"
   },
   "outputs": [
    {
     "data": {
      "text/plain": [
       "array([0.02634356, 0.        , 0.14057436, 0.17324942, 0.26867415,\n",
       "       0.49562825, 0.49984925, 0.53082837, 0.55182031, 0.63092636,\n",
       "       0.68282204, 0.60567574, 0.56395568, 0.60925605, 0.66548579,\n",
       "       0.79102284, 0.94207432, 1.        , 0.87355845, 0.7778699 ,\n",
       "       0.87103339, 0.94294113, 0.98635713, 0.82727821, 0.8782317 ,\n",
       "       0.99856788, 0.99057813, 0.94614457, 0.88196276, 0.93073038,\n",
       "       0.78849778, 0.96781488, 0.87634733, 0.89108314, 0.90555514,\n",
       "       0.74998116, 0.83067008, 0.77232984, 0.69329916, 0.7317781 ,\n",
       "       0.78830934, 0.80421346, 0.91934876, 0.92209995, 0.80361046,\n",
       "       0.75529509, 0.66296073, 0.72329841, 0.49103038, 0.60691942,\n",
       "       0.60009799, 0.66710635, 0.60495967, 0.63944373, 0.74726766,\n",
       "       0.77560865, 0.73973016, 0.71809754, 0.81502977, 0.8146529 ])"
      ]
     },
     "execution_count": 27,
     "metadata": {},
     "output_type": "execute_result"
    }
   ],
   "source": [
    "# MinMax Scaling을 해주는 함수 사용하기\n",
    "from sklearn.preprocessing import minmax_scale\n",
    "\n",
    "minmax_scale(kospi_df_0329[\"closePrice\"])"
   ]
  },
  {
   "cell_type": "code",
   "execution_count": 28,
   "metadata": {
    "colab": {
     "base_uri": "https://localhost:8080/",
     "height": 505
    },
    "executionInfo": {
     "elapsed": 3255,
     "status": "ok",
     "timestamp": 1680072296120,
     "user": {
      "displayName": "소민호",
      "userId": "16551848544638359832"
     },
     "user_tz": -540
    },
    "id": "k4sXeQhMHFm2",
    "outputId": "dcad35f3-aa71-47ff-9477-a877eff9c0e9"
   },
   "outputs": [
    {
     "data": {
      "image/png": "[encoded data removed]",
      "text/plain": [
       "<Figure size 1440x576 with 1 Axes>"
      ]
     },
     "metadata": {},
     "output_type": "display_data"
    }
   ],
   "source": [
    "plt.figure(figsize=(20, 8))\n",
    "\n",
    "plt.plot(kospi_df_0329[\"localDate\"], minmax_scale(kospi_df_0329[\"closePrice\"]), \"r*:\", label=\"kospi\")\n",
    "plt.plot(kosdaq_df_0329[\"localDate\"],minmax_scale(kosdaq_df_0329[\"closePrice\"]), \"bo:\", label=\"kosdaq\")\n",
    "plt.plot(usd_df_0329[\"localDate\"],   minmax_scale(usd_df_0329[\"closePrice\"]), \"g^--\", label=\"usd\")\n",
    "plt.xticks(rotation=45, fontsize=7)\n",
    "plt.legend()\n",
    "plt.show()"
   ]
  },
  {
   "cell_type": "code",
   "execution_count": 29,
   "metadata": {
    "colab": {
     "base_uri": "https://localhost:8080/"
    },
    "executionInfo": {
     "elapsed": 1028,
     "status": "ok",
     "timestamp": 1680074036284,
     "user": {
      "displayName": "소민호",
      "userId": "16551848544638359832"
     },
     "user_tz": -540
    },
    "id": "uIex7QquHLbs",
    "outputId": "f7643da6-516d-4332-ecb7-afb268c1873f"
   },
   "outputs": [
    {
     "data": {
      "text/plain": [
       "0.648698947974674"
      ]
     },
     "execution_count": 29,
     "metadata": {},
     "output_type": "execute_result"
    }
   ],
   "source": [
    "# 코스피, 코스닥, 미 환율 상관관계 확인\n",
    "import numpy as np\n",
    "\n",
    "# 코스피 : 코스닥 상관관계\n",
    "np.corrcoef(kospi_df_0329[\"closePrice\"], kosdaq_df_0329[\"closePrice\"])[0, 1]"
   ]
  },
  {
   "cell_type": "code",
   "execution_count": 30,
   "metadata": {
    "colab": {
     "base_uri": "https://localhost:8080/"
    },
    "executionInfo": {
     "elapsed": 417,
     "status": "ok",
     "timestamp": 1680074074038,
     "user": {
      "displayName": "소민호",
      "userId": "16551848544638359832"
     },
     "user_tz": -540
    },
    "id": "DAF0iWrTN0vq",
    "outputId": "42752896-5f54-4022-9c4b-362c533e52f6"
   },
   "outputs": [
    {
     "data": {
      "text/plain": [
       "0.012095583931858207"
      ]
     },
     "execution_count": 30,
     "metadata": {},
     "output_type": "execute_result"
    }
   ],
   "source": [
    "# 코스피 : 미 달러 환율 상관관계\n",
    "np.corrcoef(kospi_df_0329[\"closePrice\"], usd_df_0329[\"closePrice\"])[0, 1]"
   ]
  },
  {
   "cell_type": "code",
   "execution_count": null,
   "metadata": {
    "id": "Bz2U6oiTN975"
   },
   "outputs": [],
   "source": []
  }
 ],
 "metadata": {
  "colab": {
   "authorship_tag": "ABX9TyMbyR84IG7zZEHex34f40Km",
   "provenance": []
  },
  "kernelspec": {
   "display_name": "Python 3 (ipykernel)",
   "language": "python",
   "name": "python3"
  },
  "language_info": {
   "codemirror_mode": {
    "name": "ipython",
    "version": 3
   },
   "file_extension": ".py",
   "mimetype": "text/x-python",
   "name": "python",
   "nbconvert_exporter": "python",
   "pygments_lexer": "ipython3",
   "version": "3.9.12"
  }
 },
 "nbformat": 4,
 "nbformat_minor": 1
}
