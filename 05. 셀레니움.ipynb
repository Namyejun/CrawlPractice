{
 "cells": [
  {
   "cell_type": "code",
   "execution_count": 1,
   "id": "6d3d8c0b",
   "metadata": {},
   "outputs": [],
   "source": [
    "from selenium import webdriver\n",
    "#!pip install selenium"
   ]
  },
  {
   "cell_type": "code",
   "execution_count": 2,
   "id": "f7e0d3ff",
   "metadata": {},
   "outputs": [
    {
     "name": "stderr",
     "output_type": "stream",
     "text": [
      "C:\\Users\\yejun\\AppData\\Local\\Temp\\ipykernel_9236\\154566644.py:1: DeprecationWarning: executable_path has been deprecated, please pass in a Service object\n",
      "  driver = webdriver.Chrome('/chromedriver')\n"
     ]
    }
   ],
   "source": [
    "driver = webdriver.Chrome('/chromedriver')"
   ]
  },
  {
   "cell_type": "markdown",
   "id": "d8021816",
   "metadata": {},
   "source": [
    "driver 객체를 통해 테스트 브라우저를 컨트롤할 수 있다."
   ]
  },
  {
   "cell_type": "code",
   "execution_count": 3,
   "id": "79e4ee22",
   "metadata": {},
   "outputs": [],
   "source": [
    "driver.get(\"https://naver.com\")"
   ]
  },
  {
   "cell_type": "markdown",
   "id": "ccb50b4a",
   "metadata": {},
   "source": [
    "driver를 통해 Element 제어"
   ]
  },
  {
   "cell_type": "code",
   "execution_count": 4,
   "id": "17fbf547",
   "metadata": {},
   "outputs": [
    {
     "data": {
      "text/plain": [
       "<selenium.webdriver.remote.webelement.WebElement (session=\"d0059c2ca8db0968bf1b25a904204475\", element=\"b971f341-4a96-43ac-94db-ca421e992d1d\")>"
      ]
     },
     "execution_count": 4,
     "metadata": {},
     "output_type": "execute_result"
    }
   ],
   "source": [
    "# 엘리먼트를 제어하려면 엘리먼트의 정보가 필요\n",
    "# - 엘리먼트의 정보 : 태그명, 선택자, 속성 등등\n",
    "from selenium.webdriver.common.by import By\n",
    "query_elem = driver.find_element(\n",
    "By.CSS_SELECTOR,\n",
    "\"#query\"\n",
    ")\n",
    "query_elem"
   ]
  },
  {
   "cell_type": "code",
   "execution_count": 5,
   "id": "ac2f0837",
   "metadata": {},
   "outputs": [],
   "source": [
    "# 파이썬 코드를 통해 element에 어떤 값을 입력 - send_keys\n",
    "query_elem.send_keys(\"집에가고 싶다\")"
   ]
  },
  {
   "cell_type": "code",
   "execution_count": 6,
   "id": "e1cecc0f",
   "metadata": {},
   "outputs": [],
   "source": [
    "query_elem.send_keys(\"비트코인\")"
   ]
  },
  {
   "cell_type": "code",
   "execution_count": 7,
   "id": "59582881",
   "metadata": {},
   "outputs": [],
   "source": [
    "query_elem.clear()"
   ]
  },
  {
   "cell_type": "code",
   "execution_count": 8,
   "id": "876f18fa",
   "metadata": {},
   "outputs": [],
   "source": [
    "query_elem.send_keys(\"뉴진스\")"
   ]
  },
  {
   "cell_type": "code",
   "execution_count": 9,
   "id": "070d47b0",
   "metadata": {},
   "outputs": [
    {
     "data": {
      "text/plain": [
       "<selenium.webdriver.remote.webelement.WebElement (session=\"d0059c2ca8db0968bf1b25a904204475\", element=\"ae931d48-9bcf-4794-a7f1-96af51b80554\")>"
      ]
     },
     "execution_count": 9,
     "metadata": {},
     "output_type": "execute_result"
    }
   ],
   "source": [
    "# 검색 버튼 누르기\n",
    "search_btn_elem = driver.find_element(\n",
    "By.CSS_SELECTOR,\n",
    "\"#search_btn\"\n",
    ")\n",
    "search_btn_elem"
   ]
  },
  {
   "cell_type": "code",
   "execution_count": 10,
   "id": "d808bca2",
   "metadata": {},
   "outputs": [],
   "source": [
    "search_btn_elem.click()"
   ]
  },
  {
   "cell_type": "code",
   "execution_count": 11,
   "id": "67ef239d",
   "metadata": {},
   "outputs": [],
   "source": [
    "# 브라우저 창(window) 크기 조절\n",
    "driver.set_window_size(300,800)"
   ]
  },
  {
   "cell_type": "code",
   "execution_count": 13,
   "id": "b1adb0cb",
   "metadata": {},
   "outputs": [],
   "source": [
    "# 스크롤 위치 조절 - javascript 활용\n",
    "# 자바스크립트를 문자열로 작성해서 실행\n",
    "driver.execute_script(\"window.scrollTo(100, 600)\")"
   ]
  },
  {
   "cell_type": "code",
   "execution_count": 14,
   "id": "a2285456",
   "metadata": {},
   "outputs": [],
   "source": [
    "# 사용이 끝났으면 quit\n",
    "driver.quit()"
   ]
  },
  {
   "cell_type": "code",
   "execution_count": null,
   "id": "ebad43bf",
   "metadata": {},
   "outputs": [],
   "source": []
  }
 ],
 "metadata": {
  "kernelspec": {
   "display_name": "Python 3 (ipykernel)",
   "language": "python",
   "name": "python3"
  },
  "language_info": {
   "codemirror_mode": {
    "name": "ipython",
    "version": 3
   },
   "file_extension": ".py",
   "mimetype": "text/x-python",
   "name": "python",
   "nbconvert_exporter": "python",
   "pygments_lexer": "ipython3",
   "version": "3.9.12"
  }
 },
 "nbformat": 4,
 "nbformat_minor": 5
}
