{
 "cells": [
  {
   "cell_type": "markdown",
   "id": "0669b958",
   "metadata": {},
   "source": [
    "# User-Agent 부여하기\n",
    "- User-Agent란? 클라이언트가 서버에 접속하는 플랫폼\n",
    "    - 현재 우리가 사용하고 있는 User-Agent? ->  브라우저(크롬, 사파리... etc)\n",
    "- 만약 서버에서 크롤링 봇으로 접근하는 것을 차단한다면?\n",
    "    - 브라우저가 아니면 접근 금지!"
   ]
  },
  {
   "cell_type": "code",
   "execution_count": 1,
   "id": "bba3487f",
   "metadata": {},
   "outputs": [
    {
     "data": {
      "text/plain": [
       "<Response [200]>"
      ]
     },
     "execution_count": 1,
     "metadata": {},
     "output_type": "execute_result"
    }
   ],
   "source": [
    "import requests\n",
    "# 무신사 접속해보기\n",
    "\n",
    "MUSINSA_SHOES_LIST_URL = \"https://www.musinsa.com/categories/item/005\"\n",
    "response = requests.get(MUSINSA_SHOES_LIST_URL)\n",
    "response"
   ]
  },
  {
   "cell_type": "code",
   "execution_count": 2,
   "id": "02d9f865",
   "metadata": {
    "scrolled": true
   },
   "outputs": [
    {
     "data": {
      "text/plain": [
       "<Response [403]>"
      ]
     },
     "execution_count": 2,
     "metadata": {},
     "output_type": "execute_result"
    }
   ],
   "source": [
    "# 상세 페이지는 error\n",
    "MUSINSA_SHOES_DETAIL_URL = \"https://www.musinsa.com/app/goods/1339622\"\n",
    "response = requests.get(MUSINSA_SHOES_DETAIL_URL)\n",
    "response\n",
    "# 파이썬 프로그램은 denie 됨\n",
    "# 그래서 브라우저라고 속일거임\n",
    "# pip install fake_useragent"
   ]
  },
  {
   "cell_type": "markdown",
   "id": "f6ca00ea",
   "metadata": {},
   "source": [
    "fake_useragent : User Agent를 랜덤으로 만들어 준다. <br>\n",
    "문자열로 입력해도 되지만 이렇게 하면 매번 랜덤하게 골라준다고 한다."
   ]
  },
  {
   "cell_type": "code",
   "execution_count": 3,
   "id": "82f3f537",
   "metadata": {},
   "outputs": [],
   "source": [
    "from fake_useragent import UserAgent"
   ]
  },
  {
   "cell_type": "code",
   "execution_count": 4,
   "id": "e4ada572",
   "metadata": {},
   "outputs": [
    {
     "data": {
      "text/plain": [
       "{'User-agent': 'Mozilla/5.0 (X11; U; Linux i686; en-US) AppleWebKit/534.15 (KHTML, like Gecko) Ubuntu/10.10 Chromium/10.0.611.0 Chrome/10.0.611.0 Safari/534.15'}"
      ]
     },
     "execution_count": 4,
     "metadata": {},
     "output_type": "execute_result"
    }
   ],
   "source": [
    "headers = {'User-agent' : UserAgent().chrome}\n",
    "headers\n",
    "# OS와 UserAgent 등을 다 매번 바꿔줌"
   ]
  },
  {
   "cell_type": "code",
   "execution_count": 15,
   "id": "9a93fa0b",
   "metadata": {},
   "outputs": [
    {
     "data": {
      "text/plain": [
       "<Response [200]>"
      ]
     },
     "execution_count": 15,
     "metadata": {},
     "output_type": "execute_result"
    }
   ],
   "source": [
    "response = requests.get(MUSINSA_SHOES_DETAIL_URL, headers = headers)\n",
    "response"
   ]
  },
  {
   "cell_type": "markdown",
   "id": "c2c76a8c",
   "metadata": {},
   "source": [
    "# Selenium 옵션"
   ]
  },
  {
   "cell_type": "code",
   "execution_count": 16,
   "id": "075da170",
   "metadata": {},
   "outputs": [],
   "source": [
    "from selenium import webdriver\n",
    "from selenium.webdriver.chrome.service import Service\n",
    "from webdriver_manager.chrome import ChromeDriverManager\n",
    "\n",
    "# usergent를 임의로 설정할 수 있는 driver 생성 함수\n",
    "\n",
    "def get_chrome_driver_useragent():\n",
    "    agent = UserAgent().chrome\n",
    "    chrome_options = webdriver.ChromeOptions()\n",
    "    \n",
    "    chrome_options.add_argument(\"user-agent{}\".format(UserAgent().chrome)) # 크롬이 아닌 것처럼 속일 수 있다.\n",
    "    \n",
    "    driver = webdriver.Chrome(\n",
    "        service=Service(ChromeDriverManager().install()),\n",
    "        options=chrome_options\n",
    "    )\n",
    "    \n",
    "    return driver"
   ]
  },
  {
   "cell_type": "code",
   "execution_count": 17,
   "id": "8ff67fb1",
   "metadata": {},
   "outputs": [],
   "source": [
    "driver = get_chrome_driver_useragent()"
   ]
  },
  {
   "cell_type": "code",
   "execution_count": 18,
   "id": "cd3dabbc",
   "metadata": {},
   "outputs": [
    {
     "data": {
      "text/plain": [
       "'Mozilla/5.0 (Windows NT 10.0; Win64; x64) AppleWebKit/537.36 (KHTML, like Gecko) Chrome/111.0.0.0 Safari/537.36'"
      ]
     },
     "execution_count": 18,
     "metadata": {},
     "output_type": "execute_result"
    }
   ],
   "source": [
    "driver.execute_script(\"return navigator.userAgent;\")"
   ]
  },
  {
   "cell_type": "code",
   "execution_count": 19,
   "id": "a37b6c57",
   "metadata": {},
   "outputs": [],
   "source": [
    "driver.quit()"
   ]
  },
  {
   "cell_type": "markdown",
   "id": "64230835",
   "metadata": {},
   "source": [
    "selenium으로 크롤링 할 때 중요한 옵션\n",
    "- Headless : 브라우저를 화면에 띄우지 않고 컴퓨터 내부에서만 돌아가도록\n",
    "- Windows, Mac 같은 GUI 환경 OS에서는 화면이 뜬다\n",
    "- Linux 같은 경우는 CLI 환경 OS에서는 명령창만 뜬다.\n",
    "- 크롬같은 경우는 메모리를 굉장히 많이 잡아먹는 브라우저라서, 메모리를 아끼기 위해 headless 옵션을 쓴다."
   ]
  },
  {
   "cell_type": "code",
   "execution_count": 20,
   "id": "b6cc2f8e",
   "metadata": {},
   "outputs": [],
   "source": [
    "def get_chrome_driver_headless(): # 브라우저가 안뜸\n",
    "    agent = UserAgent().chrome\n",
    "    chrome_options = webdriver.ChromeOptions()\n",
    "    \n",
    "    chrome_options.add_argument(\"headless\")\n",
    "    \n",
    "    driver = webdriver.Chrome(\n",
    "        service=Service(ChromeDriverManager().install()),\n",
    "        options=chrome_options\n",
    "    )\n",
    "    \n",
    "    return driver"
   ]
  },
  {
   "cell_type": "code",
   "execution_count": 22,
   "id": "c12d903c",
   "metadata": {},
   "outputs": [],
   "source": [
    "driver = get_chrome_driver_headless()"
   ]
  },
  {
   "cell_type": "code",
   "execution_count": 23,
   "id": "5d5d0c01",
   "metadata": {},
   "outputs": [],
   "source": [
    "driver.get(\"https://www.naver.com\")"
   ]
  },
  {
   "cell_type": "code",
   "execution_count": 24,
   "id": "6de625ee",
   "metadata": {},
   "outputs": [
    {
     "data": {
      "text/plain": [
       "'NAVER'"
      ]
     },
     "execution_count": 24,
     "metadata": {},
     "output_type": "execute_result"
    }
   ],
   "source": [
    "driver.title"
   ]
  },
  {
   "cell_type": "code",
   "execution_count": 25,
   "id": "849c97ac",
   "metadata": {},
   "outputs": [],
   "source": [
    "driver.quit()"
   ]
  },
  {
   "cell_type": "markdown",
   "id": "dbe8d952",
   "metadata": {},
   "source": [
    "셀레니움을 이용한 크롤링은 GUI 환경에서 모든 테스트를 마치고 headless 설정을 하여 CLI 환경으로 돌린다."
   ]
  }
 ],
 "metadata": {
  "kernelspec": {
   "display_name": "Python 3 (ipykernel)",
   "language": "python",
   "name": "python3"
  },
  "language_info": {
   "codemirror_mode": {
    "name": "ipython",
    "version": 3
   },
   "file_extension": ".py",
   "mimetype": "text/x-python",
   "name": "python",
   "nbconvert_exporter": "python",
   "pygments_lexer": "ipython3",
   "version": "3.9.12"
  }
 },
 "nbformat": 4,
 "nbformat_minor": 5
}
