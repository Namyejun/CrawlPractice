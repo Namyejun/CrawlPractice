{
 "cells": [
  {
   "cell_type": "code",
   "execution_count": 14,
   "metadata": {},
   "outputs": [],
   "source": [
    "import threading\n",
    "import queue"
   ]
  },
  {
   "cell_type": "code",
   "execution_count": 15,
   "metadata": {},
   "outputs": [],
   "source": [
    "q = queue.Queue()"
   ]
  },
  {
   "cell_type": "code",
   "execution_count": 16,
   "metadata": {},
   "outputs": [],
   "source": [
    "def f(v, queue):\n",
    "    \"\"\"\n",
    "    :param v: {\"input\": 특정 값, \"output\": None}\n",
    "    :return: 계산 결과를 포함한 object\n",
    "    \"\"\"\n",
    "    v[\"output\"] = 3 + v[\"input\"]\n",
    "    queue.put(v)"
   ]
  },
  {
   "cell_type": "code",
   "execution_count": 17,
   "metadata": {},
   "outputs": [],
   "source": [
    "variables = [{\"input\": 1}, {\"input\": 5}, {\"input\": 3}, {\"input\": 2} , {\"input\": 9}]\n",
    "threads = []"
   ]
  },
  {
   "cell_type": "code",
   "execution_count": 18,
   "metadata": {},
   "outputs": [],
   "source": [
    "for var in variables:\n",
    "    t = threading.Thread(target=f, args=(var, q))\n",
    "    t.start()\n",
    "    threads.append(t)"
   ]
  },
  {
   "cell_type": "code",
   "execution_count": 19,
   "metadata": {},
   "outputs": [],
   "source": [
    "for t in threads:\n",
    "    t.join()"
   ]
  },
  {
   "cell_type": "code",
   "execution_count": 23,
   "metadata": {},
   "outputs": [
    {
     "name": "stdout",
     "output_type": "stream",
     "text": [
      "[{'input': 1, 'output': 4}, {'input': 5, 'output': 8}, {'input': 3, 'output': 6}, {'input': 2, 'output': 5}, {'input': 9, 'output': 12}]\n"
     ]
    }
   ],
   "source": [
    "print(list(q.queue))"
   ]
  }
 ],
 "metadata": {
  "kernelspec": {
   "display_name": "base",
   "language": "python",
   "name": "python3"
  },
  "language_info": {
   "codemirror_mode": {
    "name": "ipython",
    "version": 3
   },
   "file_extension": ".py",
   "mimetype": "text/x-python",
   "name": "python",
   "nbconvert_exporter": "python",
   "pygments_lexer": "ipython3",
   "version": "3.9.12"
  },
  "orig_nbformat": 4
 },
 "nbformat": 4,
 "nbformat_minor": 2
}
