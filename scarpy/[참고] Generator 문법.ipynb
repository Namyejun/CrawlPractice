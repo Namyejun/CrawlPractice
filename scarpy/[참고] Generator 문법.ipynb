{
 "cells": [
  {
   "attachments": {},
   "cell_type": "markdown",
   "metadata": {},
   "source": [
    "# Iterator\n",
    "- `iterable` : 순서가 있는 데이터의 집합 (sequence) -> n번째 요소라고 부를 수 있는가? -> 인덱스가 존재하는가?\n",
    "  - list, tuple\n",
    "  - sequence는 iterator에 의해 iterable하다는 특징을 가진다.\n",
    "- iterator : 반복적으로 실행할 때마다 다른 결과값이 나오는 함수\n",
    "- iteration : iterator에서 값을 가져오는 행위"
   ]
  },
  {
   "cell_type": "code",
   "execution_count": 2,
   "metadata": {},
   "outputs": [],
   "source": [
    "lst = [3, 1, 2]\n",
    "lst_it = iter(lst)"
   ]
  },
  {
   "cell_type": "code",
   "execution_count": 13,
   "metadata": {},
   "outputs": [
    {
     "ename": "StopIteration",
     "evalue": "",
     "output_type": "error",
     "traceback": [
      "\u001b[1;31m---------------------------------------------------------------------------\u001b[0m",
      "\u001b[1;31mStopIteration\u001b[0m                             Traceback (most recent call last)",
      "\u001b[1;32mc:\\Users\\yejun\\MultiCampusLecture\\Crawl\\scarpy\\[참고] Generator 문법.ipynb Cell 3\u001b[0m in \u001b[0;36m<cell line: 2>\u001b[1;34m()\u001b[0m\n\u001b[0;32m      <a href='vscode-notebook-cell:/c%3A/Users/yejun/MultiCampusLecture/Crawl/scarpy/%5B%EC%B0%B8%EA%B3%A0%5D%20Generator%20%EB%AC%B8%EB%B2%95.ipynb#W4sZmlsZQ%3D%3D?line=0'>1</a>\u001b[0m \u001b[39m# iteration 수행\u001b[39;00m\n\u001b[1;32m----> <a href='vscode-notebook-cell:/c%3A/Users/yejun/MultiCampusLecture/Crawl/scarpy/%5B%EC%B0%B8%EA%B3%A0%5D%20Generator%20%EB%AC%B8%EB%B2%95.ipynb#W4sZmlsZQ%3D%3D?line=1'>2</a>\u001b[0m \u001b[39mnext\u001b[39;49m(lst_it)\n",
      "\u001b[1;31mStopIteration\u001b[0m: "
     ]
    }
   ],
   "source": [
    "# iteration 수행\n",
    "next(lst_it)"
   ]
  },
  {
   "attachments": {},
   "cell_type": "markdown",
   "metadata": {},
   "source": [
    "피보나치 수열\n",
    "- 1 1 2 3 5 8 ..."
   ]
  },
  {
   "cell_type": "code",
   "execution_count": 14,
   "metadata": {},
   "outputs": [],
   "source": [
    "class Fib:\n",
    "    def __init__(self) -> None:\n",
    "        self.prev = 0\n",
    "        self.curr = 1\n",
    "    \n",
    "    # 매직메소드 : 파이썬 클래스에서 기본적으로 제공하는 메소드\n",
    "    # __next__를 오버라이딩 하면 이 클래스의 객체는 Iterable한 자료형이 된다.\n",
    "    def __next__(self):\n",
    "        temp = self.prev\n",
    "        self.prev = self.curr\n",
    "        self.curr = temp + self.curr\n",
    "        \n",
    "        return self.curr"
   ]
  },
  {
   "cell_type": "code",
   "execution_count": 15,
   "metadata": {},
   "outputs": [],
   "source": [
    "fib = Fib()"
   ]
  },
  {
   "cell_type": "code",
   "execution_count": 106,
   "metadata": {},
   "outputs": [
    {
     "data": {
      "text/plain": [
       "7540113804746346429"
      ]
     },
     "execution_count": 106,
     "metadata": {},
     "output_type": "execute_result"
    }
   ],
   "source": [
    "next(fib) # __next__가 호출된다."
   ]
  },
  {
   "attachments": {},
   "cell_type": "markdown",
   "metadata": {},
   "source": [
    "# Generator\n",
    "- iterator를 간단하게 만든 것 : 실행할 때마다 다른 값이 나온다.\n",
    "- `yield` 또는 `yield from` 키워드를 사용하여 Generator를 만든다.\n",
    "  - yield가 떠있으면 generator가 된다.\n",
    "  - 사전적 의미는 '주는 것'이다.\n",
    "  - next를 호출했을 때 준다.\n",
    "  - yield는 코드의 block이다. yield를 만나면 값 반환 후 코드의 실행이 멈추고, next를 만나면 코드의 block을 지나게 된다."
   ]
  },
  {
   "cell_type": "code",
   "execution_count": 120,
   "metadata": {},
   "outputs": [],
   "source": [
    "def func_fib():\n",
    "    prev, curr = 0, 1\n",
    "\n",
    "    while True: # 무한으로 yield(값을 줄 수 있는)할 수 있는 함수\n",
    "        yield curr\n",
    "        # 값 반환 후 멈추는 지점\n",
    "        print(\"!\")\n",
    "        prev, curr = curr, prev + curr"
   ]
  },
  {
   "cell_type": "code",
   "execution_count": 121,
   "metadata": {},
   "outputs": [],
   "source": [
    "f = func_fib() # generator 객체를 만드는 행위"
   ]
  },
  {
   "cell_type": "code",
   "execution_count": 124,
   "metadata": {},
   "outputs": [
    {
     "name": "stdout",
     "output_type": "stream",
     "text": [
      "!\n"
     ]
    },
    {
     "data": {
      "text/plain": [
       "2"
      ]
     },
     "execution_count": 124,
     "metadata": {},
     "output_type": "execute_result"
    }
   ],
   "source": [
    "next(f)"
   ]
  },
  {
   "cell_type": "code",
   "execution_count": 116,
   "metadata": {},
   "outputs": [
    {
     "data": {
      "text/plain": [
       "<generator object func_fib at 0x0000011F2E7D40B0>"
      ]
     },
     "execution_count": 116,
     "metadata": {},
     "output_type": "execute_result"
    }
   ],
   "source": [
    "f"
   ]
  },
  {
   "cell_type": "code",
   "execution_count": 125,
   "metadata": {},
   "outputs": [
    {
     "data": {
      "text/plain": [
       "<generator object test at 0x0000011F2E82AF90>"
      ]
     },
     "execution_count": 125,
     "metadata": {},
     "output_type": "execute_result"
    }
   ],
   "source": [
    "def test():\n",
    "    yield 1\n",
    "    yield 2\n",
    "    yield 3\n",
    "\n",
    "t = test()\n",
    "t"
   ]
  },
  {
   "cell_type": "code",
   "execution_count": 129,
   "metadata": {},
   "outputs": [
    {
     "ename": "StopIteration",
     "evalue": "",
     "output_type": "error",
     "traceback": [
      "\u001b[1;31m---------------------------------------------------------------------------\u001b[0m",
      "\u001b[1;31mStopIteration\u001b[0m                             Traceback (most recent call last)",
      "\u001b[1;32mc:\\Users\\yejun\\MultiCampusLecture\\Crawl\\scarpy\\[참고] Generator 문법.ipynb Cell 14\u001b[0m in \u001b[0;36m<cell line: 1>\u001b[1;34m()\u001b[0m\n\u001b[1;32m----> <a href='vscode-notebook-cell:/c%3A/Users/yejun/MultiCampusLecture/Crawl/scarpy/%5B%EC%B0%B8%EA%B3%A0%5D%20Generator%20%EB%AC%B8%EB%B2%95.ipynb#X25sZmlsZQ%3D%3D?line=0'>1</a>\u001b[0m \u001b[39mnext\u001b[39;49m(t)\n",
      "\u001b[1;31mStopIteration\u001b[0m: "
     ]
    }
   ],
   "source": [
    "next(t)"
   ]
  },
  {
   "cell_type": "code",
   "execution_count": 135,
   "metadata": {},
   "outputs": [],
   "source": [
    "def test2():\n",
    "    lst = [1,2,3]\n",
    "    yield lst\n",
    "\n",
    "t2 = test2()"
   ]
  },
  {
   "cell_type": "code",
   "execution_count": 136,
   "metadata": {},
   "outputs": [
    {
     "data": {
      "text/plain": [
       "[1, 2, 3]"
      ]
     },
     "execution_count": 136,
     "metadata": {},
     "output_type": "execute_result"
    }
   ],
   "source": [
    "next(t2)"
   ]
  },
  {
   "cell_type": "code",
   "execution_count": 137,
   "metadata": {},
   "outputs": [],
   "source": [
    "def test3():\n",
    "    lst = [1,2,3]\n",
    "    yield from lst\n",
    "\n",
    "t3 = test3()"
   ]
  },
  {
   "cell_type": "code",
   "execution_count": 140,
   "metadata": {},
   "outputs": [
    {
     "data": {
      "text/plain": [
       "3"
      ]
     },
     "execution_count": 140,
     "metadata": {},
     "output_type": "execute_result"
    }
   ],
   "source": [
    "next(t3)"
   ]
  }
 ],
 "metadata": {
  "kernelspec": {
   "display_name": "base",
   "language": "python",
   "name": "python3"
  },
  "language_info": {
   "codemirror_mode": {
    "name": "ipython",
    "version": 3
   },
   "file_extension": ".py",
   "mimetype": "text/x-python",
   "name": "python",
   "nbconvert_exporter": "python",
   "pygments_lexer": "ipython3",
   "version": "3.9.12"
  },
  "orig_nbformat": 4
 },
 "nbformat": 4,
 "nbformat_minor": 2
}
