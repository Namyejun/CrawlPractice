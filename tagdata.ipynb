{
 "cells": [
  {
   "cell_type": "code",
   "execution_count": 40,
   "metadata": {},
   "outputs": [],
   "source": [
    "import openpyxl\n",
    "import requests\n",
    "from tqdm import tqdm\n",
    "import time"
   ]
  },
  {
   "cell_type": "code",
   "execution_count": 41,
   "metadata": {},
   "outputs": [],
   "source": [
    "## 전체작품\n",
    "url = 'https://page.kakao.com/graphql'\n",
    "query = '''query staticLandingGenreSection($sectionId: ID!, $param: StaticLandingGenreParamInput!) {\n",
    "  staticLandingGenreSection(sectionId: $sectionId, param: $param) {\n",
    "    ...Section\n",
    "    __typename\n",
    "  }\n",
    "}\n",
    "\n",
    "fragment Section on Section {\n",
    "  id\n",
    "  uid\n",
    "  type\n",
    "  title\n",
    "  ... on DependOnLoggedInSection {\n",
    "    loggedInTitle\n",
    "    loggedInScheme\n",
    "    __typename\n",
    "  }\n",
    "  ... on SchemeSection {\n",
    "    scheme\n",
    "    __typename\n",
    "  }\n",
    "  ... on MetaInfoTypeSection {\n",
    "    metaInfoType\n",
    "    __typename\n",
    "  }\n",
    "  ... on TabSection {\n",
    "    sectionMainTabList {\n",
    "      uid\n",
    "      title\n",
    "      isSelected\n",
    "      scheme\n",
    "      additionalString\n",
    "      subTabList {\n",
    "        uid\n",
    "        title\n",
    "        isSelected\n",
    "        groupId\n",
    "        __typename\n",
    "      }\n",
    "      __typename\n",
    "    }\n",
    "    __typename\n",
    "  }\n",
    "  ... on ThemeKeywordSection {\n",
    "    themeKeywordList {\n",
    "      uid\n",
    "      title\n",
    "      scheme\n",
    "      __typename\n",
    "    }\n",
    "    __typename\n",
    "  }\n",
    "  ... on StaticLandingDayOfWeekSection {\n",
    "    isEnd\n",
    "    totalCount\n",
    "    displayAd {\n",
    "      sectionUid\n",
    "      bannerUid\n",
    "      treviUid\n",
    "      momentUid\n",
    "      __typename\n",
    "    }\n",
    "    param {\n",
    "      categoryUid\n",
    "      businessModel {\n",
    "        name\n",
    "        param\n",
    "        __typename\n",
    "      }\n",
    "      subcategory {\n",
    "        name\n",
    "        param\n",
    "        __typename\n",
    "      }\n",
    "      dayTab {\n",
    "        name\n",
    "        param\n",
    "        __typename\n",
    "      }\n",
    "      page\n",
    "      size\n",
    "      __typename\n",
    "    }\n",
    "    businessModelList {\n",
    "      name\n",
    "      param\n",
    "      __typename\n",
    "    }\n",
    "    subcategoryList {\n",
    "      name\n",
    "      param\n",
    "      __typename\n",
    "    }\n",
    "    dayTabList {\n",
    "      name\n",
    "      param\n",
    "      __typename\n",
    "    }\n",
    "    __typename\n",
    "  }\n",
    "  ... on StaticLandingTodayNewSection {\n",
    "    totalCount\n",
    "    param {\n",
    "      categoryUid\n",
    "      subcategory {\n",
    "        name\n",
    "        param\n",
    "        __typename\n",
    "      }\n",
    "      __typename\n",
    "    }\n",
    "    categoryTabList {\n",
    "      name\n",
    "      param\n",
    "      __typename\n",
    "    }\n",
    "    subcategoryList {\n",
    "      name\n",
    "      param\n",
    "      __typename\n",
    "    }\n",
    "    __typename\n",
    "  }\n",
    "  ... on StaticLandingTodayUpSection {\n",
    "    isEnd\n",
    "    totalCount\n",
    "    param {\n",
    "      categoryUid\n",
    "      subcategory {\n",
    "        name\n",
    "        param\n",
    "        __typename\n",
    "      }\n",
    "      page\n",
    "      __typename\n",
    "    }\n",
    "    categoryTabList {\n",
    "      name\n",
    "      param\n",
    "      __typename\n",
    "    }\n",
    "    subcategoryList {\n",
    "      name\n",
    "      param\n",
    "      __typename\n",
    "    }\n",
    "    __typename\n",
    "  }\n",
    "  ... on StaticLandingRankingSection {\n",
    "    isEnd\n",
    "    rankingTime\n",
    "    totalCount\n",
    "    param {\n",
    "      categoryUid\n",
    "      subcategory {\n",
    "        name\n",
    "        param\n",
    "        __typename\n",
    "      }\n",
    "      rankingType {\n",
    "        name\n",
    "        param\n",
    "        __typename\n",
    "      }\n",
    "      page\n",
    "      __typename\n",
    "    }\n",
    "    categoryTabList {\n",
    "      name\n",
    "      param\n",
    "      __typename\n",
    "    }\n",
    "    subcategoryList {\n",
    "      name\n",
    "      param\n",
    "      __typename\n",
    "    }\n",
    "    rankingTypeList {\n",
    "      name\n",
    "      param\n",
    "      __typename\n",
    "    }\n",
    "    displayAd {\n",
    "      ...DisplayAd\n",
    "      __typename\n",
    "    }\n",
    "    __typename\n",
    "  }\n",
    "  ... on StaticLandingGenreSection {\n",
    "    isEnd\n",
    "    totalCount\n",
    "    param {\n",
    "      categoryUid\n",
    "      subcategory {\n",
    "        name\n",
    "        param\n",
    "        __typename\n",
    "      }\n",
    "      sortType {\n",
    "        name\n",
    "        param\n",
    "        __typename\n",
    "      }\n",
    "      page\n",
    "      __typename\n",
    "    }\n",
    "    subcategoryList {\n",
    "      name\n",
    "      param\n",
    "      __typename\n",
    "    }\n",
    "    sortTypeList {\n",
    "      name\n",
    "      param\n",
    "      __typename\n",
    "    }\n",
    "    displayAd {\n",
    "      ...DisplayAd\n",
    "      __typename\n",
    "    }\n",
    "    __typename\n",
    "  }\n",
    "  ... on StaticLandingFreeSeriesSection {\n",
    "    isEnd\n",
    "    totalCount\n",
    "    param {\n",
    "      categoryUid\n",
    "      tab {\n",
    "        name\n",
    "        param\n",
    "        __typename\n",
    "      }\n",
    "      page\n",
    "      __typename\n",
    "    }\n",
    "    tabList {\n",
    "      name\n",
    "      param\n",
    "      __typename\n",
    "    }\n",
    "    __typename\n",
    "  }\n",
    "  ... on StaticLandingEventSection {\n",
    "    isEnd\n",
    "    totalCount\n",
    "    param {\n",
    "      categoryUid\n",
    "      page\n",
    "      __typename\n",
    "    }\n",
    "    categoryTabList {\n",
    "      name\n",
    "      param\n",
    "      __typename\n",
    "    }\n",
    "    __typename\n",
    "  }\n",
    "  ... on StaticLandingOriginalSection {\n",
    "    isEnd\n",
    "    totalCount\n",
    "    originalCount\n",
    "    param {\n",
    "      categoryUid\n",
    "      subcategory {\n",
    "        name\n",
    "        param\n",
    "        __typename\n",
    "      }\n",
    "      sortType {\n",
    "        name\n",
    "        param\n",
    "        __typename\n",
    "      }\n",
    "      isComplete\n",
    "      page\n",
    "      __typename\n",
    "    }\n",
    "    subcategoryList {\n",
    "      name\n",
    "      param\n",
    "      __typename\n",
    "    }\n",
    "    sortTypeList {\n",
    "      name\n",
    "      param\n",
    "      __typename\n",
    "    }\n",
    "    recommendItemList {\n",
    "      ...Item\n",
    "      __typename\n",
    "    }\n",
    "    __typename\n",
    "  }\n",
    "  groups {\n",
    "    ...Group\n",
    "    __typename\n",
    "  }\n",
    "}\n",
    "\n",
    "fragment DisplayAd on DisplayAd {\n",
    "  sectionUid\n",
    "  bannerUid\n",
    "  treviUid\n",
    "  momentUid\n",
    "}\n",
    "\n",
    "fragment Item on Item {\n",
    "  id\n",
    "  type\n",
    "  ...BannerItem\n",
    "  ...OnAirItem\n",
    "  ...CardViewItem\n",
    "  ...CleanViewItem\n",
    "  ... on DisplayAdItem {\n",
    "    displayAd {\n",
    "      ...DisplayAd\n",
    "      __typename\n",
    "    }\n",
    "    __typename\n",
    "  }\n",
    "  ...PosterViewItem\n",
    "  ...StrategyViewItem\n",
    "  ...RankingListViewItem\n",
    "  ...NormalListViewItem\n",
    "  ...MoreItem\n",
    "  ...EventBannerItem\n",
    "}\n",
    "\n",
    "fragment BannerItem on BannerItem {\n",
    "  bannerType\n",
    "  bannerViewType\n",
    "  thumbnail\n",
    "  videoUrl\n",
    "  badgeList\n",
    "  statusBadge\n",
    "  titleImage\n",
    "  title\n",
    "  metaList\n",
    "  caption\n",
    "  scheme\n",
    "  seriesId\n",
    "  eventLog {\n",
    "    ...EventLogFragment\n",
    "    __typename\n",
    "  }\n",
    "  moreButton {\n",
    "    ...MoreButtonFragment\n",
    "    __typename\n",
    "  }\n",
    "}\n",
    "\n",
    "fragment EventLogFragment on EventLog {\n",
    "  fromGraphql\n",
    "  click {\n",
    "    layer1\n",
    "    layer2\n",
    "    setnum\n",
    "    ordnum\n",
    "    copy\n",
    "    imp_id\n",
    "    imp_provider\n",
    "    __typename\n",
    "  }\n",
    "  eventMeta {\n",
    "    id\n",
    "    name\n",
    "    subcategory\n",
    "    category\n",
    "    series\n",
    "    provider\n",
    "    series_id\n",
    "    type\n",
    "    __typename\n",
    "  }\n",
    "  viewimp_contents {\n",
    "    type\n",
    "    name\n",
    "    id\n",
    "    imp_area_ordnum\n",
    "    imp_id\n",
    "    imp_provider\n",
    "    imp_type\n",
    "    layer1\n",
    "    layer2\n",
    "    __typename\n",
    "  }\n",
    "  customProps {\n",
    "    landing_path\n",
    "    view_type\n",
    "    toros_imp_id\n",
    "    toros_file_hash_key\n",
    "    toros_event_meta_id\n",
    "    content_cnt\n",
    "    event_series_id\n",
    "    event_ticket_type\n",
    "    play_url\n",
    "    banner_uid\n",
    "    __typename\n",
    "  }\n",
    "}\n",
    "\n",
    "fragment MoreButtonFragment on MoreButton {\n",
    "  type\n",
    "  scheme\n",
    "  title\n",
    "}\n",
    "\n",
    "fragment OnAirItem on OnAirItem {\n",
    "  thumbnail\n",
    "  videoUrl\n",
    "  titleImage\n",
    "  title\n",
    "  subtitleList\n",
    "  caption\n",
    "  scheme\n",
    "}\n",
    "\n",
    "fragment CardViewItem on CardViewItem {\n",
    "  title\n",
    "  thumbnail\n",
    "  titleImage\n",
    "  scheme\n",
    "  badgeList\n",
    "  ageGradeBadge\n",
    "  statusBadge\n",
    "  ageGrade\n",
    "  selfCensorship\n",
    "  torosImgId\n",
    "  torosFileHashKey\n",
    "  subtitleList\n",
    "  caption\n",
    "  eventLog {\n",
    "    ...EventLogFragment\n",
    "    __typename\n",
    "  }\n",
    "}\n",
    "\n",
    "fragment CleanViewItem on CleanViewItem {\n",
    "  id\n",
    "  type\n",
    "  showPlayerIcon\n",
    "  scheme\n",
    "  title\n",
    "  thumbnail\n",
    "  badgeList\n",
    "  ageGradeBadge\n",
    "  statusBadge\n",
    "  subtitleList\n",
    "  rank\n",
    "  torosFileHashKey\n",
    "  torosImgId\n",
    "  ageGrade\n",
    "  selfCensorship\n",
    "  eventLog {\n",
    "    ...EventLogFragment\n",
    "    __typename\n",
    "  }\n",
    "}\n",
    "\n",
    "fragment PosterViewItem on PosterViewItem {\n",
    "  id\n",
    "  type\n",
    "  showPlayerIcon\n",
    "  scheme\n",
    "  title\n",
    "  thumbnail\n",
    "  badgeList\n",
    "  ageGradeBadge\n",
    "  statusBadge\n",
    "  subtitleList\n",
    "  rank\n",
    "  torosFileHashKey\n",
    "  torosImgId\n",
    "  ageGrade\n",
    "  selfCensorship\n",
    "  eventLog {\n",
    "    ...EventLogFragment\n",
    "    __typename\n",
    "  }\n",
    "  seriesId\n",
    "}\n",
    "\n",
    "fragment StrategyViewItem on StrategyViewItem {\n",
    "  id\n",
    "  title\n",
    "  count\n",
    "  scheme\n",
    "}\n",
    "\n",
    "fragment RankingListViewItem on RankingListViewItem {\n",
    "  title\n",
    "  thumbnail\n",
    "  badgeList\n",
    "  ageGradeBadge\n",
    "  statusBadge\n",
    "  ageGrade\n",
    "  selfCensorship\n",
    "  metaList\n",
    "  descriptionList\n",
    "  scheme\n",
    "  torosImgId\n",
    "  torosFileHashKey\n",
    "  rank\n",
    "  eventLog {\n",
    "    ...EventLogFragment\n",
    "    __typename\n",
    "  }\n",
    "}\n",
    "\n",
    "fragment NormalListViewItem on NormalListViewItem {\n",
    "  id\n",
    "  type\n",
    "  ticketUid\n",
    "  thumbnail\n",
    "  badgeList\n",
    "  ageGradeBadge\n",
    "  statusBadge\n",
    "  ageGrade\n",
    "  isAlaramOn\n",
    "  row1\n",
    "  row2\n",
    "  row3 {\n",
    "    id\n",
    "    metaList\n",
    "    __typename\n",
    "  }\n",
    "  row4\n",
    "  row5\n",
    "  scheme\n",
    "  continueScheme\n",
    "  nextProductScheme\n",
    "  continueData {\n",
    "    ...ContinueInfoFragment\n",
    "    __typename\n",
    "  }\n",
    "  torosImpId\n",
    "  torosFileHashKey\n",
    "  seriesId\n",
    "  isCheckMode\n",
    "  isChecked\n",
    "  isReceived\n",
    "  showPlayerIcon\n",
    "  rank\n",
    "  isSingle\n",
    "  singleSlideType\n",
    "  ageGrade\n",
    "  selfCensorship\n",
    "  eventLog {\n",
    "    ...EventLogFragment\n",
    "    __typename\n",
    "  }\n",
    "  giftEventLog {\n",
    "    ...EventLogFragment\n",
    "    __typename\n",
    "  }\n",
    "}\n",
    "\n",
    "fragment ContinueInfoFragment on ContinueInfo {\n",
    "  title\n",
    "  isFree\n",
    "  productId\n",
    "  lastReadProductId\n",
    "  scheme\n",
    "  continueProductType\n",
    "  hasNewSingle\n",
    "  hasUnreadSingle\n",
    "}\n",
    "\n",
    "fragment MoreItem on MoreItem {\n",
    "  id\n",
    "  scheme\n",
    "  title\n",
    "}\n",
    "\n",
    "fragment EventBannerItem on EventBannerItem {\n",
    "  bannerType\n",
    "  thumbnail\n",
    "  videoUrl\n",
    "  titleImage\n",
    "  title\n",
    "  subtitleList\n",
    "  caption\n",
    "  scheme\n",
    "  eventLog {\n",
    "    ...EventLogFragment\n",
    "    __typename\n",
    "  }\n",
    "}\n",
    "\n",
    "fragment Group on Group {\n",
    "  id\n",
    "  ... on ListViewGroup {\n",
    "    meta {\n",
    "      title\n",
    "      count\n",
    "      __typename\n",
    "    }\n",
    "    __typename\n",
    "  }\n",
    "  type\n",
    "  dataKey\n",
    "  groups {\n",
    "    ...GroupInGroup\n",
    "    __typename\n",
    "  }\n",
    "  items {\n",
    "    ...Item\n",
    "    __typename\n",
    "  }\n",
    "}\n",
    "\n",
    "fragment GroupInGroup on Group {\n",
    "  id\n",
    "  type\n",
    "  dataKey\n",
    "  items {\n",
    "    ...Item\n",
    "    __typename\n",
    "  }\n",
    "  ... on ListViewGroup {\n",
    "    meta {\n",
    "      title\n",
    "      count\n",
    "      __typename\n",
    "    }\n",
    "    __typename\n",
    "  }\n",
    "}\n",
    "\n",
    "\n",
    "'''"
   ]
  },
  {
   "cell_type": "code",
   "execution_count": 42,
   "metadata": {},
   "outputs": [],
   "source": [
    "start_page = 1\n",
    "last_page = 2000"
   ]
  },
  {
   "cell_type": "code",
   "execution_count": 43,
   "metadata": {},
   "outputs": [],
   "source": [
    "wb = openpyxl.Workbook()\n",
    "ws = wb.active\n",
    "ws.append([\n",
    "    'series_id', 'series_title', 'detail_url', 'desc_url', 'thumbnail', 'category', 'view_cnt', 'age_limit', 'rank'\n",
    "])\n",
    "\n",
    "error_page = []"
   ]
  },
  {
   "cell_type": "code",
   "execution_count": 44,
   "metadata": {},
   "outputs": [
    {
     "name": "stderr",
     "output_type": "stream",
     "text": [
      "  0%|          | 7/2000 [00:21<1:43:52,  3.13s/it]"
     ]
    },
    {
     "name": "stdout",
     "output_type": "stream",
     "text": [
      "'NoneType' object is not subscriptable\n",
      "7 <Response [200]> {'errors': [{'message': '500: Internal Server Error', 'locations': [{'line': 2, 'column': 3}], 'path': ['staticLandingGenreSection'], 'extensions': {'code': 'INTERNAL_SERVER_ERROR', 'response': {'url': 'https://api-page.kakao.com/view/v1/landing/genre?category_uid=10&subcategory_uid=0&sort_type=update&page=7', 'status': 500, 'statusText': 'Internal Server Error', 'body': {'result_code': -3000, 'message': '서버 에러', 'response_time': '2023-04-25 21:23:35'}}}}], 'data': None}\n"
     ]
    },
    {
     "name": "stderr",
     "output_type": "stream",
     "text": [
      "  1%|          | 19/2000 [00:59<1:42:54,  3.12s/it]"
     ]
    },
    {
     "name": "stdout",
     "output_type": "stream",
     "text": [
      "'NoneType' object is not subscriptable\n",
      "19 <Response [200]> {'errors': [{'message': '500: Internal Server Error', 'locations': [{'line': 2, 'column': 3}], 'path': ['staticLandingGenreSection'], 'extensions': {'code': 'INTERNAL_SERVER_ERROR', 'response': {'url': 'https://api-page.kakao.com/view/v1/landing/genre?category_uid=10&subcategory_uid=0&sort_type=update&page=19', 'status': 500, 'statusText': 'Internal Server Error', 'body': {'result_code': -3000, 'message': '서버 에러', 'response_time': '2023-04-25 21:24:12'}}}}], 'data': None}\n"
     ]
    },
    {
     "name": "stderr",
     "output_type": "stream",
     "text": [
      "  2%|▏         | 33/2000 [01:43<1:42:23,  3.12s/it]"
     ]
    },
    {
     "name": "stdout",
     "output_type": "stream",
     "text": [
      "'NoneType' object is not subscriptable\n",
      "33 <Response [200]> {'errors': [{'message': '500: Internal Server Error', 'locations': [{'line': 2, 'column': 3}], 'path': ['staticLandingGenreSection'], 'extensions': {'code': 'INTERNAL_SERVER_ERROR', 'response': {'url': 'https://api-page.kakao.com/view/v1/landing/genre?category_uid=10&subcategory_uid=0&sort_type=update&page=33', 'status': 500, 'statusText': 'Internal Server Error', 'body': {'result_code': -3000, 'message': '서버 에러', 'response_time': '2023-04-25 21:24:56'}}}}], 'data': None}\n"
     ]
    },
    {
     "name": "stderr",
     "output_type": "stream",
     "text": [
      "  2%|▏         | 49/2000 [02:33<1:41:34,  3.12s/it]"
     ]
    },
    {
     "name": "stdout",
     "output_type": "stream",
     "text": [
      "'NoneType' object is not subscriptable\n",
      "49 <Response [200]> {'errors': [{'message': '500: Internal Server Error', 'locations': [{'line': 2, 'column': 3}], 'path': ['staticLandingGenreSection'], 'extensions': {'code': 'INTERNAL_SERVER_ERROR', 'response': {'url': 'https://api-page.kakao.com/view/v1/landing/genre?category_uid=10&subcategory_uid=0&sort_type=update&page=49', 'status': 500, 'statusText': 'Internal Server Error', 'body': {'result_code': -3000, 'message': '서버 에러', 'response_time': '2023-04-25 21:25:46'}}}}], 'data': None}\n"
     ]
    },
    {
     "name": "stderr",
     "output_type": "stream",
     "text": [
      "  3%|▎         | 60/2000 [03:07<1:41:05,  3.13s/it]"
     ]
    },
    {
     "name": "stdout",
     "output_type": "stream",
     "text": [
      "'NoneType' object is not subscriptable\n",
      "60 <Response [200]> {'errors': [{'message': '500: Internal Server Error', 'locations': [{'line': 2, 'column': 3}], 'path': ['staticLandingGenreSection'], 'extensions': {'code': 'INTERNAL_SERVER_ERROR', 'response': {'url': 'https://api-page.kakao.com/view/v1/landing/genre?category_uid=10&subcategory_uid=0&sort_type=update&page=60', 'status': 500, 'statusText': 'Internal Server Error', 'body': {'result_code': -3000, 'message': '서버 에러', 'response_time': '2023-04-25 21:26:21'}}}}], 'data': None}\n"
     ]
    },
    {
     "name": "stderr",
     "output_type": "stream",
     "text": [
      "  4%|▍         | 81/2000 [04:13<1:40:34,  3.14s/it]"
     ]
    },
    {
     "name": "stdout",
     "output_type": "stream",
     "text": [
      "'NoneType' object is not subscriptable\n",
      "81 <Response [200]> {'errors': [{'message': '500: Internal Server Error', 'locations': [{'line': 2, 'column': 3}], 'path': ['staticLandingGenreSection'], 'extensions': {'code': 'INTERNAL_SERVER_ERROR', 'response': {'url': 'https://api-page.kakao.com/view/v1/landing/genre?category_uid=10&subcategory_uid=0&sort_type=update&page=81', 'status': 500, 'statusText': 'Internal Server Error', 'body': {'result_code': -3000, 'message': '서버 에러', 'response_time': '2023-04-25 21:27:26'}}}}], 'data': None}\n"
     ]
    },
    {
     "name": "stderr",
     "output_type": "stream",
     "text": [
      "  4%|▍         | 83/2000 [04:19<1:39:56,  3.13s/it]"
     ]
    },
    {
     "name": "stdout",
     "output_type": "stream",
     "text": [
      "'NoneType' object is not subscriptable\n",
      "83 <Response [200]> {'errors': [{'message': '500: Internal Server Error', 'locations': [{'line': 2, 'column': 3}], 'path': ['staticLandingGenreSection'], 'extensions': {'code': 'INTERNAL_SERVER_ERROR', 'response': {'url': 'https://api-page.kakao.com/view/v1/landing/genre?category_uid=10&subcategory_uid=0&sort_type=update&page=83', 'status': 500, 'statusText': 'Internal Server Error', 'body': {'result_code': -3000, 'message': '서버 에러', 'response_time': '2023-04-25 21:27:33'}}}}], 'data': None}\n"
     ]
    },
    {
     "name": "stderr",
     "output_type": "stream",
     "text": [
      "  5%|▍         | 98/2000 [05:06<1:38:45,  3.12s/it]"
     ]
    },
    {
     "name": "stdout",
     "output_type": "stream",
     "text": [
      "'NoneType' object is not subscriptable\n",
      "98 <Response [200]> {'errors': [{'message': '500: Internal Server Error', 'locations': [{'line': 2, 'column': 3}], 'path': ['staticLandingGenreSection'], 'extensions': {'code': 'INTERNAL_SERVER_ERROR', 'response': {'url': 'https://api-page.kakao.com/view/v1/landing/genre?category_uid=10&subcategory_uid=0&sort_type=update&page=98', 'status': 500, 'statusText': 'Internal Server Error', 'body': {'result_code': -3000, 'message': '서버 에러', 'response_time': '2023-04-25 21:28:20'}}}}], 'data': None}\n"
     ]
    },
    {
     "name": "stderr",
     "output_type": "stream",
     "text": [
      "  6%|▌         | 123/2000 [06:26<1:40:11,  3.20s/it]"
     ]
    },
    {
     "name": "stdout",
     "output_type": "stream",
     "text": [
      "'NoneType' object is not subscriptable\n",
      "123 <Response [200]> {'errors': [{'message': '500: Internal Server Error', 'locations': [{'line': 2, 'column': 3}], 'path': ['staticLandingGenreSection'], 'extensions': {'code': 'INTERNAL_SERVER_ERROR', 'response': {'url': 'https://api-page.kakao.com/view/v1/landing/genre?category_uid=10&subcategory_uid=0&sort_type=update&page=123', 'status': 500, 'statusText': 'Internal Server Error', 'body': {'result_code': -3000, 'message': '서버 에러', 'response_time': '2023-04-25 21:29:40'}}}}], 'data': None}\n"
     ]
    },
    {
     "name": "stderr",
     "output_type": "stream",
     "text": [
      "  7%|▋         | 131/2000 [06:52<1:40:00,  3.21s/it]"
     ]
    },
    {
     "name": "stdout",
     "output_type": "stream",
     "text": [
      "'NoneType' object is not subscriptable\n",
      "131 <Response [200]> {'errors': [{'message': '500: Internal Server Error', 'locations': [{'line': 2, 'column': 3}], 'path': ['staticLandingGenreSection'], 'extensions': {'code': 'INTERNAL_SERVER_ERROR', 'response': {'url': 'https://api-page.kakao.com/view/v1/landing/genre?category_uid=10&subcategory_uid=0&sort_type=update&page=131', 'status': 500, 'statusText': 'Internal Server Error', 'body': {'result_code': -3000, 'message': '서버 에러', 'response_time': '2023-04-25 21:30:05'}}}}], 'data': None}\n"
     ]
    },
    {
     "name": "stderr",
     "output_type": "stream",
     "text": [
      "  7%|▋         | 135/2000 [07:05<1:39:12,  3.19s/it]"
     ]
    },
    {
     "name": "stdout",
     "output_type": "stream",
     "text": [
      "'NoneType' object is not subscriptable\n",
      "135 <Response [200]> {'errors': [{'message': '500: Internal Server Error', 'locations': [{'line': 2, 'column': 3}], 'path': ['staticLandingGenreSection'], 'extensions': {'code': 'INTERNAL_SERVER_ERROR', 'response': {'url': 'https://api-page.kakao.com/view/v1/landing/genre?category_uid=10&subcategory_uid=0&sort_type=update&page=135', 'status': 500, 'statusText': 'Internal Server Error', 'body': {'result_code': -3000, 'message': '서버 에러', 'response_time': '2023-04-25 21:30:18'}}}}], 'data': None}\n"
     ]
    },
    {
     "name": "stderr",
     "output_type": "stream",
     "text": [
      "  8%|▊         | 155/2000 [08:10<1:38:36,  3.21s/it]"
     ]
    },
    {
     "name": "stdout",
     "output_type": "stream",
     "text": [
      "'NoneType' object is not subscriptable\n",
      "155 <Response [200]> {'errors': [{'message': '500: Internal Server Error', 'locations': [{'line': 2, 'column': 3}], 'path': ['staticLandingGenreSection'], 'extensions': {'code': 'INTERNAL_SERVER_ERROR', 'response': {'url': 'https://api-page.kakao.com/view/v1/landing/genre?category_uid=10&subcategory_uid=0&sort_type=update&page=155', 'status': 500, 'statusText': 'Internal Server Error', 'body': {'result_code': -3000, 'message': '서버 에러', 'response_time': '2023-04-25 21:31:23'}}}}], 'data': None}\n"
     ]
    },
    {
     "name": "stderr",
     "output_type": "stream",
     "text": [
      "  8%|▊         | 163/2000 [08:36<1:38:59,  3.23s/it]"
     ]
    },
    {
     "name": "stdout",
     "output_type": "stream",
     "text": [
      "'NoneType' object is not subscriptable\n",
      "163 <Response [200]> {'errors': [{'message': '500: Internal Server Error', 'locations': [{'line': 2, 'column': 3}], 'path': ['staticLandingGenreSection'], 'extensions': {'code': 'INTERNAL_SERVER_ERROR', 'response': {'url': 'https://api-page.kakao.com/view/v1/landing/genre?category_uid=10&subcategory_uid=0&sort_type=update&page=163', 'status': 500, 'statusText': 'Internal Server Error', 'body': {'result_code': -3000, 'message': '서버 에러', 'response_time': '2023-04-25 21:31:49'}}}}], 'data': None}\n"
     ]
    },
    {
     "name": "stderr",
     "output_type": "stream",
     "text": [
      "  9%|▊         | 173/2000 [09:28<4:40:23,  9.21s/it]"
     ]
    },
    {
     "name": "stdout",
     "output_type": "stream",
     "text": [
      "'NoneType' object is not subscriptable\n",
      "173 <Response [200]> {'errors': [{'message': 'network timeout at: https://api-page.kakao.com/view/v1/landing/genre?category_uid=10&subcategory_uid=0&sort_type=update&page=173', 'locations': [{'line': 2, 'column': 3}], 'path': ['staticLandingGenreSection'], 'extensions': {'isSerializedPagewebError': True, 'type': 'unexpectedFetchError', 'message': 'network timeout at: https://api-page.kakao.com/view/v1/landing/genre?category_uid=10&subcategory_uid=0&sort_type=update&page=173', 'code': 'CUSTOM_ERROR'}}], 'data': None}\n"
     ]
    },
    {
     "name": "stderr",
     "output_type": "stream",
     "text": [
      "  9%|▉         | 184/2000 [10:04<1:41:06,  3.34s/it]"
     ]
    },
    {
     "name": "stdout",
     "output_type": "stream",
     "text": [
      "'NoneType' object is not subscriptable\n",
      "184 <Response [200]> {'errors': [{'message': '500: Internal Server Error', 'locations': [{'line': 2, 'column': 3}], 'path': ['staticLandingGenreSection'], 'extensions': {'code': 'INTERNAL_SERVER_ERROR', 'response': {'url': 'https://api-page.kakao.com/view/v1/landing/genre?category_uid=10&subcategory_uid=0&sort_type=update&page=184', 'status': 500, 'statusText': 'Internal Server Error', 'body': {'result_code': -3000, 'message': '서버 에러', 'response_time': '2023-04-25 21:33:17'}}}}], 'data': None}\n"
     ]
    },
    {
     "name": "stderr",
     "output_type": "stream",
     "text": [
      "  9%|▉         | 185/2000 [10:07<1:39:16,  3.28s/it]"
     ]
    },
    {
     "name": "stdout",
     "output_type": "stream",
     "text": [
      "'NoneType' object is not subscriptable\n",
      "185 <Response [200]> {'errors': [{'message': '500: Internal Server Error', 'locations': [{'line': 2, 'column': 3}], 'path': ['staticLandingGenreSection'], 'extensions': {'code': 'INTERNAL_SERVER_ERROR', 'response': {'url': 'https://api-page.kakao.com/view/v1/landing/genre?category_uid=10&subcategory_uid=0&sort_type=update&page=185', 'status': 500, 'statusText': 'Internal Server Error', 'body': {'result_code': -3000, 'message': '서버 에러', 'response_time': '2023-04-25 21:33:21'}}}}], 'data': None}\n"
     ]
    },
    {
     "name": "stderr",
     "output_type": "stream",
     "text": [
      " 10%|█         | 201/2000 [10:59<1:37:10,  3.24s/it]"
     ]
    },
    {
     "name": "stdout",
     "output_type": "stream",
     "text": [
      "'NoneType' object is not subscriptable\n",
      "201 <Response [200]> {'errors': [{'message': '500: Internal Server Error', 'locations': [{'line': 2, 'column': 3}], 'path': ['staticLandingGenreSection'], 'extensions': {'code': 'INTERNAL_SERVER_ERROR', 'response': {'url': 'https://api-page.kakao.com/view/v1/landing/genre?category_uid=10&subcategory_uid=0&sort_type=update&page=201', 'status': 500, 'statusText': 'Internal Server Error', 'body': {'result_code': -3000, 'message': '서버 에러', 'response_time': '2023-04-25 21:34:13'}}}}], 'data': None}\n"
     ]
    },
    {
     "name": "stderr",
     "output_type": "stream",
     "text": [
      " 12%|█▏        | 239/2000 [13:04<1:34:36,  3.22s/it]"
     ]
    },
    {
     "name": "stdout",
     "output_type": "stream",
     "text": [
      "'NoneType' object is not subscriptable\n",
      "239 <Response [200]> {'errors': [{'message': '500: Internal Server Error', 'locations': [{'line': 2, 'column': 3}], 'path': ['staticLandingGenreSection'], 'extensions': {'code': 'INTERNAL_SERVER_ERROR', 'response': {'url': 'https://api-page.kakao.com/view/v1/landing/genre?category_uid=10&subcategory_uid=0&sort_type=update&page=239', 'status': 500, 'statusText': 'Internal Server Error', 'body': {'result_code': -3000, 'message': '서버 에러', 'response_time': '2023-04-25 21:36:17'}}}}], 'data': None}\n"
     ]
    },
    {
     "name": "stderr",
     "output_type": "stream",
     "text": [
      " 12%|█▏        | 247/2000 [13:30<1:34:09,  3.22s/it]"
     ]
    },
    {
     "name": "stdout",
     "output_type": "stream",
     "text": [
      "'NoneType' object is not subscriptable\n",
      "247 <Response [200]> {'errors': [{'message': '500: Internal Server Error', 'locations': [{'line': 2, 'column': 3}], 'path': ['staticLandingGenreSection'], 'extensions': {'code': 'INTERNAL_SERVER_ERROR', 'response': {'url': 'https://api-page.kakao.com/view/v1/landing/genre?category_uid=10&subcategory_uid=0&sort_type=update&page=247', 'status': 500, 'statusText': 'Internal Server Error', 'body': {'result_code': -3000, 'message': '서버 에러', 'response_time': '2023-04-25 21:36:43'}}}}], 'data': None}\n"
     ]
    },
    {
     "name": "stderr",
     "output_type": "stream",
     "text": [
      " 13%|█▎        | 255/2000 [13:56<1:33:39,  3.22s/it]"
     ]
    },
    {
     "name": "stdout",
     "output_type": "stream",
     "text": [
      "'NoneType' object is not subscriptable\n",
      "255 <Response [200]> {'errors': [{'message': '500: Internal Server Error', 'locations': [{'line': 2, 'column': 3}], 'path': ['staticLandingGenreSection'], 'extensions': {'code': 'INTERNAL_SERVER_ERROR', 'response': {'url': 'https://api-page.kakao.com/view/v1/landing/genre?category_uid=10&subcategory_uid=0&sort_type=update&page=255', 'status': 500, 'statusText': 'Internal Server Error', 'body': {'result_code': -3000, 'message': '서버 에러', 'response_time': '2023-04-25 21:37:09'}}}}], 'data': None}\n"
     ]
    },
    {
     "name": "stderr",
     "output_type": "stream",
     "text": [
      " 13%|█▎        | 256/2000 [13:59<1:32:30,  3.18s/it]"
     ]
    },
    {
     "name": "stdout",
     "output_type": "stream",
     "text": [
      "'NoneType' object is not subscriptable\n",
      "256 <Response [200]> {'errors': [{'message': '500: Internal Server Error', 'locations': [{'line': 2, 'column': 3}], 'path': ['staticLandingGenreSection'], 'extensions': {'code': 'INTERNAL_SERVER_ERROR', 'response': {'url': 'https://api-page.kakao.com/view/v1/landing/genre?category_uid=10&subcategory_uid=0&sort_type=update&page=256', 'status': 500, 'statusText': 'Internal Server Error', 'body': {'result_code': -3000, 'message': '서버 에러', 'response_time': '2023-04-25 21:37:12'}}}}], 'data': None}\n"
     ]
    },
    {
     "name": "stderr",
     "output_type": "stream",
     "text": [
      " 13%|█▎        | 257/2000 [14:02<1:31:43,  3.16s/it]"
     ]
    },
    {
     "name": "stdout",
     "output_type": "stream",
     "text": [
      "'NoneType' object is not subscriptable\n",
      "257 <Response [200]> {'errors': [{'message': '500: Internal Server Error', 'locations': [{'line': 2, 'column': 3}], 'path': ['staticLandingGenreSection'], 'extensions': {'code': 'INTERNAL_SERVER_ERROR', 'response': {'url': 'https://api-page.kakao.com/view/v1/landing/genre?category_uid=10&subcategory_uid=0&sort_type=update&page=257', 'status': 500, 'statusText': 'Internal Server Error', 'body': {'result_code': -3000, 'message': '서버 에러', 'response_time': '2023-04-25 21:37:15'}}}}], 'data': None}\n"
     ]
    },
    {
     "name": "stderr",
     "output_type": "stream",
     "text": [
      " 13%|█▎        | 258/2000 [14:05<1:31:28,  3.15s/it]"
     ]
    },
    {
     "name": "stdout",
     "output_type": "stream",
     "text": [
      "'NoneType' object is not subscriptable\n",
      "258 <Response [200]> {'errors': [{'message': '500: Internal Server Error', 'locations': [{'line': 2, 'column': 3}], 'path': ['staticLandingGenreSection'], 'extensions': {'code': 'INTERNAL_SERVER_ERROR', 'response': {'url': 'https://api-page.kakao.com/view/v1/landing/genre?category_uid=10&subcategory_uid=0&sort_type=update&page=258', 'status': 500, 'statusText': 'Internal Server Error', 'body': {'result_code': -3000, 'message': '서버 에러', 'response_time': '2023-04-25 21:37:19'}}}}], 'data': None}\n"
     ]
    },
    {
     "name": "stderr",
     "output_type": "stream",
     "text": [
      " 13%|█▎        | 269/2000 [14:41<1:32:55,  3.22s/it]"
     ]
    },
    {
     "name": "stdout",
     "output_type": "stream",
     "text": [
      "'NoneType' object is not subscriptable\n",
      "269 <Response [200]> {'errors': [{'message': '500: Internal Server Error', 'locations': [{'line': 2, 'column': 3}], 'path': ['staticLandingGenreSection'], 'extensions': {'code': 'INTERNAL_SERVER_ERROR', 'response': {'url': 'https://api-page.kakao.com/view/v1/landing/genre?category_uid=10&subcategory_uid=0&sort_type=update&page=269', 'status': 500, 'statusText': 'Internal Server Error', 'body': {'result_code': -3000, 'message': '서버 에러', 'response_time': '2023-04-25 21:37:54'}}}}], 'data': None}\n"
     ]
    },
    {
     "name": "stderr",
     "output_type": "stream",
     "text": [
      " 14%|█▎        | 271/2000 [14:47<1:32:26,  3.21s/it]"
     ]
    },
    {
     "name": "stdout",
     "output_type": "stream",
     "text": [
      "'NoneType' object is not subscriptable\n",
      "271 <Response [200]> {'errors': [{'message': '500: Internal Server Error', 'locations': [{'line': 2, 'column': 3}], 'path': ['staticLandingGenreSection'], 'extensions': {'code': 'INTERNAL_SERVER_ERROR', 'response': {'url': 'https://api-page.kakao.com/view/v1/landing/genre?category_uid=10&subcategory_uid=0&sort_type=update&page=271', 'status': 500, 'statusText': 'Internal Server Error', 'body': {'result_code': -3000, 'message': '서버 에러', 'response_time': '2023-04-25 21:38:01'}}}}], 'data': None}\n"
     ]
    },
    {
     "name": "stderr",
     "output_type": "stream",
     "text": [
      " 14%|█▍        | 275/2000 [15:00<1:32:07,  3.20s/it]"
     ]
    },
    {
     "name": "stdout",
     "output_type": "stream",
     "text": [
      "'NoneType' object is not subscriptable\n",
      "275 <Response [200]> {'errors': [{'message': '500: Internal Server Error', 'locations': [{'line': 2, 'column': 3}], 'path': ['staticLandingGenreSection'], 'extensions': {'code': 'INTERNAL_SERVER_ERROR', 'response': {'url': 'https://api-page.kakao.com/view/v1/landing/genre?category_uid=10&subcategory_uid=0&sort_type=update&page=275', 'status': 500, 'statusText': 'Internal Server Error', 'body': {'result_code': -3000, 'message': '서버 에러', 'response_time': '2023-04-25 21:38:14'}}}}], 'data': None}\n"
     ]
    },
    {
     "name": "stderr",
     "output_type": "stream",
     "text": [
      " 14%|█▍        | 284/2000 [15:29<1:32:01,  3.22s/it]"
     ]
    },
    {
     "name": "stdout",
     "output_type": "stream",
     "text": [
      "'NoneType' object is not subscriptable\n",
      "284 <Response [200]> {'errors': [{'message': '500: Internal Server Error', 'locations': [{'line': 2, 'column': 3}], 'path': ['staticLandingGenreSection'], 'extensions': {'code': 'INTERNAL_SERVER_ERROR', 'response': {'url': 'https://api-page.kakao.com/view/v1/landing/genre?category_uid=10&subcategory_uid=0&sort_type=update&page=284', 'status': 500, 'statusText': 'Internal Server Error', 'body': {'result_code': -3000, 'message': '서버 에러', 'response_time': '2023-04-25 21:38:43'}}}}], 'data': None}\n"
     ]
    },
    {
     "name": "stderr",
     "output_type": "stream",
     "text": [
      " 14%|█▍        | 285/2000 [15:33<1:31:19,  3.20s/it]"
     ]
    },
    {
     "name": "stdout",
     "output_type": "stream",
     "text": [
      "'NoneType' object is not subscriptable\n",
      "285 <Response [200]> {'errors': [{'message': '500: Internal Server Error', 'locations': [{'line': 2, 'column': 3}], 'path': ['staticLandingGenreSection'], 'extensions': {'code': 'INTERNAL_SERVER_ERROR', 'response': {'url': 'https://api-page.kakao.com/view/v1/landing/genre?category_uid=10&subcategory_uid=0&sort_type=update&page=285', 'status': 500, 'statusText': 'Internal Server Error', 'body': {'result_code': -3000, 'message': '서버 에러', 'response_time': '2023-04-25 21:38:46'}}}}], 'data': None}\n"
     ]
    },
    {
     "name": "stderr",
     "output_type": "stream",
     "text": [
      " 15%|█▌        | 307/2000 [16:45<1:31:33,  3.24s/it]"
     ]
    },
    {
     "name": "stdout",
     "output_type": "stream",
     "text": [
      "'NoneType' object is not subscriptable\n",
      "307 <Response [200]> {'errors': [{'message': '500: Internal Server Error', 'locations': [{'line': 2, 'column': 3}], 'path': ['staticLandingGenreSection'], 'extensions': {'code': 'INTERNAL_SERVER_ERROR', 'response': {'url': 'https://api-page.kakao.com/view/v1/landing/genre?category_uid=10&subcategory_uid=0&sort_type=update&page=307', 'status': 500, 'statusText': 'Internal Server Error', 'body': {'result_code': -3000, 'message': '서버 에러', 'response_time': '2023-04-25 21:39:58'}}}}], 'data': None}\n"
     ]
    },
    {
     "name": "stderr",
     "output_type": "stream",
     "text": [
      " 16%|█▌        | 310/2000 [16:54<1:30:39,  3.22s/it]"
     ]
    },
    {
     "name": "stdout",
     "output_type": "stream",
     "text": [
      "'NoneType' object is not subscriptable\n",
      "310 <Response [200]> {'errors': [{'message': '500: Internal Server Error', 'locations': [{'line': 2, 'column': 3}], 'path': ['staticLandingGenreSection'], 'extensions': {'code': 'INTERNAL_SERVER_ERROR', 'response': {'url': 'https://api-page.kakao.com/view/v1/landing/genre?category_uid=10&subcategory_uid=0&sort_type=update&page=310', 'status': 500, 'statusText': 'Internal Server Error', 'body': {'result_code': -3000, 'message': '서버 에러', 'response_time': '2023-04-25 21:40:08'}}}}], 'data': None}\n"
     ]
    },
    {
     "name": "stderr",
     "output_type": "stream",
     "text": [
      " 16%|█▌        | 314/2000 [17:07<1:30:53,  3.23s/it]"
     ]
    },
    {
     "name": "stdout",
     "output_type": "stream",
     "text": [
      "'NoneType' object is not subscriptable\n",
      "314 <Response [200]> {'errors': [{'message': '500: Internal Server Error', 'locations': [{'line': 2, 'column': 3}], 'path': ['staticLandingGenreSection'], 'extensions': {'code': 'INTERNAL_SERVER_ERROR', 'response': {'url': 'https://api-page.kakao.com/view/v1/landing/genre?category_uid=10&subcategory_uid=0&sort_type=update&page=314', 'status': 500, 'statusText': 'Internal Server Error', 'body': {'result_code': -3000, 'message': '서버 에러', 'response_time': '2023-04-25 21:40:21'}}}}], 'data': None}\n"
     ]
    },
    {
     "name": "stderr",
     "output_type": "stream",
     "text": [
      " 17%|█▋        | 335/2000 [18:16<1:29:38,  3.23s/it]"
     ]
    },
    {
     "name": "stdout",
     "output_type": "stream",
     "text": [
      "'NoneType' object is not subscriptable\n",
      "335 <Response [200]> {'errors': [{'message': '500: Internal Server Error', 'locations': [{'line': 2, 'column': 3}], 'path': ['staticLandingGenreSection'], 'extensions': {'code': 'INTERNAL_SERVER_ERROR', 'response': {'url': 'https://api-page.kakao.com/view/v1/landing/genre?category_uid=10&subcategory_uid=0&sort_type=update&page=335', 'status': 500, 'statusText': 'Internal Server Error', 'body': {'result_code': -3000, 'message': '서버 에러', 'response_time': '2023-04-25 21:41:30'}}}}], 'data': None}\n"
     ]
    },
    {
     "name": "stderr",
     "output_type": "stream",
     "text": [
      " 19%|█▊        | 371/2000 [20:14<1:28:10,  3.25s/it]"
     ]
    },
    {
     "name": "stdout",
     "output_type": "stream",
     "text": [
      "'NoneType' object is not subscriptable\n",
      "371 <Response [200]> {'errors': [{'message': '500: Internal Server Error', 'locations': [{'line': 2, 'column': 3}], 'path': ['staticLandingGenreSection'], 'extensions': {'code': 'INTERNAL_SERVER_ERROR', 'response': {'url': 'https://api-page.kakao.com/view/v1/landing/genre?category_uid=10&subcategory_uid=0&sort_type=update&page=371', 'status': 500, 'statusText': 'Internal Server Error', 'body': {'result_code': -3000, 'message': '서버 에러', 'response_time': '2023-04-25 21:43:28'}}}}], 'data': None}\n"
     ]
    },
    {
     "name": "stderr",
     "output_type": "stream",
     "text": [
      " 19%|█▉        | 381/2000 [20:47<1:27:09,  3.23s/it]"
     ]
    },
    {
     "name": "stdout",
     "output_type": "stream",
     "text": [
      "'NoneType' object is not subscriptable\n",
      "381 <Response [200]> {'errors': [{'message': '500: Internal Server Error', 'locations': [{'line': 2, 'column': 3}], 'path': ['staticLandingGenreSection'], 'extensions': {'code': 'INTERNAL_SERVER_ERROR', 'response': {'url': 'https://api-page.kakao.com/view/v1/landing/genre?category_uid=10&subcategory_uid=0&sort_type=update&page=381', 'status': 500, 'statusText': 'Internal Server Error', 'body': {'result_code': -3000, 'message': '서버 에러', 'response_time': '2023-04-25 21:44:01'}}}}], 'data': None}\n"
     ]
    },
    {
     "name": "stderr",
     "output_type": "stream",
     "text": [
      " 19%|█▉        | 385/2000 [21:00<1:26:42,  3.22s/it]"
     ]
    },
    {
     "name": "stdout",
     "output_type": "stream",
     "text": [
      "'NoneType' object is not subscriptable\n",
      "385 <Response [200]> {'errors': [{'message': '500: Internal Server Error', 'locations': [{'line': 2, 'column': 3}], 'path': ['staticLandingGenreSection'], 'extensions': {'code': 'INTERNAL_SERVER_ERROR', 'response': {'url': 'https://api-page.kakao.com/view/v1/landing/genre?category_uid=10&subcategory_uid=0&sort_type=update&page=385', 'status': 500, 'statusText': 'Internal Server Error', 'body': {'result_code': -3000, 'message': '서버 에러', 'response_time': '2023-04-25 21:44:14'}}}}], 'data': None}\n"
     ]
    },
    {
     "name": "stderr",
     "output_type": "stream",
     "text": [
      " 21%|██        | 413/2000 [22:32<1:25:56,  3.25s/it]"
     ]
    },
    {
     "name": "stdout",
     "output_type": "stream",
     "text": [
      "'NoneType' object is not subscriptable\n",
      "413 <Response [200]> {'errors': [{'message': '500: Internal Server Error', 'locations': [{'line': 2, 'column': 3}], 'path': ['staticLandingGenreSection'], 'extensions': {'code': 'INTERNAL_SERVER_ERROR', 'response': {'url': 'https://api-page.kakao.com/view/v1/landing/genre?category_uid=10&subcategory_uid=0&sort_type=update&page=413', 'status': 500, 'statusText': 'Internal Server Error', 'body': {'result_code': -3000, 'message': '서버 에러', 'response_time': '2023-04-25 21:45:46'}}}}], 'data': None}\n"
     ]
    },
    {
     "name": "stderr",
     "output_type": "stream",
     "text": [
      " 21%|██        | 421/2000 [22:59<1:25:16,  3.24s/it]"
     ]
    },
    {
     "name": "stdout",
     "output_type": "stream",
     "text": [
      "'NoneType' object is not subscriptable\n",
      "421 <Response [200]> {'errors': [{'message': '500: Internal Server Error', 'locations': [{'line': 2, 'column': 3}], 'path': ['staticLandingGenreSection'], 'extensions': {'code': 'INTERNAL_SERVER_ERROR', 'response': {'url': 'https://api-page.kakao.com/view/v1/landing/genre?category_uid=10&subcategory_uid=0&sort_type=update&page=421', 'status': 500, 'statusText': 'Internal Server Error', 'body': {'result_code': -3000, 'message': '서버 에러', 'response_time': '2023-04-25 21:46:12'}}}}], 'data': None}\n"
     ]
    },
    {
     "name": "stderr",
     "output_type": "stream",
     "text": [
      " 23%|██▎       | 464/2000 [25:20<1:23:00,  3.24s/it]"
     ]
    },
    {
     "name": "stdout",
     "output_type": "stream",
     "text": [
      "'NoneType' object is not subscriptable\n",
      "464 <Response [200]> {'errors': [{'message': '500: Internal Server Error', 'locations': [{'line': 2, 'column': 3}], 'path': ['staticLandingGenreSection'], 'extensions': {'code': 'INTERNAL_SERVER_ERROR', 'response': {'url': 'https://api-page.kakao.com/view/v1/landing/genre?category_uid=10&subcategory_uid=0&sort_type=update&page=464', 'status': 500, 'statusText': 'Internal Server Error', 'body': {'result_code': -3000, 'message': '서버 에러', 'response_time': '2023-04-25 21:48:34'}}}}], 'data': None}\n"
     ]
    },
    {
     "name": "stderr",
     "output_type": "stream",
     "text": [
      " 24%|██▍       | 486/2000 [26:33<1:21:59,  3.25s/it]"
     ]
    },
    {
     "name": "stdout",
     "output_type": "stream",
     "text": [
      "'NoneType' object is not subscriptable\n",
      "486 <Response [200]> {'errors': [{'message': '500: Internal Server Error', 'locations': [{'line': 2, 'column': 3}], 'path': ['staticLandingGenreSection'], 'extensions': {'code': 'INTERNAL_SERVER_ERROR', 'response': {'url': 'https://api-page.kakao.com/view/v1/landing/genre?category_uid=10&subcategory_uid=0&sort_type=update&page=486', 'status': 500, 'statusText': 'Internal Server Error', 'body': {'result_code': -3000, 'message': '서버 에러', 'response_time': '2023-04-25 21:49:46'}}}}], 'data': None}\n"
     ]
    },
    {
     "name": "stderr",
     "output_type": "stream",
     "text": [
      " 25%|██▍       | 499/2000 [27:15<1:21:03,  3.24s/it]"
     ]
    },
    {
     "name": "stdout",
     "output_type": "stream",
     "text": [
      "'NoneType' object is not subscriptable\n",
      "499 <Response [200]> {'errors': [{'message': '500: Internal Server Error', 'locations': [{'line': 2, 'column': 3}], 'path': ['staticLandingGenreSection'], 'extensions': {'code': 'INTERNAL_SERVER_ERROR', 'response': {'url': 'https://api-page.kakao.com/view/v1/landing/genre?category_uid=10&subcategory_uid=0&sort_type=update&page=499', 'status': 500, 'statusText': 'Internal Server Error', 'body': {'result_code': -3000, 'message': '서버 에러', 'response_time': '2023-04-25 21:50:29'}}}}], 'data': None}\n"
     ]
    },
    {
     "name": "stderr",
     "output_type": "stream",
     "text": [
      " 26%|██▌       | 519/2000 [28:22<1:20:34,  3.26s/it]"
     ]
    },
    {
     "name": "stdout",
     "output_type": "stream",
     "text": [
      "'NoneType' object is not subscriptable\n",
      "519 <Response [200]> {'errors': [{'message': '500: Internal Server Error', 'locations': [{'line': 2, 'column': 3}], 'path': ['staticLandingGenreSection'], 'extensions': {'code': 'INTERNAL_SERVER_ERROR', 'response': {'url': 'https://api-page.kakao.com/view/v1/landing/genre?category_uid=10&subcategory_uid=0&sort_type=update&page=519', 'status': 500, 'statusText': 'Internal Server Error', 'body': {'result_code': -3000, 'message': '서버 에러', 'response_time': '2023-04-25 21:51:35'}}}}], 'data': None}\n"
     ]
    },
    {
     "name": "stderr",
     "output_type": "stream",
     "text": [
      " 27%|██▋       | 531/2000 [29:01<1:19:37,  3.25s/it]"
     ]
    },
    {
     "name": "stdout",
     "output_type": "stream",
     "text": [
      "'NoneType' object is not subscriptable\n",
      "531 <Response [200]> {'errors': [{'message': '500: Internal Server Error', 'locations': [{'line': 2, 'column': 3}], 'path': ['staticLandingGenreSection'], 'extensions': {'code': 'INTERNAL_SERVER_ERROR', 'response': {'url': 'https://api-page.kakao.com/view/v1/landing/genre?category_uid=10&subcategory_uid=0&sort_type=update&page=531', 'status': 500, 'statusText': 'Internal Server Error', 'body': {'result_code': -3000, 'message': '서버 에러', 'response_time': '2023-04-25 21:52:15'}}}}], 'data': None}\n"
     ]
    },
    {
     "name": "stderr",
     "output_type": "stream",
     "text": [
      " 27%|██▋       | 542/2000 [29:38<1:19:22,  3.27s/it]"
     ]
    },
    {
     "name": "stdout",
     "output_type": "stream",
     "text": [
      "'NoneType' object is not subscriptable\n",
      "542 <Response [200]> {'errors': [{'message': '500: Internal Server Error', 'locations': [{'line': 2, 'column': 3}], 'path': ['staticLandingGenreSection'], 'extensions': {'code': 'INTERNAL_SERVER_ERROR', 'response': {'url': 'https://api-page.kakao.com/view/v1/landing/genre?category_uid=10&subcategory_uid=0&sort_type=update&page=542', 'status': 500, 'statusText': 'Internal Server Error', 'body': {'result_code': -3000, 'message': '서버 에러', 'response_time': '2023-04-25 21:52:51'}}}}], 'data': None}\n"
     ]
    },
    {
     "name": "stderr",
     "output_type": "stream",
     "text": [
      " 27%|██▋       | 545/2000 [29:47<1:18:21,  3.23s/it]"
     ]
    },
    {
     "name": "stdout",
     "output_type": "stream",
     "text": [
      "'NoneType' object is not subscriptable\n",
      "545 <Response [200]> {'errors': [{'message': '500: Internal Server Error', 'locations': [{'line': 2, 'column': 3}], 'path': ['staticLandingGenreSection'], 'extensions': {'code': 'INTERNAL_SERVER_ERROR', 'response': {'url': 'https://api-page.kakao.com/view/v1/landing/genre?category_uid=10&subcategory_uid=0&sort_type=update&page=545', 'status': 500, 'statusText': 'Internal Server Error', 'body': {'result_code': -3000, 'message': '서버 에러', 'response_time': '2023-04-25 21:53:01'}}}}], 'data': None}\n"
     ]
    },
    {
     "name": "stderr",
     "output_type": "stream",
     "text": [
      " 29%|██▉       | 576/2000 [31:30<1:17:22,  3.26s/it]"
     ]
    },
    {
     "name": "stdout",
     "output_type": "stream",
     "text": [
      "'NoneType' object is not subscriptable\n",
      "576 <Response [200]> {'errors': [{'message': '500: Internal Server Error', 'locations': [{'line': 2, 'column': 3}], 'path': ['staticLandingGenreSection'], 'extensions': {'code': 'INTERNAL_SERVER_ERROR', 'response': {'url': 'https://api-page.kakao.com/view/v1/landing/genre?category_uid=10&subcategory_uid=0&sort_type=update&page=576', 'status': 500, 'statusText': 'Internal Server Error', 'body': {'result_code': -3000, 'message': '서버 에러', 'response_time': '2023-04-25 21:54:44'}}}}], 'data': None}\n"
     ]
    },
    {
     "name": "stderr",
     "output_type": "stream",
     "text": [
      " 29%|██▉       | 577/2000 [31:33<1:16:11,  3.21s/it]"
     ]
    },
    {
     "name": "stdout",
     "output_type": "stream",
     "text": [
      "'NoneType' object is not subscriptable\n",
      "577 <Response [200]> {'errors': [{'message': '500: Internal Server Error', 'locations': [{'line': 2, 'column': 3}], 'path': ['staticLandingGenreSection'], 'extensions': {'code': 'INTERNAL_SERVER_ERROR', 'response': {'url': 'https://api-page.kakao.com/view/v1/landing/genre?category_uid=10&subcategory_uid=0&sort_type=update&page=577', 'status': 500, 'statusText': 'Internal Server Error', 'body': {'result_code': -3000, 'message': '서버 에러', 'response_time': '2023-04-25 21:54:47'}}}}], 'data': None}\n"
     ]
    },
    {
     "name": "stderr",
     "output_type": "stream",
     "text": [
      " 29%|██▉       | 583/2000 [31:53<1:16:46,  3.25s/it]"
     ]
    },
    {
     "name": "stdout",
     "output_type": "stream",
     "text": [
      "'NoneType' object is not subscriptable\n",
      "583 <Response [200]> {'errors': [{'message': '500: Internal Server Error', 'locations': [{'line': 2, 'column': 3}], 'path': ['staticLandingGenreSection'], 'extensions': {'code': 'INTERNAL_SERVER_ERROR', 'response': {'url': 'https://api-page.kakao.com/view/v1/landing/genre?category_uid=10&subcategory_uid=0&sort_type=update&page=583', 'status': 500, 'statusText': 'Internal Server Error', 'body': {'result_code': -3000, 'message': '서버 에러', 'response_time': '2023-04-25 21:55:07'}}}}], 'data': None}\n"
     ]
    },
    {
     "name": "stderr",
     "output_type": "stream",
     "text": [
      " 30%|██▉       | 593/2000 [32:27<1:18:42,  3.36s/it]"
     ]
    },
    {
     "name": "stdout",
     "output_type": "stream",
     "text": [
      "'NoneType' object is not subscriptable\n",
      "593 <Response [200]> {'errors': [{'message': '500: Internal Server Error', 'locations': [{'line': 2, 'column': 3}], 'path': ['staticLandingGenreSection'], 'extensions': {'code': 'INTERNAL_SERVER_ERROR', 'response': {'url': 'https://api-page.kakao.com/view/v1/landing/genre?category_uid=10&subcategory_uid=0&sort_type=update&page=593', 'status': 500, 'statusText': 'Internal Server Error', 'body': {'result_code': -3000, 'message': '서버 에러', 'response_time': '2023-04-25 21:55:41'}}}}], 'data': None}\n"
     ]
    },
    {
     "name": "stderr",
     "output_type": "stream",
     "text": [
      " 31%|███       | 622/2000 [34:03<1:14:46,  3.26s/it]"
     ]
    },
    {
     "name": "stdout",
     "output_type": "stream",
     "text": [
      "'NoneType' object is not subscriptable\n",
      "622 <Response [200]> {'errors': [{'message': '500: Internal Server Error', 'locations': [{'line': 2, 'column': 3}], 'path': ['staticLandingGenreSection'], 'extensions': {'code': 'INTERNAL_SERVER_ERROR', 'response': {'url': 'https://api-page.kakao.com/view/v1/landing/genre?category_uid=10&subcategory_uid=0&sort_type=update&page=622', 'status': 500, 'statusText': 'Internal Server Error', 'body': {'result_code': -3000, 'message': '서버 에러', 'response_time': '2023-04-25 21:57:16'}}}}], 'data': None}\n"
     ]
    },
    {
     "name": "stderr",
     "output_type": "stream",
     "text": [
      " 32%|███▏      | 634/2000 [34:42<1:13:48,  3.24s/it]"
     ]
    },
    {
     "name": "stdout",
     "output_type": "stream",
     "text": [
      "'NoneType' object is not subscriptable\n",
      "634 <Response [200]> {'errors': [{'message': '500: Internal Server Error', 'locations': [{'line': 2, 'column': 3}], 'path': ['staticLandingGenreSection'], 'extensions': {'code': 'INTERNAL_SERVER_ERROR', 'response': {'url': 'https://api-page.kakao.com/view/v1/landing/genre?category_uid=10&subcategory_uid=0&sort_type=update&page=634', 'status': 500, 'statusText': 'Internal Server Error', 'body': {'result_code': -3000, 'message': '서버 에러', 'response_time': '2023-04-25 21:57:56'}}}}], 'data': None}\n"
     ]
    },
    {
     "name": "stderr",
     "output_type": "stream",
     "text": [
      " 33%|███▎      | 655/2000 [35:51<1:12:38,  3.24s/it]"
     ]
    },
    {
     "name": "stdout",
     "output_type": "stream",
     "text": [
      "'NoneType' object is not subscriptable\n",
      "655 <Response [200]> {'errors': [{'message': '500: Internal Server Error', 'locations': [{'line': 2, 'column': 3}], 'path': ['staticLandingGenreSection'], 'extensions': {'code': 'INTERNAL_SERVER_ERROR', 'response': {'url': 'https://api-page.kakao.com/view/v1/landing/genre?category_uid=10&subcategory_uid=0&sort_type=update&page=655', 'status': 500, 'statusText': 'Internal Server Error', 'body': {'result_code': -3000, 'message': '서버 에러', 'response_time': '2023-04-25 21:59:04'}}}}], 'data': None}\n"
     ]
    },
    {
     "name": "stderr",
     "output_type": "stream",
     "text": [
      " 33%|███▎      | 667/2000 [36:30<1:11:57,  3.24s/it]"
     ]
    },
    {
     "name": "stdout",
     "output_type": "stream",
     "text": [
      "'NoneType' object is not subscriptable\n",
      "667 <Response [200]> {'errors': [{'message': '500: Internal Server Error', 'locations': [{'line': 2, 'column': 3}], 'path': ['staticLandingGenreSection'], 'extensions': {'code': 'INTERNAL_SERVER_ERROR', 'response': {'url': 'https://api-page.kakao.com/view/v1/landing/genre?category_uid=10&subcategory_uid=0&sort_type=update&page=667', 'status': 500, 'statusText': 'Internal Server Error', 'body': {'result_code': -3000, 'message': '서버 에러', 'response_time': '2023-04-25 21:59:44'}}}}], 'data': None}\n"
     ]
    },
    {
     "name": "stderr",
     "output_type": "stream",
     "text": [
      " 34%|███▍      | 688/2000 [37:40<1:11:03,  3.25s/it]"
     ]
    },
    {
     "name": "stdout",
     "output_type": "stream",
     "text": [
      "'NoneType' object is not subscriptable\n",
      "688 <Response [200]> {'errors': [{'message': '500: Internal Server Error', 'locations': [{'line': 2, 'column': 3}], 'path': ['staticLandingGenreSection'], 'extensions': {'code': 'INTERNAL_SERVER_ERROR', 'response': {'url': 'https://api-page.kakao.com/view/v1/landing/genre?category_uid=10&subcategory_uid=0&sort_type=update&page=688', 'status': 500, 'statusText': 'Internal Server Error', 'body': {'result_code': -3000, 'message': '서버 에러', 'response_time': '2023-04-25 22:00:53'}}}}], 'data': None}\n"
     ]
    },
    {
     "name": "stderr",
     "output_type": "stream",
     "text": [
      " 35%|███▍      | 698/2000 [38:12<1:10:24,  3.24s/it]"
     ]
    },
    {
     "name": "stdout",
     "output_type": "stream",
     "text": [
      "'NoneType' object is not subscriptable\n",
      "698 <Response [200]> {'errors': [{'message': '500: Internal Server Error', 'locations': [{'line': 2, 'column': 3}], 'path': ['staticLandingGenreSection'], 'extensions': {'code': 'INTERNAL_SERVER_ERROR', 'response': {'url': 'https://api-page.kakao.com/view/v1/landing/genre?category_uid=10&subcategory_uid=0&sort_type=update&page=698', 'status': 500, 'statusText': 'Internal Server Error', 'body': {'result_code': -3000, 'message': '서버 에러', 'response_time': '2023-04-25 22:01:26'}}}}], 'data': None}\n"
     ]
    },
    {
     "name": "stderr",
     "output_type": "stream",
     "text": [
      " 35%|███▍      | 699/2000 [38:16<1:09:49,  3.22s/it]"
     ]
    },
    {
     "name": "stdout",
     "output_type": "stream",
     "text": [
      "'NoneType' object is not subscriptable\n",
      "699 <Response [200]> {'errors': [{'message': '500: Internal Server Error', 'locations': [{'line': 2, 'column': 3}], 'path': ['staticLandingGenreSection'], 'extensions': {'code': 'INTERNAL_SERVER_ERROR', 'response': {'url': 'https://api-page.kakao.com/view/v1/landing/genre?category_uid=10&subcategory_uid=0&sort_type=update&page=699', 'status': 500, 'statusText': 'Internal Server Error', 'body': {'result_code': -3000, 'message': '서버 에러', 'response_time': '2023-04-25 22:01:29'}}}}], 'data': None}\n"
     ]
    },
    {
     "name": "stderr",
     "output_type": "stream",
     "text": [
      " 35%|███▌      | 701/2000 [38:22<1:09:21,  3.20s/it]"
     ]
    },
    {
     "name": "stdout",
     "output_type": "stream",
     "text": [
      "'NoneType' object is not subscriptable\n",
      "701 <Response [200]> {'errors': [{'message': '500: Internal Server Error', 'locations': [{'line': 2, 'column': 3}], 'path': ['staticLandingGenreSection'], 'extensions': {'code': 'INTERNAL_SERVER_ERROR', 'response': {'url': 'https://api-page.kakao.com/view/v1/landing/genre?category_uid=10&subcategory_uid=0&sort_type=update&page=701', 'status': 500, 'statusText': 'Internal Server Error', 'body': {'result_code': -3000, 'message': '서버 에러', 'response_time': '2023-04-25 22:01:36'}}}}], 'data': None}\n"
     ]
    },
    {
     "name": "stderr",
     "output_type": "stream",
     "text": [
      " 36%|███▌      | 712/2000 [38:58<1:09:46,  3.25s/it]"
     ]
    },
    {
     "name": "stdout",
     "output_type": "stream",
     "text": [
      "'NoneType' object is not subscriptable\n",
      "712 <Response [200]> {'errors': [{'message': '500: Internal Server Error', 'locations': [{'line': 2, 'column': 3}], 'path': ['staticLandingGenreSection'], 'extensions': {'code': 'INTERNAL_SERVER_ERROR', 'response': {'url': 'https://api-page.kakao.com/view/v1/landing/genre?category_uid=10&subcategory_uid=0&sort_type=update&page=712', 'status': 500, 'statusText': 'Internal Server Error', 'body': {'result_code': -3000, 'message': '서버 에러', 'response_time': '2023-04-25 22:02:12'}}}}], 'data': None}\n"
     ]
    },
    {
     "name": "stderr",
     "output_type": "stream",
     "text": [
      " 36%|███▌      | 717/2000 [39:15<1:09:08,  3.23s/it]"
     ]
    },
    {
     "name": "stdout",
     "output_type": "stream",
     "text": [
      "'NoneType' object is not subscriptable\n",
      "717 <Response [200]> {'errors': [{'message': '500: Internal Server Error', 'locations': [{'line': 2, 'column': 3}], 'path': ['staticLandingGenreSection'], 'extensions': {'code': 'INTERNAL_SERVER_ERROR', 'response': {'url': 'https://api-page.kakao.com/view/v1/landing/genre?category_uid=10&subcategory_uid=0&sort_type=update&page=717', 'status': 500, 'statusText': 'Internal Server Error', 'body': {'result_code': -3000, 'message': '서버 에러', 'response_time': '2023-04-25 22:02:28'}}}}], 'data': None}\n"
     ]
    },
    {
     "name": "stderr",
     "output_type": "stream",
     "text": [
      " 36%|███▌      | 722/2000 [39:51<3:16:35,  9.23s/it]"
     ]
    },
    {
     "name": "stdout",
     "output_type": "stream",
     "text": [
      "'NoneType' object is not subscriptable\n",
      "722 <Response [200]> {'errors': [{'message': 'network timeout at: https://api-page.kakao.com/view/v1/landing/genre?category_uid=10&subcategory_uid=0&sort_type=update&page=722', 'locations': [{'line': 2, 'column': 3}], 'path': ['staticLandingGenreSection'], 'extensions': {'isSerializedPagewebError': True, 'type': 'unexpectedFetchError', 'message': 'network timeout at: https://api-page.kakao.com/view/v1/landing/genre?category_uid=10&subcategory_uid=0&sort_type=update&page=722', 'code': 'CUSTOM_ERROR'}}], 'data': None}\n"
     ]
    },
    {
     "name": "stderr",
     "output_type": "stream",
     "text": [
      " 37%|███▋      | 735/2000 [40:34<1:09:25,  3.29s/it]"
     ]
    },
    {
     "name": "stdout",
     "output_type": "stream",
     "text": [
      "'NoneType' object is not subscriptable\n",
      "735 <Response [200]> {'errors': [{'message': '500: Internal Server Error', 'locations': [{'line': 2, 'column': 3}], 'path': ['staticLandingGenreSection'], 'extensions': {'code': 'INTERNAL_SERVER_ERROR', 'response': {'url': 'https://api-page.kakao.com/view/v1/landing/genre?category_uid=10&subcategory_uid=0&sort_type=update&page=735', 'status': 500, 'statusText': 'Internal Server Error', 'body': {'result_code': -3000, 'message': '서버 에러', 'response_time': '2023-04-25 22:03:47'}}}}], 'data': None}\n"
     ]
    },
    {
     "name": "stderr",
     "output_type": "stream",
     "text": [
      " 39%|███▊      | 772/2000 [42:36<1:06:17,  3.24s/it]"
     ]
    },
    {
     "name": "stdout",
     "output_type": "stream",
     "text": [
      "'NoneType' object is not subscriptable\n",
      "772 <Response [200]> {'errors': [{'message': '500: Internal Server Error', 'locations': [{'line': 2, 'column': 3}], 'path': ['staticLandingGenreSection'], 'extensions': {'code': 'INTERNAL_SERVER_ERROR', 'response': {'url': 'https://api-page.kakao.com/view/v1/landing/genre?category_uid=10&subcategory_uid=0&sort_type=update&page=772', 'status': 500, 'statusText': 'Internal Server Error', 'body': {'result_code': -3000, 'message': '서버 에러', 'response_time': '2023-04-25 22:05:50'}}}}], 'data': None}\n"
     ]
    },
    {
     "name": "stderr",
     "output_type": "stream",
     "text": [
      " 40%|███▉      | 795/2000 [43:52<1:05:21,  3.25s/it]"
     ]
    },
    {
     "name": "stdout",
     "output_type": "stream",
     "text": [
      "'NoneType' object is not subscriptable\n",
      "795 <Response [200]> {'errors': [{'message': '500: Internal Server Error', 'locations': [{'line': 2, 'column': 3}], 'path': ['staticLandingGenreSection'], 'extensions': {'code': 'INTERNAL_SERVER_ERROR', 'response': {'url': 'https://api-page.kakao.com/view/v1/landing/genre?category_uid=10&subcategory_uid=0&sort_type=update&page=795', 'status': 500, 'statusText': 'Internal Server Error', 'body': {'result_code': -3000, 'message': '서버 에러', 'response_time': '2023-04-25 22:07:05'}}}}], 'data': None}\n"
     ]
    },
    {
     "name": "stderr",
     "output_type": "stream",
     "text": [
      " 40%|████      | 806/2000 [44:28<1:04:22,  3.23s/it]"
     ]
    },
    {
     "name": "stdout",
     "output_type": "stream",
     "text": [
      "'NoneType' object is not subscriptable\n",
      "806 <Response [200]> {'errors': [{'message': '500: Internal Server Error', 'locations': [{'line': 2, 'column': 3}], 'path': ['staticLandingGenreSection'], 'extensions': {'code': 'INTERNAL_SERVER_ERROR', 'response': {'url': 'https://api-page.kakao.com/view/v1/landing/genre?category_uid=10&subcategory_uid=0&sort_type=update&page=806', 'status': 500, 'statusText': 'Internal Server Error', 'body': {'result_code': -3000, 'message': '서버 에러', 'response_time': '2023-04-25 22:07:41'}}}}], 'data': None}\n"
     ]
    },
    {
     "name": "stderr",
     "output_type": "stream",
     "text": [
      " 40%|████      | 809/2000 [44:38<1:04:17,  3.24s/it]"
     ]
    },
    {
     "name": "stdout",
     "output_type": "stream",
     "text": [
      "'NoneType' object is not subscriptable\n",
      "809 <Response [200]> {'errors': [{'message': '500: Internal Server Error', 'locations': [{'line': 2, 'column': 3}], 'path': ['staticLandingGenreSection'], 'extensions': {'code': 'INTERNAL_SERVER_ERROR', 'response': {'url': 'https://api-page.kakao.com/view/v1/landing/genre?category_uid=10&subcategory_uid=0&sort_type=update&page=809', 'status': 500, 'statusText': 'Internal Server Error', 'body': {'result_code': -3000, 'message': '서버 에러', 'response_time': '2023-04-25 22:07:51'}}}}], 'data': None}\n"
     ]
    },
    {
     "name": "stderr",
     "output_type": "stream",
     "text": [
      " 42%|████▏     | 837/2000 [46:10<1:03:11,  3.26s/it]"
     ]
    },
    {
     "name": "stdout",
     "output_type": "stream",
     "text": [
      "'NoneType' object is not subscriptable\n",
      "837 <Response [200]> {'errors': [{'message': '500: Internal Server Error', 'locations': [{'line': 2, 'column': 3}], 'path': ['staticLandingGenreSection'], 'extensions': {'code': 'INTERNAL_SERVER_ERROR', 'response': {'url': 'https://api-page.kakao.com/view/v1/landing/genre?category_uid=10&subcategory_uid=0&sort_type=update&page=837', 'status': 500, 'statusText': 'Internal Server Error', 'body': {'result_code': -3000, 'message': '서버 에러', 'response_time': '2023-04-25 22:09:24'}}}}], 'data': None}\n"
     ]
    },
    {
     "name": "stderr",
     "output_type": "stream",
     "text": [
      " 43%|████▎     | 868/2000 [47:52<1:01:11,  3.24s/it]"
     ]
    },
    {
     "name": "stdout",
     "output_type": "stream",
     "text": [
      "'NoneType' object is not subscriptable\n",
      "868 <Response [200]> {'errors': [{'message': '500: Internal Server Error', 'locations': [{'line': 2, 'column': 3}], 'path': ['staticLandingGenreSection'], 'extensions': {'code': 'INTERNAL_SERVER_ERROR', 'response': {'url': 'https://api-page.kakao.com/view/v1/landing/genre?category_uid=10&subcategory_uid=0&sort_type=update&page=868', 'status': 500, 'statusText': 'Internal Server Error', 'body': {'result_code': -3000, 'message': '서버 에러', 'response_time': '2023-04-25 22:11:06'}}}}], 'data': None}\n"
     ]
    },
    {
     "name": "stderr",
     "output_type": "stream",
     "text": [
      " 44%|████▍     | 882/2000 [48:38<1:00:20,  3.24s/it]"
     ]
    },
    {
     "name": "stdout",
     "output_type": "stream",
     "text": [
      "'NoneType' object is not subscriptable\n",
      "882 <Response [200]> {'errors': [{'message': '500: Internal Server Error', 'locations': [{'line': 2, 'column': 3}], 'path': ['staticLandingGenreSection'], 'extensions': {'code': 'INTERNAL_SERVER_ERROR', 'response': {'url': 'https://api-page.kakao.com/view/v1/landing/genre?category_uid=10&subcategory_uid=0&sort_type=update&page=882', 'status': 500, 'statusText': 'Internal Server Error', 'body': {'result_code': -3000, 'message': '서버 에러', 'response_time': '2023-04-25 22:11:52'}}}}], 'data': None}\n"
     ]
    },
    {
     "name": "stderr",
     "output_type": "stream",
     "text": [
      " 45%|████▌     | 908/2000 [50:04<59:04,  3.25s/it]  "
     ]
    },
    {
     "name": "stdout",
     "output_type": "stream",
     "text": [
      "'NoneType' object is not subscriptable\n",
      "908 <Response [200]> {'errors': [{'message': '500: Internal Server Error', 'locations': [{'line': 2, 'column': 3}], 'path': ['staticLandingGenreSection'], 'extensions': {'code': 'INTERNAL_SERVER_ERROR', 'response': {'url': 'https://api-page.kakao.com/view/v1/landing/genre?category_uid=10&subcategory_uid=0&sort_type=update&page=908', 'status': 500, 'statusText': 'Internal Server Error', 'body': {'result_code': -3000, 'message': '서버 에러', 'response_time': '2023-04-25 22:13:18'}}}}], 'data': None}\n"
     ]
    },
    {
     "name": "stderr",
     "output_type": "stream",
     "text": [
      " 46%|████▌     | 912/2000 [50:17<58:53,  3.25s/it]  "
     ]
    },
    {
     "name": "stdout",
     "output_type": "stream",
     "text": [
      "'NoneType' object is not subscriptable\n",
      "912 <Response [200]> {'errors': [{'message': '500: Internal Server Error', 'locations': [{'line': 2, 'column': 3}], 'path': ['staticLandingGenreSection'], 'extensions': {'code': 'INTERNAL_SERVER_ERROR', 'response': {'url': 'https://api-page.kakao.com/view/v1/landing/genre?category_uid=10&subcategory_uid=0&sort_type=update&page=912', 'status': 500, 'statusText': 'Internal Server Error', 'body': {'result_code': -3000, 'message': '서버 에러', 'response_time': '2023-04-25 22:13:31'}}}}], 'data': None}\n"
     ]
    },
    {
     "name": "stderr",
     "output_type": "stream",
     "text": [
      " 46%|████▌     | 924/2000 [50:57<58:10,  3.24s/it]"
     ]
    },
    {
     "name": "stdout",
     "output_type": "stream",
     "text": [
      "'NoneType' object is not subscriptable\n",
      "924 <Response [200]> {'errors': [{'message': '500: Internal Server Error', 'locations': [{'line': 2, 'column': 3}], 'path': ['staticLandingGenreSection'], 'extensions': {'code': 'INTERNAL_SERVER_ERROR', 'response': {'url': 'https://api-page.kakao.com/view/v1/landing/genre?category_uid=10&subcategory_uid=0&sort_type=update&page=924', 'status': 500, 'statusText': 'Internal Server Error', 'body': {'result_code': -3000, 'message': '서버 에러', 'response_time': '2023-04-25 22:14:10'}}}}], 'data': None}\n"
     ]
    },
    {
     "name": "stderr",
     "output_type": "stream",
     "text": [
      " 46%|████▋     | 926/2000 [51:03<57:43,  3.23s/it]"
     ]
    },
    {
     "name": "stdout",
     "output_type": "stream",
     "text": [
      "'NoneType' object is not subscriptable\n",
      "926 <Response [200]> {'errors': [{'message': '500: Internal Server Error', 'locations': [{'line': 2, 'column': 3}], 'path': ['staticLandingGenreSection'], 'extensions': {'code': 'INTERNAL_SERVER_ERROR', 'response': {'url': 'https://api-page.kakao.com/view/v1/landing/genre?category_uid=10&subcategory_uid=0&sort_type=update&page=926', 'status': 500, 'statusText': 'Internal Server Error', 'body': {'result_code': -3000, 'message': '서버 에러', 'response_time': '2023-04-25 22:14:17'}}}}], 'data': None}\n"
     ]
    },
    {
     "name": "stderr",
     "output_type": "stream",
     "text": [
      " 48%|████▊     | 961/2000 [52:59<55:58,  3.23s/it]"
     ]
    },
    {
     "name": "stdout",
     "output_type": "stream",
     "text": [
      "'NoneType' object is not subscriptable\n",
      "961 <Response [200]> {'errors': [{'message': '500: Internal Server Error', 'locations': [{'line': 2, 'column': 3}], 'path': ['staticLandingGenreSection'], 'extensions': {'code': 'INTERNAL_SERVER_ERROR', 'response': {'url': 'https://api-page.kakao.com/view/v1/landing/genre?category_uid=10&subcategory_uid=0&sort_type=update&page=961', 'status': 500, 'statusText': 'Internal Server Error', 'body': {'result_code': -3000, 'message': '서버 에러', 'response_time': '2023-04-25 22:16:12'}}}}], 'data': None}\n"
     ]
    },
    {
     "name": "stderr",
     "output_type": "stream",
     "text": [
      " 49%|████▊     | 971/2000 [53:31<55:21,  3.23s/it]"
     ]
    },
    {
     "name": "stdout",
     "output_type": "stream",
     "text": [
      "'NoneType' object is not subscriptable\n",
      "971 <Response [200]> {'errors': [{'message': '500: Internal Server Error', 'locations': [{'line': 2, 'column': 3}], 'path': ['staticLandingGenreSection'], 'extensions': {'code': 'INTERNAL_SERVER_ERROR', 'response': {'url': 'https://api-page.kakao.com/view/v1/landing/genre?category_uid=10&subcategory_uid=0&sort_type=update&page=971', 'status': 500, 'statusText': 'Internal Server Error', 'body': {'result_code': -3000, 'message': '서버 에러', 'response_time': '2023-04-25 22:16:45'}}}}], 'data': None}\n"
     ]
    },
    {
     "name": "stderr",
     "output_type": "stream",
     "text": [
      " 49%|████▉     | 980/2000 [54:01<55:05,  3.24s/it]"
     ]
    },
    {
     "name": "stdout",
     "output_type": "stream",
     "text": [
      "'NoneType' object is not subscriptable\n",
      "980 <Response [200]> {'errors': [{'message': '500: Internal Server Error', 'locations': [{'line': 2, 'column': 3}], 'path': ['staticLandingGenreSection'], 'extensions': {'code': 'INTERNAL_SERVER_ERROR', 'response': {'url': 'https://api-page.kakao.com/view/v1/landing/genre?category_uid=10&subcategory_uid=0&sort_type=update&page=980', 'status': 500, 'statusText': 'Internal Server Error', 'body': {'result_code': -3000, 'message': '서버 에러', 'response_time': '2023-04-25 22:17:15'}}}}], 'data': None}\n"
     ]
    },
    {
     "name": "stderr",
     "output_type": "stream",
     "text": [
      " 49%|████▉     | 989/2000 [54:31<54:57,  3.26s/it]"
     ]
    },
    {
     "name": "stdout",
     "output_type": "stream",
     "text": [
      "'NoneType' object is not subscriptable\n",
      "989 <Response [200]> {'errors': [{'message': '500: Internal Server Error', 'locations': [{'line': 2, 'column': 3}], 'path': ['staticLandingGenreSection'], 'extensions': {'code': 'INTERNAL_SERVER_ERROR', 'response': {'url': 'https://api-page.kakao.com/view/v1/landing/genre?category_uid=10&subcategory_uid=0&sort_type=update&page=989', 'status': 500, 'statusText': 'Internal Server Error', 'body': {'result_code': -3000, 'message': '서버 에러', 'response_time': '2023-04-25 22:17:44'}}}}], 'data': None}\n"
     ]
    },
    {
     "name": "stderr",
     "output_type": "stream",
     "text": [
      " 50%|████▉     | 996/2000 [54:53<54:08,  3.24s/it]"
     ]
    },
    {
     "name": "stdout",
     "output_type": "stream",
     "text": [
      "'NoneType' object is not subscriptable\n",
      "996 <Response [200]> {'errors': [{'message': '500: Internal Server Error', 'locations': [{'line': 2, 'column': 3}], 'path': ['staticLandingGenreSection'], 'extensions': {'code': 'INTERNAL_SERVER_ERROR', 'response': {'url': 'https://api-page.kakao.com/view/v1/landing/genre?category_uid=10&subcategory_uid=0&sort_type=update&page=996', 'status': 500, 'statusText': 'Internal Server Error', 'body': {'result_code': -3000, 'message': '서버 에러', 'response_time': '2023-04-25 22:18:07'}}}}], 'data': None}\n"
     ]
    },
    {
     "name": "stderr",
     "output_type": "stream",
     "text": [
      " 50%|████▉     | 999/2000 [55:03<53:33,  3.21s/it]"
     ]
    },
    {
     "name": "stdout",
     "output_type": "stream",
     "text": [
      "'NoneType' object is not subscriptable\n",
      "999 <Response [200]> {'errors': [{'message': '500: Internal Server Error', 'locations': [{'line': 2, 'column': 3}], 'path': ['staticLandingGenreSection'], 'extensions': {'code': 'INTERNAL_SERVER_ERROR', 'response': {'url': 'https://api-page.kakao.com/view/v1/landing/genre?category_uid=10&subcategory_uid=0&sort_type=update&page=999', 'status': 500, 'statusText': 'Internal Server Error', 'body': {'result_code': -3000, 'message': '서버 에러', 'response_time': '2023-04-25 22:18:17'}}}}], 'data': None}\n"
     ]
    },
    {
     "name": "stderr",
     "output_type": "stream",
     "text": [
      " 50%|█████     | 1007/2000 [55:49<2:32:48,  9.23s/it]"
     ]
    },
    {
     "name": "stdout",
     "output_type": "stream",
     "text": [
      "'NoneType' object is not subscriptable\n",
      "1007 <Response [200]> {'errors': [{'message': 'network timeout at: https://api-page.kakao.com/view/v1/landing/genre?category_uid=10&subcategory_uid=0&sort_type=update&page=1007', 'locations': [{'line': 2, 'column': 3}], 'path': ['staticLandingGenreSection'], 'extensions': {'isSerializedPagewebError': True, 'type': 'unexpectedFetchError', 'message': 'network timeout at: https://api-page.kakao.com/view/v1/landing/genre?category_uid=10&subcategory_uid=0&sort_type=update&page=1007', 'code': 'CUSTOM_ERROR'}}], 'data': None}\n"
     ]
    },
    {
     "name": "stderr",
     "output_type": "stream",
     "text": [
      " 51%|█████     | 1013/2000 [56:09<1:04:53,  3.94s/it]"
     ]
    },
    {
     "name": "stdout",
     "output_type": "stream",
     "text": [
      "'NoneType' object is not subscriptable\n",
      "1013 <Response [200]> {'errors': [{'message': '500: Internal Server Error', 'locations': [{'line': 2, 'column': 3}], 'path': ['staticLandingGenreSection'], 'extensions': {'code': 'INTERNAL_SERVER_ERROR', 'response': {'url': 'https://api-page.kakao.com/view/v1/landing/genre?category_uid=10&subcategory_uid=0&sort_type=update&page=1013', 'status': 500, 'statusText': 'Internal Server Error', 'body': {'result_code': -3000, 'message': '서버 에러', 'response_time': '2023-04-25 22:19:23'}}}}], 'data': None}\n"
     ]
    },
    {
     "name": "stderr",
     "output_type": "stream",
     "text": [
      " 52%|█████▏    | 1043/2000 [57:48<51:54,  3.25s/it]  "
     ]
    },
    {
     "name": "stdout",
     "output_type": "stream",
     "text": [
      "'NoneType' object is not subscriptable\n",
      "1043 <Response [200]> {'errors': [{'message': '500: Internal Server Error', 'locations': [{'line': 2, 'column': 3}], 'path': ['staticLandingGenreSection'], 'extensions': {'code': 'INTERNAL_SERVER_ERROR', 'response': {'url': 'https://api-page.kakao.com/view/v1/landing/genre?category_uid=10&subcategory_uid=0&sort_type=update&page=1043', 'status': 500, 'statusText': 'Internal Server Error', 'body': {'result_code': -3000, 'message': '서버 에러', 'response_time': '2023-04-25 22:21:02'}}}}], 'data': None}\n"
     ]
    },
    {
     "name": "stderr",
     "output_type": "stream",
     "text": [
      " 52%|█████▏    | 1045/2000 [57:55<51:13,  3.22s/it]"
     ]
    },
    {
     "name": "stdout",
     "output_type": "stream",
     "text": [
      "'NoneType' object is not subscriptable\n",
      "1045 <Response [200]> {'errors': [{'message': '500: Internal Server Error', 'locations': [{'line': 2, 'column': 3}], 'path': ['staticLandingGenreSection'], 'extensions': {'code': 'INTERNAL_SERVER_ERROR', 'response': {'url': 'https://api-page.kakao.com/view/v1/landing/genre?category_uid=10&subcategory_uid=0&sort_type=update&page=1045', 'status': 500, 'statusText': 'Internal Server Error', 'body': {'result_code': -3000, 'message': '서버 에러', 'response_time': '2023-04-25 22:21:08'}}}}], 'data': None}\n"
     ]
    },
    {
     "name": "stderr",
     "output_type": "stream",
     "text": [
      " 52%|█████▏    | 1048/2000 [58:04<51:22,  3.24s/it]"
     ]
    },
    {
     "name": "stdout",
     "output_type": "stream",
     "text": [
      "'NoneType' object is not subscriptable\n",
      "1048 <Response [200]> {'errors': [{'message': '500: Internal Server Error', 'locations': [{'line': 2, 'column': 3}], 'path': ['staticLandingGenreSection'], 'extensions': {'code': 'INTERNAL_SERVER_ERROR', 'response': {'url': 'https://api-page.kakao.com/view/v1/landing/genre?category_uid=10&subcategory_uid=0&sort_type=update&page=1048', 'status': 500, 'statusText': 'Internal Server Error', 'body': {'result_code': -3000, 'message': '서버 에러', 'response_time': '2023-04-25 22:21:18'}}}}], 'data': None}\n"
     ]
    },
    {
     "name": "stderr",
     "output_type": "stream",
     "text": [
      " 54%|█████▍    | 1088/2000 [1:00:17<49:26,  3.25s/it]"
     ]
    },
    {
     "name": "stdout",
     "output_type": "stream",
     "text": [
      "'NoneType' object is not subscriptable\n",
      "1088 <Response [200]> {'errors': [{'message': '500: Internal Server Error', 'locations': [{'line': 2, 'column': 3}], 'path': ['staticLandingGenreSection'], 'extensions': {'code': 'INTERNAL_SERVER_ERROR', 'response': {'url': 'https://api-page.kakao.com/view/v1/landing/genre?category_uid=10&subcategory_uid=0&sort_type=update&page=1088', 'status': 500, 'statusText': 'Internal Server Error', 'body': {'result_code': -3000, 'message': '서버 에러', 'response_time': '2023-04-25 22:23:30'}}}}], 'data': None}\n"
     ]
    },
    {
     "name": "stderr",
     "output_type": "stream",
     "text": [
      " 55%|█████▍    | 1096/2000 [1:00:43<49:01,  3.25s/it]"
     ]
    },
    {
     "name": "stdout",
     "output_type": "stream",
     "text": [
      "'NoneType' object is not subscriptable\n",
      "1096 <Response [200]> {'errors': [{'message': '500: Internal Server Error', 'locations': [{'line': 2, 'column': 3}], 'path': ['staticLandingGenreSection'], 'extensions': {'code': 'INTERNAL_SERVER_ERROR', 'response': {'url': 'https://api-page.kakao.com/view/v1/landing/genre?category_uid=10&subcategory_uid=0&sort_type=update&page=1096', 'status': 500, 'statusText': 'Internal Server Error', 'body': {'result_code': -3000, 'message': '서버 에러', 'response_time': '2023-04-25 22:23:57'}}}}], 'data': None}\n"
     ]
    },
    {
     "name": "stderr",
     "output_type": "stream",
     "text": [
      " 56%|█████▌    | 1117/2000 [1:01:52<47:51,  3.25s/it]"
     ]
    },
    {
     "name": "stdout",
     "output_type": "stream",
     "text": [
      "'NoneType' object is not subscriptable\n",
      "1117 <Response [200]> {'errors': [{'message': '500: Internal Server Error', 'locations': [{'line': 2, 'column': 3}], 'path': ['staticLandingGenreSection'], 'extensions': {'code': 'INTERNAL_SERVER_ERROR', 'response': {'url': 'https://api-page.kakao.com/view/v1/landing/genre?category_uid=10&subcategory_uid=0&sort_type=update&page=1117', 'status': 500, 'statusText': 'Internal Server Error', 'body': {'result_code': -3000, 'message': '서버 에러', 'response_time': '2023-04-25 22:25:06'}}}}], 'data': None}\n"
     ]
    },
    {
     "name": "stderr",
     "output_type": "stream",
     "text": [
      " 57%|█████▋    | 1135/2000 [1:02:52<46:41,  3.24s/it]"
     ]
    },
    {
     "name": "stdout",
     "output_type": "stream",
     "text": [
      "'NoneType' object is not subscriptable\n",
      "1135 <Response [200]> {'errors': [{'message': '500: Internal Server Error', 'locations': [{'line': 2, 'column': 3}], 'path': ['staticLandingGenreSection'], 'extensions': {'code': 'INTERNAL_SERVER_ERROR', 'response': {'url': 'https://api-page.kakao.com/view/v1/landing/genre?category_uid=10&subcategory_uid=0&sort_type=update&page=1135', 'status': 500, 'statusText': 'Internal Server Error', 'body': {'result_code': -3000, 'message': '서버 에러', 'response_time': '2023-04-25 22:26:05'}}}}], 'data': None}\n"
     ]
    },
    {
     "name": "stderr",
     "output_type": "stream",
     "text": [
      " 57%|█████▊    | 1150/2000 [1:03:41<46:06,  3.25s/it]"
     ]
    },
    {
     "name": "stdout",
     "output_type": "stream",
     "text": [
      "'NoneType' object is not subscriptable\n",
      "1150 <Response [200]> {'errors': [{'message': '500: Internal Server Error', 'locations': [{'line': 2, 'column': 3}], 'path': ['staticLandingGenreSection'], 'extensions': {'code': 'INTERNAL_SERVER_ERROR', 'response': {'url': 'https://api-page.kakao.com/view/v1/landing/genre?category_uid=10&subcategory_uid=0&sort_type=update&page=1150', 'status': 500, 'statusText': 'Internal Server Error', 'body': {'result_code': -3000, 'message': '서버 에러', 'response_time': '2023-04-25 22:26:55'}}}}], 'data': None}\n"
     ]
    },
    {
     "name": "stderr",
     "output_type": "stream",
     "text": [
      " 58%|█████▊    | 1156/2000 [1:04:01<45:32,  3.24s/it]"
     ]
    },
    {
     "name": "stdout",
     "output_type": "stream",
     "text": [
      "'NoneType' object is not subscriptable\n",
      "1156 <Response [200]> {'errors': [{'message': '500: Internal Server Error', 'locations': [{'line': 2, 'column': 3}], 'path': ['staticLandingGenreSection'], 'extensions': {'code': 'INTERNAL_SERVER_ERROR', 'response': {'url': 'https://api-page.kakao.com/view/v1/landing/genre?category_uid=10&subcategory_uid=0&sort_type=update&page=1156', 'status': 500, 'statusText': 'Internal Server Error', 'body': {'result_code': -3000, 'message': '서버 에러', 'response_time': '2023-04-25 22:27:14'}}}}], 'data': None}\n"
     ]
    },
    {
     "name": "stderr",
     "output_type": "stream",
     "text": [
      " 59%|█████▊    | 1173/2000 [1:04:57<44:43,  3.24s/it]"
     ]
    },
    {
     "name": "stdout",
     "output_type": "stream",
     "text": [
      "'NoneType' object is not subscriptable\n",
      "1173 <Response [200]> {'errors': [{'message': '500: Internal Server Error', 'locations': [{'line': 2, 'column': 3}], 'path': ['staticLandingGenreSection'], 'extensions': {'code': 'INTERNAL_SERVER_ERROR', 'response': {'url': 'https://api-page.kakao.com/view/v1/landing/genre?category_uid=10&subcategory_uid=0&sort_type=update&page=1173', 'status': 500, 'statusText': 'Internal Server Error', 'body': {'result_code': -3000, 'message': '서버 에러', 'response_time': '2023-04-25 22:28:10'}}}}], 'data': None}\n"
     ]
    },
    {
     "name": "stderr",
     "output_type": "stream",
     "text": [
      " 59%|█████▉    | 1176/2000 [1:05:07<44:35,  3.25s/it]"
     ]
    },
    {
     "name": "stdout",
     "output_type": "stream",
     "text": [
      "'NoneType' object is not subscriptable\n",
      "1176 <Response [200]> {'errors': [{'message': '500: Internal Server Error', 'locations': [{'line': 2, 'column': 3}], 'path': ['staticLandingGenreSection'], 'extensions': {'code': 'INTERNAL_SERVER_ERROR', 'response': {'url': 'https://api-page.kakao.com/view/v1/landing/genre?category_uid=10&subcategory_uid=0&sort_type=update&page=1176', 'status': 500, 'statusText': 'Internal Server Error', 'body': {'result_code': -3000, 'message': '서버 에러', 'response_time': '2023-04-25 22:28:20'}}}}], 'data': None}\n"
     ]
    },
    {
     "name": "stderr",
     "output_type": "stream",
     "text": [
      " 59%|█████▉    | 1180/2000 [1:05:20<44:11,  3.23s/it]"
     ]
    },
    {
     "name": "stdout",
     "output_type": "stream",
     "text": [
      "'NoneType' object is not subscriptable\n",
      "1180 <Response [200]> {'errors': [{'message': '500: Internal Server Error', 'locations': [{'line': 2, 'column': 3}], 'path': ['staticLandingGenreSection'], 'extensions': {'code': 'INTERNAL_SERVER_ERROR', 'response': {'url': 'https://api-page.kakao.com/view/v1/landing/genre?category_uid=10&subcategory_uid=0&sort_type=update&page=1180', 'status': 500, 'statusText': 'Internal Server Error', 'body': {'result_code': -3000, 'message': '서버 에러', 'response_time': '2023-04-25 22:28:33'}}}}], 'data': None}\n"
     ]
    },
    {
     "name": "stderr",
     "output_type": "stream",
     "text": [
      " 59%|█████▉    | 1181/2000 [1:05:23<43:37,  3.20s/it]"
     ]
    },
    {
     "name": "stdout",
     "output_type": "stream",
     "text": [
      "'NoneType' object is not subscriptable\n",
      "1181 <Response [200]> {'errors': [{'message': '500: Internal Server Error', 'locations': [{'line': 2, 'column': 3}], 'path': ['staticLandingGenreSection'], 'extensions': {'code': 'INTERNAL_SERVER_ERROR', 'response': {'url': 'https://api-page.kakao.com/view/v1/landing/genre?category_uid=10&subcategory_uid=0&sort_type=update&page=1181', 'status': 500, 'statusText': 'Internal Server Error', 'body': {'result_code': -3000, 'message': '서버 에러', 'response_time': '2023-04-25 22:28:36'}}}}], 'data': None}\n"
     ]
    },
    {
     "name": "stderr",
     "output_type": "stream",
     "text": [
      " 60%|█████▉    | 1192/2000 [1:05:59<43:41,  3.25s/it]"
     ]
    },
    {
     "name": "stdout",
     "output_type": "stream",
     "text": [
      "'NoneType' object is not subscriptable\n",
      "1192 <Response [200]> {'errors': [{'message': '500: Internal Server Error', 'locations': [{'line': 2, 'column': 3}], 'path': ['staticLandingGenreSection'], 'extensions': {'code': 'INTERNAL_SERVER_ERROR', 'response': {'url': 'https://api-page.kakao.com/view/v1/landing/genre?category_uid=10&subcategory_uid=0&sort_type=update&page=1192', 'status': 500, 'statusText': 'Internal Server Error', 'body': {'result_code': -3000, 'message': '서버 에러', 'response_time': '2023-04-25 22:29:12'}}}}], 'data': None}\n"
     ]
    },
    {
     "name": "stderr",
     "output_type": "stream",
     "text": [
      " 60%|█████▉    | 1193/2000 [1:06:02<43:09,  3.21s/it]"
     ]
    },
    {
     "name": "stdout",
     "output_type": "stream",
     "text": [
      "'NoneType' object is not subscriptable\n",
      "1193 <Response [200]> {'errors': [{'message': '500: Internal Server Error', 'locations': [{'line': 2, 'column': 3}], 'path': ['staticLandingGenreSection'], 'extensions': {'code': 'INTERNAL_SERVER_ERROR', 'response': {'url': 'https://api-page.kakao.com/view/v1/landing/genre?category_uid=10&subcategory_uid=0&sort_type=update&page=1193', 'status': 500, 'statusText': 'Internal Server Error', 'body': {'result_code': -3000, 'message': '서버 에러', 'response_time': '2023-04-25 22:29:16'}}}}], 'data': None}\n"
     ]
    },
    {
     "name": "stderr",
     "output_type": "stream",
     "text": [
      " 61%|██████    | 1218/2000 [1:07:25<42:23,  3.25s/it]"
     ]
    },
    {
     "name": "stdout",
     "output_type": "stream",
     "text": [
      "'NoneType' object is not subscriptable\n",
      "1218 <Response [200]> {'errors': [{'message': '500: Internal Server Error', 'locations': [{'line': 2, 'column': 3}], 'path': ['staticLandingGenreSection'], 'extensions': {'code': 'INTERNAL_SERVER_ERROR', 'response': {'url': 'https://api-page.kakao.com/view/v1/landing/genre?category_uid=10&subcategory_uid=0&sort_type=update&page=1218', 'status': 500, 'statusText': 'Internal Server Error', 'body': {'result_code': -3000, 'message': '서버 에러', 'response_time': '2023-04-25 22:30:38'}}}}], 'data': None}\n"
     ]
    },
    {
     "name": "stderr",
     "output_type": "stream",
     "text": [
      " 62%|██████▏   | 1234/2000 [1:08:35<1:55:04,  9.01s/it]"
     ]
    },
    {
     "name": "stdout",
     "output_type": "stream",
     "text": [
      "'NoneType' object is not subscriptable\n",
      "1234 <Response [200]> {'errors': [{'message': 'network timeout at: https://api-page.kakao.com/view/v1/landing/genre?category_uid=10&subcategory_uid=0&sort_type=update&page=1234', 'locations': [{'line': 2, 'column': 3}], 'path': ['staticLandingGenreSection'], 'extensions': {'isSerializedPagewebError': True, 'type': 'unexpectedFetchError', 'message': 'network timeout at: https://api-page.kakao.com/view/v1/landing/genre?category_uid=10&subcategory_uid=0&sort_type=update&page=1234', 'code': 'CUSTOM_ERROR'}}], 'data': None}\n"
     ]
    },
    {
     "name": "stderr",
     "output_type": "stream",
     "text": [
      " 63%|██████▎   | 1264/2000 [1:10:14<39:45,  3.24s/it]  "
     ]
    },
    {
     "name": "stdout",
     "output_type": "stream",
     "text": [
      "'NoneType' object is not subscriptable\n",
      "1264 <Response [200]> {'errors': [{'message': '500: Internal Server Error', 'locations': [{'line': 2, 'column': 3}], 'path': ['staticLandingGenreSection'], 'extensions': {'code': 'INTERNAL_SERVER_ERROR', 'response': {'url': 'https://api-page.kakao.com/view/v1/landing/genre?category_uid=10&subcategory_uid=0&sort_type=update&page=1264', 'status': 500, 'statusText': 'Internal Server Error', 'body': {'result_code': -3000, 'message': '서버 에러', 'response_time': '2023-04-25 22:33:30'}}}}], 'data': None}\n"
     ]
    },
    {
     "name": "stderr",
     "output_type": "stream",
     "text": [
      " 65%|██████▍   | 1295/2000 [1:11:56<38:01,  3.24s/it]"
     ]
    },
    {
     "name": "stdout",
     "output_type": "stream",
     "text": [
      "'NoneType' object is not subscriptable\n",
      "1295 <Response [200]> {'errors': [{'message': '500: Internal Server Error', 'locations': [{'line': 2, 'column': 3}], 'path': ['staticLandingGenreSection'], 'extensions': {'code': 'INTERNAL_SERVER_ERROR', 'response': {'url': 'https://api-page.kakao.com/view/v1/landing/genre?category_uid=10&subcategory_uid=0&sort_type=update&page=1295', 'status': 500, 'statusText': 'Internal Server Error', 'body': {'result_code': -3000, 'message': '서버 에러', 'response_time': '2023-04-25 22:35:12'}}}}], 'data': None}\n"
     ]
    },
    {
     "name": "stderr",
     "output_type": "stream",
     "text": [
      " 65%|██████▌   | 1303/2000 [1:12:23<37:35,  3.24s/it]"
     ]
    },
    {
     "name": "stdout",
     "output_type": "stream",
     "text": [
      "'NoneType' object is not subscriptable\n",
      "1303 <Response [200]> {'errors': [{'message': '500: Internal Server Error', 'locations': [{'line': 2, 'column': 3}], 'path': ['staticLandingGenreSection'], 'extensions': {'code': 'INTERNAL_SERVER_ERROR', 'response': {'url': 'https://api-page.kakao.com/view/v1/landing/genre?category_uid=10&subcategory_uid=0&sort_type=update&page=1303', 'status': 500, 'statusText': 'Internal Server Error', 'body': {'result_code': -3000, 'message': '서버 에러', 'response_time': '2023-04-25 22:35:38'}}}}], 'data': None}\n"
     ]
    },
    {
     "name": "stderr",
     "output_type": "stream",
     "text": [
      " 65%|██████▌   | 1305/2000 [1:12:29<37:14,  3.21s/it]"
     ]
    },
    {
     "name": "stdout",
     "output_type": "stream",
     "text": [
      "'NoneType' object is not subscriptable\n",
      "1305 <Response [200]> {'errors': [{'message': '500: Internal Server Error', 'locations': [{'line': 2, 'column': 3}], 'path': ['staticLandingGenreSection'], 'extensions': {'code': 'INTERNAL_SERVER_ERROR', 'response': {'url': 'https://api-page.kakao.com/view/v1/landing/genre?category_uid=10&subcategory_uid=0&sort_type=update&page=1305', 'status': 500, 'statusText': 'Internal Server Error', 'body': {'result_code': -3000, 'message': '서버 에러', 'response_time': '2023-04-25 22:35:45'}}}}], 'data': None}\n"
     ]
    },
    {
     "name": "stderr",
     "output_type": "stream",
     "text": [
      " 66%|██████▌   | 1317/2000 [1:13:09<36:53,  3.24s/it]"
     ]
    },
    {
     "name": "stdout",
     "output_type": "stream",
     "text": [
      "'NoneType' object is not subscriptable\n",
      "1317 <Response [200]> {'errors': [{'message': '500: Internal Server Error', 'locations': [{'line': 2, 'column': 3}], 'path': ['staticLandingGenreSection'], 'extensions': {'code': 'INTERNAL_SERVER_ERROR', 'response': {'url': 'https://api-page.kakao.com/view/v1/landing/genre?category_uid=10&subcategory_uid=0&sort_type=update&page=1317', 'status': 500, 'statusText': 'Internal Server Error', 'body': {'result_code': -3000, 'message': '서버 에러', 'response_time': '2023-04-25 22:36:24'}}}}], 'data': None}\n"
     ]
    },
    {
     "name": "stderr",
     "output_type": "stream",
     "text": [
      " 66%|██████▋   | 1327/2000 [1:13:41<36:13,  3.23s/it]"
     ]
    },
    {
     "name": "stdout",
     "output_type": "stream",
     "text": [
      "'NoneType' object is not subscriptable\n",
      "1327 <Response [200]> {'errors': [{'message': '500: Internal Server Error', 'locations': [{'line': 2, 'column': 3}], 'path': ['staticLandingGenreSection'], 'extensions': {'code': 'INTERNAL_SERVER_ERROR', 'response': {'url': 'https://api-page.kakao.com/view/v1/landing/genre?category_uid=10&subcategory_uid=0&sort_type=update&page=1327', 'status': 500, 'statusText': 'Internal Server Error', 'body': {'result_code': -3000, 'message': '서버 에러', 'response_time': '2023-04-25 22:36:57'}}}}], 'data': None}\n"
     ]
    },
    {
     "name": "stderr",
     "output_type": "stream",
     "text": [
      " 67%|██████▋   | 1333/2000 [1:14:01<36:05,  3.25s/it]"
     ]
    },
    {
     "name": "stdout",
     "output_type": "stream",
     "text": [
      "'NoneType' object is not subscriptable\n",
      "1333 <Response [200]> {'errors': [{'message': '500: Internal Server Error', 'locations': [{'line': 2, 'column': 3}], 'path': ['staticLandingGenreSection'], 'extensions': {'code': 'INTERNAL_SERVER_ERROR', 'response': {'url': 'https://api-page.kakao.com/view/v1/landing/genre?category_uid=10&subcategory_uid=0&sort_type=update&page=1333', 'status': 500, 'statusText': 'Internal Server Error', 'body': {'result_code': -3000, 'message': '서버 에러', 'response_time': '2023-04-25 22:37:17'}}}}], 'data': None}\n"
     ]
    },
    {
     "name": "stderr",
     "output_type": "stream",
     "text": [
      " 68%|██████▊   | 1365/2000 [1:15:46<34:21,  3.25s/it]"
     ]
    },
    {
     "name": "stdout",
     "output_type": "stream",
     "text": [
      "'NoneType' object is not subscriptable\n",
      "1365 <Response [200]> {'errors': [{'message': '500: Internal Server Error', 'locations': [{'line': 2, 'column': 3}], 'path': ['staticLandingGenreSection'], 'extensions': {'code': 'INTERNAL_SERVER_ERROR', 'response': {'url': 'https://api-page.kakao.com/view/v1/landing/genre?category_uid=10&subcategory_uid=0&sort_type=update&page=1365', 'status': 500, 'statusText': 'Internal Server Error', 'body': {'result_code': -3000, 'message': '서버 에러', 'response_time': '2023-04-25 22:39:02'}}}}], 'data': None}\n"
     ]
    },
    {
     "name": "stderr",
     "output_type": "stream",
     "text": [
      " 69%|██████▉   | 1382/2000 [1:16:43<33:24,  3.24s/it]"
     ]
    },
    {
     "name": "stdout",
     "output_type": "stream",
     "text": [
      "'NoneType' object is not subscriptable\n",
      "1382 <Response [200]> {'errors': [{'message': '500: Internal Server Error', 'locations': [{'line': 2, 'column': 3}], 'path': ['staticLandingGenreSection'], 'extensions': {'code': 'INTERNAL_SERVER_ERROR', 'response': {'url': 'https://api-page.kakao.com/view/v1/landing/genre?category_uid=10&subcategory_uid=0&sort_type=update&page=1382', 'status': 500, 'statusText': 'Internal Server Error', 'body': {'result_code': -3000, 'message': '서버 에러', 'response_time': '2023-04-25 22:39:58'}}}}], 'data': None}\n"
     ]
    },
    {
     "name": "stderr",
     "output_type": "stream",
     "text": [
      " 70%|███████   | 1401/2000 [1:17:45<32:19,  3.24s/it]"
     ]
    },
    {
     "name": "stdout",
     "output_type": "stream",
     "text": [
      "'NoneType' object is not subscriptable\n",
      "1401 <Response [200]> {'errors': [{'message': '500: Internal Server Error', 'locations': [{'line': 2, 'column': 3}], 'path': ['staticLandingGenreSection'], 'extensions': {'code': 'INTERNAL_SERVER_ERROR', 'response': {'url': 'https://api-page.kakao.com/view/v1/landing/genre?category_uid=10&subcategory_uid=0&sort_type=update&page=1401', 'status': 500, 'statusText': 'Internal Server Error', 'body': {'result_code': -3000, 'message': '서버 에러', 'response_time': '2023-04-25 22:41:01'}}}}], 'data': None}\n"
     ]
    },
    {
     "name": "stderr",
     "output_type": "stream",
     "text": [
      " 70%|███████   | 1407/2000 [1:18:05<32:02,  3.24s/it]"
     ]
    },
    {
     "name": "stdout",
     "output_type": "stream",
     "text": [
      "'NoneType' object is not subscriptable\n",
      "1407 <Response [200]> {'errors': [{'message': '500: Internal Server Error', 'locations': [{'line': 2, 'column': 3}], 'path': ['staticLandingGenreSection'], 'extensions': {'code': 'INTERNAL_SERVER_ERROR', 'response': {'url': 'https://api-page.kakao.com/view/v1/landing/genre?category_uid=10&subcategory_uid=0&sort_type=update&page=1407', 'status': 500, 'statusText': 'Internal Server Error', 'body': {'result_code': -3000, 'message': '서버 에러', 'response_time': '2023-04-25 22:41:20'}}}}], 'data': None}\n"
     ]
    },
    {
     "name": "stderr",
     "output_type": "stream",
     "text": [
      " 71%|███████   | 1412/2000 [1:18:21<31:48,  3.25s/it]"
     ]
    },
    {
     "name": "stdout",
     "output_type": "stream",
     "text": [
      "'NoneType' object is not subscriptable\n",
      "1412 <Response [200]> {'errors': [{'message': '500: Internal Server Error', 'locations': [{'line': 2, 'column': 3}], 'path': ['staticLandingGenreSection'], 'extensions': {'code': 'INTERNAL_SERVER_ERROR', 'response': {'url': 'https://api-page.kakao.com/view/v1/landing/genre?category_uid=10&subcategory_uid=0&sort_type=update&page=1412', 'status': 500, 'statusText': 'Internal Server Error', 'body': {'result_code': -3000, 'message': '서버 에러', 'response_time': '2023-04-25 22:41:37'}}}}], 'data': None}\n"
     ]
    },
    {
     "name": "stderr",
     "output_type": "stream",
     "text": [
      " 71%|███████   | 1413/2000 [1:18:24<31:23,  3.21s/it]"
     ]
    },
    {
     "name": "stdout",
     "output_type": "stream",
     "text": [
      "'NoneType' object is not subscriptable\n",
      "1413 <Response [200]> {'errors': [{'message': '500: Internal Server Error', 'locations': [{'line': 2, 'column': 3}], 'path': ['staticLandingGenreSection'], 'extensions': {'code': 'INTERNAL_SERVER_ERROR', 'response': {'url': 'https://api-page.kakao.com/view/v1/landing/genre?category_uid=10&subcategory_uid=0&sort_type=update&page=1413', 'status': 500, 'statusText': 'Internal Server Error', 'body': {'result_code': -3000, 'message': '서버 에러', 'response_time': '2023-04-25 22:41:40'}}}}], 'data': None}\n"
     ]
    },
    {
     "name": "stderr",
     "output_type": "stream",
     "text": [
      " 72%|███████▏  | 1441/2000 [1:19:57<30:19,  3.25s/it]"
     ]
    },
    {
     "name": "stdout",
     "output_type": "stream",
     "text": [
      "'NoneType' object is not subscriptable\n",
      "1441 <Response [200]> {'errors': [{'message': '500: Internal Server Error', 'locations': [{'line': 2, 'column': 3}], 'path': ['staticLandingGenreSection'], 'extensions': {'code': 'INTERNAL_SERVER_ERROR', 'response': {'url': 'https://api-page.kakao.com/view/v1/landing/genre?category_uid=10&subcategory_uid=0&sort_type=update&page=1441', 'status': 500, 'statusText': 'Internal Server Error', 'body': {'result_code': -3000, 'message': '서버 에러', 'response_time': '2023-04-25 22:43:12'}}}}], 'data': None}\n"
     ]
    },
    {
     "name": "stderr",
     "output_type": "stream",
     "text": [
      " 73%|███████▎  | 1452/2000 [1:20:33<29:33,  3.24s/it]"
     ]
    },
    {
     "name": "stdout",
     "output_type": "stream",
     "text": [
      "'NoneType' object is not subscriptable\n",
      "1452 <Response [200]> {'errors': [{'message': '500: Internal Server Error', 'locations': [{'line': 2, 'column': 3}], 'path': ['staticLandingGenreSection'], 'extensions': {'code': 'INTERNAL_SERVER_ERROR', 'response': {'url': 'https://api-page.kakao.com/view/v1/landing/genre?category_uid=10&subcategory_uid=0&sort_type=update&page=1452', 'status': 500, 'statusText': 'Internal Server Error', 'body': {'result_code': -3000, 'message': '서버 에러', 'response_time': '2023-04-25 22:43:49'}}}}], 'data': None}\n"
     ]
    },
    {
     "name": "stderr",
     "output_type": "stream",
     "text": [
      " 73%|███████▎  | 1463/2000 [1:21:09<29:04,  3.25s/it]"
     ]
    },
    {
     "name": "stdout",
     "output_type": "stream",
     "text": [
      "'NoneType' object is not subscriptable\n",
      "1463 <Response [200]> {'errors': [{'message': '500: Internal Server Error', 'locations': [{'line': 2, 'column': 3}], 'path': ['staticLandingGenreSection'], 'extensions': {'code': 'INTERNAL_SERVER_ERROR', 'response': {'url': 'https://api-page.kakao.com/view/v1/landing/genre?category_uid=10&subcategory_uid=0&sort_type=update&page=1463', 'status': 500, 'statusText': 'Internal Server Error', 'body': {'result_code': -3000, 'message': '서버 에러', 'response_time': '2023-04-25 22:44:25'}}}}], 'data': None}\n"
     ]
    },
    {
     "name": "stderr",
     "output_type": "stream",
     "text": [
      " 74%|███████▍  | 1484/2000 [1:22:18<27:49,  3.23s/it]"
     ]
    },
    {
     "name": "stdout",
     "output_type": "stream",
     "text": [
      "'NoneType' object is not subscriptable\n",
      "1484 <Response [200]> {'errors': [{'message': '500: Internal Server Error', 'locations': [{'line': 2, 'column': 3}], 'path': ['staticLandingGenreSection'], 'extensions': {'code': 'INTERNAL_SERVER_ERROR', 'response': {'url': 'https://api-page.kakao.com/view/v1/landing/genre?category_uid=10&subcategory_uid=0&sort_type=update&page=1484', 'status': 500, 'statusText': 'Internal Server Error', 'body': {'result_code': -3000, 'message': '서버 에러', 'response_time': '2023-04-25 22:45:34'}}}}], 'data': None}\n"
     ]
    },
    {
     "name": "stderr",
     "output_type": "stream",
     "text": [
      " 74%|███████▍  | 1489/2000 [1:22:35<27:41,  3.25s/it]"
     ]
    },
    {
     "name": "stdout",
     "output_type": "stream",
     "text": [
      "'NoneType' object is not subscriptable\n",
      "1489 <Response [200]> {'errors': [{'message': '500: Internal Server Error', 'locations': [{'line': 2, 'column': 3}], 'path': ['staticLandingGenreSection'], 'extensions': {'code': 'INTERNAL_SERVER_ERROR', 'response': {'url': 'https://api-page.kakao.com/view/v1/landing/genre?category_uid=10&subcategory_uid=0&sort_type=update&page=1489', 'status': 500, 'statusText': 'Internal Server Error', 'body': {'result_code': -3000, 'message': '서버 에러', 'response_time': '2023-04-25 22:45:50'}}}}], 'data': None}\n"
     ]
    },
    {
     "name": "stderr",
     "output_type": "stream",
     "text": [
      " 75%|███████▍  | 1495/2000 [1:22:54<27:15,  3.24s/it]"
     ]
    },
    {
     "name": "stdout",
     "output_type": "stream",
     "text": [
      "'NoneType' object is not subscriptable\n",
      "1495 <Response [200]> {'errors': [{'message': '500: Internal Server Error', 'locations': [{'line': 2, 'column': 3}], 'path': ['staticLandingGenreSection'], 'extensions': {'code': 'INTERNAL_SERVER_ERROR', 'response': {'url': 'https://api-page.kakao.com/view/v1/landing/genre?category_uid=10&subcategory_uid=0&sort_type=update&page=1495', 'status': 500, 'statusText': 'Internal Server Error', 'body': {'result_code': -3000, 'message': '서버 에러', 'response_time': '2023-04-25 22:46:10'}}}}], 'data': None}\n"
     ]
    },
    {
     "name": "stderr",
     "output_type": "stream",
     "text": [
      " 76%|███████▌  | 1517/2000 [1:24:07<25:58,  3.23s/it]"
     ]
    },
    {
     "name": "stdout",
     "output_type": "stream",
     "text": [
      "'NoneType' object is not subscriptable\n",
      "1517 <Response [200]> {'errors': [{'message': '500: Internal Server Error', 'locations': [{'line': 2, 'column': 3}], 'path': ['staticLandingGenreSection'], 'extensions': {'code': 'INTERNAL_SERVER_ERROR', 'response': {'url': 'https://api-page.kakao.com/view/v1/landing/genre?category_uid=10&subcategory_uid=0&sort_type=update&page=1517', 'status': 500, 'statusText': 'Internal Server Error', 'body': {'result_code': -3000, 'message': '서버 에러', 'response_time': '2023-04-25 22:47:22'}}}}], 'data': None}\n"
     ]
    },
    {
     "name": "stderr",
     "output_type": "stream",
     "text": [
      " 76%|███████▌  | 1521/2000 [1:24:20<25:44,  3.22s/it]"
     ]
    },
    {
     "name": "stdout",
     "output_type": "stream",
     "text": [
      "'NoneType' object is not subscriptable\n",
      "1521 <Response [200]> {'errors': [{'message': '500: Internal Server Error', 'locations': [{'line': 2, 'column': 3}], 'path': ['staticLandingGenreSection'], 'extensions': {'code': 'INTERNAL_SERVER_ERROR', 'response': {'url': 'https://api-page.kakao.com/view/v1/landing/genre?category_uid=10&subcategory_uid=0&sort_type=update&page=1521', 'status': 500, 'statusText': 'Internal Server Error', 'body': {'result_code': -3000, 'message': '서버 에러', 'response_time': '2023-04-25 22:47:35'}}}}], 'data': None}\n"
     ]
    },
    {
     "name": "stderr",
     "output_type": "stream",
     "text": [
      " 77%|███████▋  | 1532/2000 [1:24:56<25:12,  3.23s/it]"
     ]
    },
    {
     "name": "stdout",
     "output_type": "stream",
     "text": [
      "'NoneType' object is not subscriptable\n",
      "1532 <Response [200]> {'errors': [{'message': '500: Internal Server Error', 'locations': [{'line': 2, 'column': 3}], 'path': ['staticLandingGenreSection'], 'extensions': {'code': 'INTERNAL_SERVER_ERROR', 'response': {'url': 'https://api-page.kakao.com/view/v1/landing/genre?category_uid=10&subcategory_uid=0&sort_type=update&page=1532', 'status': 500, 'statusText': 'Internal Server Error', 'body': {'result_code': -3000, 'message': '서버 에러', 'response_time': '2023-04-25 22:48:11'}}}}], 'data': None}\n"
     ]
    },
    {
     "name": "stderr",
     "output_type": "stream",
     "text": [
      " 77%|███████▋  | 1547/2000 [1:25:45<24:25,  3.24s/it]"
     ]
    },
    {
     "name": "stdout",
     "output_type": "stream",
     "text": [
      "'NoneType' object is not subscriptable\n",
      "1547 <Response [200]> {'errors': [{'message': '500: Internal Server Error', 'locations': [{'line': 2, 'column': 3}], 'path': ['staticLandingGenreSection'], 'extensions': {'code': 'INTERNAL_SERVER_ERROR', 'response': {'url': 'https://api-page.kakao.com/view/v1/landing/genre?category_uid=10&subcategory_uid=0&sort_type=update&page=1547', 'status': 500, 'statusText': 'Internal Server Error', 'body': {'result_code': -3000, 'message': '서버 에러', 'response_time': '2023-04-25 22:49:01'}}}}], 'data': None}\n"
     ]
    },
    {
     "name": "stderr",
     "output_type": "stream",
     "text": [
      " 79%|███████▉  | 1576/2000 [1:27:20<22:52,  3.24s/it]"
     ]
    },
    {
     "name": "stdout",
     "output_type": "stream",
     "text": [
      "'NoneType' object is not subscriptable\n",
      "1576 <Response [200]> {'errors': [{'message': '500: Internal Server Error', 'locations': [{'line': 2, 'column': 3}], 'path': ['staticLandingGenreSection'], 'extensions': {'code': 'INTERNAL_SERVER_ERROR', 'response': {'url': 'https://api-page.kakao.com/view/v1/landing/genre?category_uid=10&subcategory_uid=0&sort_type=update&page=1576', 'status': 500, 'statusText': 'Internal Server Error', 'body': {'result_code': -3000, 'message': '서버 에러', 'response_time': '2023-04-25 22:50:36'}}}}], 'data': None}\n"
     ]
    },
    {
     "name": "stderr",
     "output_type": "stream",
     "text": [
      " 79%|███████▉  | 1586/2000 [1:27:53<22:18,  3.23s/it]"
     ]
    },
    {
     "name": "stdout",
     "output_type": "stream",
     "text": [
      "'NoneType' object is not subscriptable\n",
      "1586 <Response [200]> {'errors': [{'message': '500: Internal Server Error', 'locations': [{'line': 2, 'column': 3}], 'path': ['staticLandingGenreSection'], 'extensions': {'code': 'INTERNAL_SERVER_ERROR', 'response': {'url': 'https://api-page.kakao.com/view/v1/landing/genre?category_uid=10&subcategory_uid=0&sort_type=update&page=1586', 'status': 500, 'statusText': 'Internal Server Error', 'body': {'result_code': -3000, 'message': '서버 에러', 'response_time': '2023-04-25 22:51:09'}}}}], 'data': None}\n"
     ]
    },
    {
     "name": "stderr",
     "output_type": "stream",
     "text": [
      " 80%|███████▉  | 1591/2000 [1:28:10<22:08,  3.25s/it]"
     ]
    },
    {
     "name": "stdout",
     "output_type": "stream",
     "text": [
      "'NoneType' object is not subscriptable\n",
      "1591 <Response [200]> {'errors': [{'message': '500: Internal Server Error', 'locations': [{'line': 2, 'column': 3}], 'path': ['staticLandingGenreSection'], 'extensions': {'code': 'INTERNAL_SERVER_ERROR', 'response': {'url': 'https://api-page.kakao.com/view/v1/landing/genre?category_uid=10&subcategory_uid=0&sort_type=update&page=1591', 'status': 500, 'statusText': 'Internal Server Error', 'body': {'result_code': -3000, 'message': '서버 에러', 'response_time': '2023-04-25 22:51:25'}}}}], 'data': None}\n"
     ]
    },
    {
     "name": "stderr",
     "output_type": "stream",
     "text": [
      " 80%|███████▉  | 1596/2000 [1:28:26<21:42,  3.23s/it]"
     ]
    },
    {
     "name": "stdout",
     "output_type": "stream",
     "text": [
      "'NoneType' object is not subscriptable\n",
      "1596 <Response [200]> {'errors': [{'message': '500: Internal Server Error', 'locations': [{'line': 2, 'column': 3}], 'path': ['staticLandingGenreSection'], 'extensions': {'code': 'INTERNAL_SERVER_ERROR', 'response': {'url': 'https://api-page.kakao.com/view/v1/landing/genre?category_uid=10&subcategory_uid=0&sort_type=update&page=1596', 'status': 500, 'statusText': 'Internal Server Error', 'body': {'result_code': -3000, 'message': '서버 에러', 'response_time': '2023-04-25 22:51:41'}}}}], 'data': None}\n"
     ]
    },
    {
     "name": "stderr",
     "output_type": "stream",
     "text": [
      " 81%|████████  | 1624/2000 [1:29:58<20:20,  3.25s/it]"
     ]
    },
    {
     "name": "stdout",
     "output_type": "stream",
     "text": [
      "'NoneType' object is not subscriptable\n",
      "1624 <Response [200]> {'errors': [{'message': '500: Internal Server Error', 'locations': [{'line': 2, 'column': 3}], 'path': ['staticLandingGenreSection'], 'extensions': {'code': 'INTERNAL_SERVER_ERROR', 'response': {'url': 'https://api-page.kakao.com/view/v1/landing/genre?category_uid=10&subcategory_uid=0&sort_type=update&page=1624', 'status': 500, 'statusText': 'Internal Server Error', 'body': {'result_code': -3000, 'message': '서버 에러', 'response_time': '2023-04-25 22:53:14'}}}}], 'data': None}\n"
     ]
    },
    {
     "name": "stderr",
     "output_type": "stream",
     "text": [
      " 81%|████████▏ | 1626/2000 [1:30:04<20:01,  3.21s/it]"
     ]
    },
    {
     "name": "stdout",
     "output_type": "stream",
     "text": [
      "'NoneType' object is not subscriptable\n",
      "1626 <Response [200]> {'errors': [{'message': '500: Internal Server Error', 'locations': [{'line': 2, 'column': 3}], 'path': ['staticLandingGenreSection'], 'extensions': {'code': 'INTERNAL_SERVER_ERROR', 'response': {'url': 'https://api-page.kakao.com/view/v1/landing/genre?category_uid=10&subcategory_uid=0&sort_type=update&page=1626', 'status': 500, 'statusText': 'Internal Server Error', 'body': {'result_code': -3000, 'message': '서버 에러', 'response_time': '2023-04-25 22:53:20'}}}}], 'data': None}\n"
     ]
    },
    {
     "name": "stderr",
     "output_type": "stream",
     "text": [
      " 82%|████████▏ | 1632/2000 [1:30:24<19:50,  3.23s/it]"
     ]
    },
    {
     "name": "stdout",
     "output_type": "stream",
     "text": [
      "'NoneType' object is not subscriptable\n",
      "1632 <Response [200]> {'errors': [{'message': '500: Internal Server Error', 'locations': [{'line': 2, 'column': 3}], 'path': ['staticLandingGenreSection'], 'extensions': {'code': 'INTERNAL_SERVER_ERROR', 'response': {'url': 'https://api-page.kakao.com/view/v1/landing/genre?category_uid=10&subcategory_uid=0&sort_type=update&page=1632', 'status': 500, 'statusText': 'Internal Server Error', 'body': {'result_code': -3000, 'message': '서버 에러', 'response_time': '2023-04-25 22:53:40'}}}}], 'data': None}\n"
     ]
    },
    {
     "name": "stderr",
     "output_type": "stream",
     "text": [
      " 82%|████████▏ | 1635/2000 [1:30:34<19:33,  3.21s/it]"
     ]
    },
    {
     "name": "stdout",
     "output_type": "stream",
     "text": [
      "'NoneType' object is not subscriptable\n",
      "1635 <Response [200]> {'errors': [{'message': '500: Internal Server Error', 'locations': [{'line': 2, 'column': 3}], 'path': ['staticLandingGenreSection'], 'extensions': {'code': 'INTERNAL_SERVER_ERROR', 'response': {'url': 'https://api-page.kakao.com/view/v1/landing/genre?category_uid=10&subcategory_uid=0&sort_type=update&page=1635', 'status': 500, 'statusText': 'Internal Server Error', 'body': {'result_code': -3000, 'message': '서버 에러', 'response_time': '2023-04-25 22:53:49'}}}}], 'data': None}\n"
     ]
    },
    {
     "name": "stderr",
     "output_type": "stream",
     "text": [
      " 84%|████████▍ | 1680/2000 [1:33:02<17:16,  3.24s/it]"
     ]
    },
    {
     "name": "stdout",
     "output_type": "stream",
     "text": [
      "'NoneType' object is not subscriptable\n",
      "1680 <Response [200]> {'errors': [{'message': '500: Internal Server Error', 'locations': [{'line': 2, 'column': 3}], 'path': ['staticLandingGenreSection'], 'extensions': {'code': 'INTERNAL_SERVER_ERROR', 'response': {'url': 'https://api-page.kakao.com/view/v1/landing/genre?category_uid=10&subcategory_uid=0&sort_type=update&page=1680', 'status': 500, 'statusText': 'Internal Server Error', 'body': {'result_code': -3000, 'message': '서버 에러', 'response_time': '2023-04-25 22:56:18'}}}}], 'data': None}\n"
     ]
    },
    {
     "name": "stderr",
     "output_type": "stream",
     "text": [
      " 85%|████████▍ | 1697/2000 [1:33:58<16:18,  3.23s/it]"
     ]
    },
    {
     "name": "stdout",
     "output_type": "stream",
     "text": [
      "'NoneType' object is not subscriptable\n",
      "1697 <Response [200]> {'errors': [{'message': '500: Internal Server Error', 'locations': [{'line': 2, 'column': 3}], 'path': ['staticLandingGenreSection'], 'extensions': {'code': 'INTERNAL_SERVER_ERROR', 'response': {'url': 'https://api-page.kakao.com/view/v1/landing/genre?category_uid=10&subcategory_uid=0&sort_type=update&page=1697', 'status': 500, 'statusText': 'Internal Server Error', 'body': {'result_code': -3000, 'message': '서버 에러', 'response_time': '2023-04-25 22:57:13'}}}}], 'data': None}\n"
     ]
    },
    {
     "name": "stderr",
     "output_type": "stream",
     "text": [
      " 86%|████████▌ | 1715/2000 [1:34:57<15:21,  3.23s/it]"
     ]
    },
    {
     "name": "stdout",
     "output_type": "stream",
     "text": [
      "'NoneType' object is not subscriptable\n",
      "1715 <Response [200]> {'errors': [{'message': '500: Internal Server Error', 'locations': [{'line': 2, 'column': 3}], 'path': ['staticLandingGenreSection'], 'extensions': {'code': 'INTERNAL_SERVER_ERROR', 'response': {'url': 'https://api-page.kakao.com/view/v1/landing/genre?category_uid=10&subcategory_uid=0&sort_type=update&page=1715', 'status': 500, 'statusText': 'Internal Server Error', 'body': {'result_code': -3000, 'message': '서버 에러', 'response_time': '2023-04-25 22:58:12'}}}}], 'data': None}\n"
     ]
    },
    {
     "name": "stderr",
     "output_type": "stream",
     "text": [
      " 88%|████████▊ | 1759/2000 [1:37:22<12:58,  3.23s/it]"
     ]
    },
    {
     "name": "stdout",
     "output_type": "stream",
     "text": [
      "'NoneType' object is not subscriptable\n",
      "1759 <Response [200]> {'errors': [{'message': '500: Internal Server Error', 'locations': [{'line': 2, 'column': 3}], 'path': ['staticLandingGenreSection'], 'extensions': {'code': 'INTERNAL_SERVER_ERROR', 'response': {'url': 'https://api-page.kakao.com/view/v1/landing/genre?category_uid=10&subcategory_uid=0&sort_type=update&page=1759', 'status': 500, 'statusText': 'Internal Server Error', 'body': {'result_code': -3000, 'message': '서버 에러', 'response_time': '2023-04-25 23:00:37'}}}}], 'data': None}\n"
     ]
    },
    {
     "name": "stderr",
     "output_type": "stream",
     "text": [
      " 89%|████████▉ | 1777/2000 [1:38:21<12:02,  3.24s/it]"
     ]
    },
    {
     "name": "stdout",
     "output_type": "stream",
     "text": [
      "'NoneType' object is not subscriptable\n",
      "1777 <Response [200]> {'errors': [{'message': '500: Internal Server Error', 'locations': [{'line': 2, 'column': 3}], 'path': ['staticLandingGenreSection'], 'extensions': {'code': 'INTERNAL_SERVER_ERROR', 'response': {'url': 'https://api-page.kakao.com/view/v1/landing/genre?category_uid=10&subcategory_uid=0&sort_type=update&page=1777', 'status': 500, 'statusText': 'Internal Server Error', 'body': {'result_code': -3000, 'message': '서버 에러', 'response_time': '2023-04-25 23:01:36'}}}}], 'data': None}\n"
     ]
    },
    {
     "name": "stderr",
     "output_type": "stream",
     "text": [
      " 90%|████████▉ | 1792/2000 [1:39:10<11:13,  3.24s/it]"
     ]
    },
    {
     "name": "stdout",
     "output_type": "stream",
     "text": [
      "'NoneType' object is not subscriptable\n",
      "1792 <Response [200]> {'errors': [{'message': '500: Internal Server Error', 'locations': [{'line': 2, 'column': 3}], 'path': ['staticLandingGenreSection'], 'extensions': {'code': 'INTERNAL_SERVER_ERROR', 'response': {'url': 'https://api-page.kakao.com/view/v1/landing/genre?category_uid=10&subcategory_uid=0&sort_type=update&page=1792', 'status': 500, 'statusText': 'Internal Server Error', 'body': {'result_code': -3000, 'message': '서버 에러', 'response_time': '2023-04-25 23:02:26'}}}}], 'data': None}\n"
     ]
    },
    {
     "name": "stderr",
     "output_type": "stream",
     "text": [
      " 91%|█████████ | 1813/2000 [1:40:20<10:08,  3.25s/it]"
     ]
    },
    {
     "name": "stdout",
     "output_type": "stream",
     "text": [
      "'NoneType' object is not subscriptable\n",
      "1813 <Response [200]> {'errors': [{'message': '500: Internal Server Error', 'locations': [{'line': 2, 'column': 3}], 'path': ['staticLandingGenreSection'], 'extensions': {'code': 'INTERNAL_SERVER_ERROR', 'response': {'url': 'https://api-page.kakao.com/view/v1/landing/genre?category_uid=10&subcategory_uid=0&sort_type=update&page=1813', 'status': 500, 'statusText': 'Internal Server Error', 'body': {'result_code': -3000, 'message': '서버 에러', 'response_time': '2023-04-25 23:03:35'}}}}], 'data': None}\n"
     ]
    },
    {
     "name": "stderr",
     "output_type": "stream",
     "text": [
      " 91%|█████████ | 1822/2000 [1:40:49<09:37,  3.24s/it]"
     ]
    },
    {
     "name": "stdout",
     "output_type": "stream",
     "text": [
      "'NoneType' object is not subscriptable\n",
      "1822 <Response [200]> {'errors': [{'message': '500: Internal Server Error', 'locations': [{'line': 2, 'column': 3}], 'path': ['staticLandingGenreSection'], 'extensions': {'code': 'INTERNAL_SERVER_ERROR', 'response': {'url': 'https://api-page.kakao.com/view/v1/landing/genre?category_uid=10&subcategory_uid=0&sort_type=update&page=1822', 'status': 500, 'statusText': 'Internal Server Error', 'body': {'result_code': -3000, 'message': '서버 에러', 'response_time': '2023-04-25 23:04:05'}}}}], 'data': None}\n"
     ]
    },
    {
     "name": "stderr",
     "output_type": "stream",
     "text": [
      " 92%|█████████▏| 1832/2000 [1:41:22<09:04,  3.24s/it]"
     ]
    },
    {
     "name": "stdout",
     "output_type": "stream",
     "text": [
      "'NoneType' object is not subscriptable\n",
      "1832 <Response [200]> {'errors': [{'message': '500: Internal Server Error', 'locations': [{'line': 2, 'column': 3}], 'path': ['staticLandingGenreSection'], 'extensions': {'code': 'INTERNAL_SERVER_ERROR', 'response': {'url': 'https://api-page.kakao.com/view/v1/landing/genre?category_uid=10&subcategory_uid=0&sort_type=update&page=1832', 'status': 500, 'statusText': 'Internal Server Error', 'body': {'result_code': -3000, 'message': '서버 에러', 'response_time': '2023-04-25 23:04:38'}}}}], 'data': None}\n"
     ]
    },
    {
     "name": "stderr",
     "output_type": "stream",
     "text": [
      " 92%|█████████▏| 1839/2000 [1:41:45<08:41,  3.24s/it]"
     ]
    },
    {
     "name": "stdout",
     "output_type": "stream",
     "text": [
      "'NoneType' object is not subscriptable\n",
      "1839 <Response [200]> {'errors': [{'message': '500: Internal Server Error', 'locations': [{'line': 2, 'column': 3}], 'path': ['staticLandingGenreSection'], 'extensions': {'code': 'INTERNAL_SERVER_ERROR', 'response': {'url': 'https://api-page.kakao.com/view/v1/landing/genre?category_uid=10&subcategory_uid=0&sort_type=update&page=1839', 'status': 500, 'statusText': 'Internal Server Error', 'body': {'result_code': -3000, 'message': '서버 에러', 'response_time': '2023-04-25 23:05:00'}}}}], 'data': None}\n"
     ]
    },
    {
     "name": "stderr",
     "output_type": "stream",
     "text": [
      " 93%|█████████▎| 1851/2000 [1:42:24<08:02,  3.24s/it]"
     ]
    },
    {
     "name": "stdout",
     "output_type": "stream",
     "text": [
      "'NoneType' object is not subscriptable\n",
      "1851 <Response [200]> {'errors': [{'message': '500: Internal Server Error', 'locations': [{'line': 2, 'column': 3}], 'path': ['staticLandingGenreSection'], 'extensions': {'code': 'INTERNAL_SERVER_ERROR', 'response': {'url': 'https://api-page.kakao.com/view/v1/landing/genre?category_uid=10&subcategory_uid=0&sort_type=update&page=1851', 'status': 500, 'statusText': 'Internal Server Error', 'body': {'result_code': -3000, 'message': '서버 에러', 'response_time': '2023-04-25 23:05:40'}}}}], 'data': None}\n"
     ]
    },
    {
     "name": "stderr",
     "output_type": "stream",
     "text": [
      " 93%|█████████▎| 1862/2000 [1:43:00<07:27,  3.24s/it]"
     ]
    },
    {
     "name": "stdout",
     "output_type": "stream",
     "text": [
      "'NoneType' object is not subscriptable\n",
      "1862 <Response [200]> {'errors': [{'message': '500: Internal Server Error', 'locations': [{'line': 2, 'column': 3}], 'path': ['staticLandingGenreSection'], 'extensions': {'code': 'INTERNAL_SERVER_ERROR', 'response': {'url': 'https://api-page.kakao.com/view/v1/landing/genre?category_uid=10&subcategory_uid=0&sort_type=update&page=1862', 'status': 500, 'statusText': 'Internal Server Error', 'body': {'result_code': -3000, 'message': '서버 에러', 'response_time': '2023-04-25 23:06:16'}}}}], 'data': None}\n"
     ]
    },
    {
     "name": "stderr",
     "output_type": "stream",
     "text": [
      " 93%|█████████▎| 1865/2000 [1:43:10<07:13,  3.21s/it]"
     ]
    },
    {
     "name": "stdout",
     "output_type": "stream",
     "text": [
      "'NoneType' object is not subscriptable\n",
      "1865 <Response [200]> {'errors': [{'message': '500: Internal Server Error', 'locations': [{'line': 2, 'column': 3}], 'path': ['staticLandingGenreSection'], 'extensions': {'code': 'INTERNAL_SERVER_ERROR', 'response': {'url': 'https://api-page.kakao.com/view/v1/landing/genre?category_uid=10&subcategory_uid=0&sort_type=update&page=1865', 'status': 500, 'statusText': 'Internal Server Error', 'body': {'result_code': -3000, 'message': '서버 에러', 'response_time': '2023-04-25 23:06:26'}}}}], 'data': None}\n"
     ]
    },
    {
     "name": "stderr",
     "output_type": "stream",
     "text": [
      " 95%|█████████▍| 1895/2000 [1:44:49<05:39,  3.24s/it]"
     ]
    },
    {
     "name": "stdout",
     "output_type": "stream",
     "text": [
      "'NoneType' object is not subscriptable\n",
      "1895 <Response [200]> {'errors': [{'message': '500: Internal Server Error', 'locations': [{'line': 2, 'column': 3}], 'path': ['staticLandingGenreSection'], 'extensions': {'code': 'INTERNAL_SERVER_ERROR', 'response': {'url': 'https://api-page.kakao.com/view/v1/landing/genre?category_uid=10&subcategory_uid=0&sort_type=update&page=1895', 'status': 500, 'statusText': 'Internal Server Error', 'body': {'result_code': -3000, 'message': '서버 에러', 'response_time': '2023-04-25 23:08:04'}}}}], 'data': None}\n"
     ]
    },
    {
     "name": "stderr",
     "output_type": "stream",
     "text": [
      " 97%|█████████▋| 1943/2000 [1:47:27<03:04,  3.23s/it]"
     ]
    },
    {
     "name": "stdout",
     "output_type": "stream",
     "text": [
      "'NoneType' object is not subscriptable\n",
      "1943 <Response [200]> {'errors': [{'message': '500: Internal Server Error', 'locations': [{'line': 2, 'column': 3}], 'path': ['staticLandingGenreSection'], 'extensions': {'code': 'INTERNAL_SERVER_ERROR', 'response': {'url': 'https://api-page.kakao.com/view/v1/landing/genre?category_uid=10&subcategory_uid=0&sort_type=update&page=1943', 'status': 500, 'statusText': 'Internal Server Error', 'body': {'result_code': -3000, 'message': '서버 에러', 'response_time': '2023-04-25 23:10:43'}}}}], 'data': None}\n"
     ]
    },
    {
     "name": "stderr",
     "output_type": "stream",
     "text": [
      " 98%|█████████▊| 1956/2000 [1:48:10<02:22,  3.25s/it]"
     ]
    },
    {
     "name": "stdout",
     "output_type": "stream",
     "text": [
      "'NoneType' object is not subscriptable\n",
      "1956 <Response [200]> {'errors': [{'message': '500: Internal Server Error', 'locations': [{'line': 2, 'column': 3}], 'path': ['staticLandingGenreSection'], 'extensions': {'code': 'INTERNAL_SERVER_ERROR', 'response': {'url': 'https://api-page.kakao.com/view/v1/landing/genre?category_uid=10&subcategory_uid=0&sort_type=update&page=1956', 'status': 500, 'statusText': 'Internal Server Error', 'body': {'result_code': -3000, 'message': '서버 에러', 'response_time': '2023-04-25 23:11:26'}}}}], 'data': None}\n"
     ]
    },
    {
     "name": "stderr",
     "output_type": "stream",
     "text": [
      " 99%|█████████▉| 1975/2000 [1:49:12<01:20,  3.23s/it]"
     ]
    },
    {
     "name": "stdout",
     "output_type": "stream",
     "text": [
      "'NoneType' object is not subscriptable\n",
      "1975 <Response [200]> {'errors': [{'message': '500: Internal Server Error', 'locations': [{'line': 2, 'column': 3}], 'path': ['staticLandingGenreSection'], 'extensions': {'code': 'INTERNAL_SERVER_ERROR', 'response': {'url': 'https://api-page.kakao.com/view/v1/landing/genre?category_uid=10&subcategory_uid=0&sort_type=update&page=1975', 'status': 500, 'statusText': 'Internal Server Error', 'body': {'result_code': -3000, 'message': '서버 에러', 'response_time': '2023-04-25 23:12:28'}}}}], 'data': None}\n"
     ]
    },
    {
     "name": "stderr",
     "output_type": "stream",
     "text": [
      " 99%|█████████▉| 1977/2000 [1:49:19<01:13,  3.21s/it]"
     ]
    },
    {
     "name": "stdout",
     "output_type": "stream",
     "text": [
      "'NoneType' object is not subscriptable\n",
      "1977 <Response [200]> {'errors': [{'message': '500: Internal Server Error', 'locations': [{'line': 2, 'column': 3}], 'path': ['staticLandingGenreSection'], 'extensions': {'code': 'INTERNAL_SERVER_ERROR', 'response': {'url': 'https://api-page.kakao.com/view/v1/landing/genre?category_uid=10&subcategory_uid=0&sort_type=update&page=1977', 'status': 500, 'statusText': 'Internal Server Error', 'body': {'result_code': -3000, 'message': '서버 에러', 'response_time': '2023-04-25 23:12:34'}}}}], 'data': None}\n"
     ]
    },
    {
     "name": "stderr",
     "output_type": "stream",
     "text": [
      " 99%|█████████▉| 1979/2000 [1:49:25<01:07,  3.21s/it]"
     ]
    },
    {
     "name": "stdout",
     "output_type": "stream",
     "text": [
      "'NoneType' object is not subscriptable\n",
      "1979 <Response [200]> {'errors': [{'message': '500: Internal Server Error', 'locations': [{'line': 2, 'column': 3}], 'path': ['staticLandingGenreSection'], 'extensions': {'code': 'INTERNAL_SERVER_ERROR', 'response': {'url': 'https://api-page.kakao.com/view/v1/landing/genre?category_uid=10&subcategory_uid=0&sort_type=update&page=1979', 'status': 500, 'statusText': 'Internal Server Error', 'body': {'result_code': -3000, 'message': '서버 에러', 'response_time': '2023-04-25 23:12:41'}}}}], 'data': None}\n"
     ]
    },
    {
     "name": "stderr",
     "output_type": "stream",
     "text": [
      "100%|██████████| 2000/2000 [1:50:34<00:00,  3.32s/it]\n"
     ]
    }
   ],
   "source": [
    "for page in tqdm(range(start_page, last_page + 1)):\n",
    "    try:\n",
    "        time.sleep(3)\n",
    "\n",
    "        variables = {\n",
    "            'param': {\n",
    "                'categoryUid': 10,\n",
    "                'page' : page,\n",
    "                'sortType': 'update',\n",
    "                'subcategoryUid': '0'\n",
    "            },\n",
    "            'sectionId': 'static-landing-Genre-section-Layout-10-0-update'\n",
    "        }\n",
    "\n",
    "\n",
    "        response = requests.post(\n",
    "            url,\n",
    "            json={\n",
    "                'query': query,\n",
    "                'variables': variables,\n",
    "            }\n",
    "        )\n",
    "\n",
    "        data = response.json()\n",
    "\n",
    "        contents = data['data']['staticLandingGenreSection']['groups'][0]['items']\n",
    "        # print(contents[0].keys())\n",
    "        for content in contents:\n",
    "\n",
    "            series_id = content['seriesId']\n",
    "            series_title = content['title']\n",
    "            detail_url = \"https://page.kakao.com/content/\" + str(series_id)\n",
    "            desc_url = detail_url + \"?tab_type=about\"\n",
    "            thumbnail = content['thumbnail']\n",
    "            category = content['eventLog']['eventMeta']['subcategory']\n",
    "            view_cnt = content['subtitleList'][0]\n",
    "            age_limit = content['ageGrade']\n",
    "            rank = content['rank']\n",
    "\n",
    "            ws.append([\n",
    "                series_id, series_title, detail_url, desc_url, thumbnail, category, view_cnt, age_limit, rank\n",
    "            ])\n",
    "    except Exception as e:\n",
    "        print(e)\n",
    "        print(page, response, data)\n",
    "        error_page.append(page)"
   ]
  },
  {
   "cell_type": "code",
   "execution_count": 45,
   "metadata": {},
   "outputs": [
    {
     "name": "stdout",
     "output_type": "stream",
     "text": [
      "[7, 19, 33, 49, 60, 81, 83, 98, 123, 131, 135, 155, 163, 173, 184, 185, 201, 239, 247, 255, 256, 257, 258, 269, 271, 275, 284, 285, 307, 310, 314, 335, 371, 381, 385, 413, 421, 464, 486, 499, 519, 531, 542, 545, 576, 577, 583, 593, 622, 634, 655, 667, 688, 698, 699, 701, 712, 717, 722, 735, 772, 795, 806, 809, 837, 868, 882, 908, 912, 924, 926, 961, 971, 980, 989, 996, 999, 1007, 1013, 1043, 1045, 1048, 1088, 1096, 1117, 1135, 1150, 1156, 1173, 1176, 1180, 1181, 1192, 1193, 1218, 1234, 1264, 1295, 1303, 1305, 1317, 1327, 1333, 1365, 1382, 1401, 1407, 1412, 1413, 1441, 1452, 1463, 1484, 1489, 1495, 1517, 1521, 1532, 1547, 1576, 1586, 1591, 1596, 1624, 1626, 1632, 1635, 1680, 1697, 1715, 1759, 1777, 1792, 1813, 1822, 1832, 1839, 1851, 1862, 1865, 1895, 1943, 1956, 1975, 1977, 1979]\n"
     ]
    }
   ],
   "source": [
    "wb.save('카카오페이지_전체작품_{}_{}.xlsx'.format(start_page, last_page))\n",
    "print(error_page)"
   ]
  },
  {
   "attachments": {},
   "cell_type": "markdown",
   "metadata": {},
   "source": [
    "에러난 페이지 다시 수집"
   ]
  },
  {
   "cell_type": "code",
   "execution_count": 54,
   "metadata": {},
   "outputs": [],
   "source": [
    "wb = openpyxl.Workbook()\n",
    "ws = wb.active\n",
    "ws.append([\n",
    "    'series_id', 'series_title', 'detail_url', 'desc_url', 'thumbnail', 'category', 'view_cnt', 'age_limit', 'rank'\n",
    "])\n",
    "\n",
    "new_error_page = []"
   ]
  },
  {
   "cell_type": "code",
   "execution_count": 55,
   "metadata": {},
   "outputs": [
    {
     "name": "stdout",
     "output_type": "stream",
     "text": [
      "0\n",
      "1\n",
      "2\n",
      "3\n",
      "4\n",
      "5\n",
      "6\n",
      "7\n",
      "8\n",
      "9\n",
      "10\n",
      "11\n",
      "12\n",
      "13\n",
      "14\n",
      "15\n",
      "16\n",
      "17\n",
      "18\n",
      "19\n",
      "20\n",
      "21\n",
      "22\n",
      "23\n",
      "24\n",
      "25\n",
      "26\n",
      "27\n",
      "28\n",
      "29\n",
      "30\n",
      "31\n",
      "32\n",
      "33\n",
      "34\n",
      "35\n",
      "36\n",
      "'NoneType' object is not subscriptable\n",
      "421 <Response [200]> {'errors': [{'message': '500: Internal Server Error', 'locations': [{'line': 2, 'column': 3}], 'path': ['staticLandingGenreSection'], 'extensions': {'code': 'INTERNAL_SERVER_ERROR', 'response': {'url': 'https://api-page.kakao.com/view/v1/landing/genre?category_uid=10&subcategory_uid=0&sort_type=update&page=421', 'status': 500, 'statusText': 'Internal Server Error', 'body': {'result_code': -3000, 'message': '서버 에러', 'response_time': '2023-04-25 23:23:41'}}}}], 'data': None}\n",
      "37\n",
      "38\n",
      "39\n",
      "40\n",
      "41\n",
      "42\n",
      "'NoneType' object is not subscriptable\n",
      "542 <Response [200]> {'errors': [{'message': '500: Internal Server Error', 'locations': [{'line': 2, 'column': 3}], 'path': ['staticLandingGenreSection'], 'extensions': {'code': 'INTERNAL_SERVER_ERROR', 'response': {'url': 'https://api-page.kakao.com/view/v1/landing/genre?category_uid=10&subcategory_uid=0&sort_type=update&page=542', 'status': 500, 'statusText': 'Internal Server Error', 'body': {'result_code': -3000, 'message': '서버 에러', 'response_time': '2023-04-25 23:24:00'}}}}], 'data': None}\n",
      "43\n",
      "44\n",
      "45\n",
      "46\n",
      "47\n",
      "48\n",
      "49\n",
      "50\n",
      "51\n",
      "52\n",
      "53\n",
      "'NoneType' object is not subscriptable\n",
      "698 <Response [200]> {'errors': [{'message': '500: Internal Server Error', 'locations': [{'line': 2, 'column': 3}], 'path': ['staticLandingGenreSection'], 'extensions': {'code': 'INTERNAL_SERVER_ERROR', 'response': {'url': 'https://api-page.kakao.com/view/v1/landing/genre?category_uid=10&subcategory_uid=0&sort_type=update&page=698', 'status': 500, 'statusText': 'Internal Server Error', 'body': {'result_code': -3000, 'message': '서버 에러', 'response_time': '2023-04-25 23:24:37'}}}}], 'data': None}\n",
      "54\n",
      "55\n",
      "56\n",
      "57\n",
      "58\n",
      "59\n",
      "60\n",
      "61\n",
      "62\n",
      "63\n",
      "64\n",
      "65\n",
      "66\n",
      "67\n",
      "68\n",
      "69\n",
      "70\n",
      "71\n",
      "72\n",
      "73\n",
      "74\n",
      "75\n",
      "76\n",
      "77\n",
      "78\n",
      "79\n",
      "80\n",
      "81\n",
      "82\n",
      "83\n",
      "84\n",
      "85\n",
      "86\n",
      "87\n",
      "88\n",
      "89\n",
      "90\n",
      "91\n",
      "92\n",
      "93\n",
      "94\n",
      "95\n",
      "96\n",
      "97\n",
      "98\n",
      "99\n",
      "100\n",
      "'NoneType' object is not subscriptable\n",
      "1317 <Response [200]> {'errors': [{'message': '500: Internal Server Error', 'locations': [{'line': 2, 'column': 3}], 'path': ['staticLandingGenreSection'], 'extensions': {'code': 'INTERNAL_SERVER_ERROR', 'response': {'url': 'https://api-page.kakao.com/view/v1/landing/genre?category_uid=10&subcategory_uid=0&sort_type=update&page=1317', 'status': 500, 'statusText': 'Internal Server Error', 'body': {'result_code': -3000, 'message': '서버 에러', 'response_time': '2023-04-25 23:27:12'}}}}], 'data': None}\n",
      "101\n",
      "102\n",
      "103\n",
      "104\n",
      "105\n",
      "'NoneType' object is not subscriptable\n",
      "1401 <Response [200]> {'errors': [{'message': '500: Internal Server Error', 'locations': [{'line': 2, 'column': 3}], 'path': ['staticLandingGenreSection'], 'extensions': {'code': 'INTERNAL_SERVER_ERROR', 'response': {'url': 'https://api-page.kakao.com/view/v1/landing/genre?category_uid=10&subcategory_uid=0&sort_type=update&page=1401', 'status': 500, 'statusText': 'Internal Server Error', 'body': {'result_code': -3000, 'message': '서버 에러', 'response_time': '2023-04-25 23:27:29'}}}}], 'data': None}\n",
      "106\n",
      "107\n",
      "'NoneType' object is not subscriptable\n",
      "1412 <Response [200]> {'errors': [{'message': '500: Internal Server Error', 'locations': [{'line': 2, 'column': 3}], 'path': ['staticLandingGenreSection'], 'extensions': {'code': 'INTERNAL_SERVER_ERROR', 'response': {'url': 'https://api-page.kakao.com/view/v1/landing/genre?category_uid=10&subcategory_uid=0&sort_type=update&page=1412', 'status': 500, 'statusText': 'Internal Server Error', 'body': {'result_code': -3000, 'message': '서버 에러', 'response_time': '2023-04-25 23:27:35'}}}}], 'data': None}\n",
      "108\n",
      "109\n",
      "110\n",
      "111\n",
      "112\n",
      "113\n",
      "114\n",
      "115\n",
      "116\n",
      "117\n",
      "118\n",
      "119\n",
      "120\n",
      "'NoneType' object is not subscriptable\n",
      "1586 <Response [200]> {'errors': [{'message': '500: Internal Server Error', 'locations': [{'line': 2, 'column': 3}], 'path': ['staticLandingGenreSection'], 'extensions': {'code': 'INTERNAL_SERVER_ERROR', 'response': {'url': 'https://api-page.kakao.com/view/v1/landing/genre?category_uid=10&subcategory_uid=0&sort_type=update&page=1586', 'status': 500, 'statusText': 'Internal Server Error', 'body': {'result_code': -3000, 'message': '서버 에러', 'response_time': '2023-04-25 23:28:18'}}}}], 'data': None}\n",
      "121\n",
      "122\n",
      "123\n",
      "124\n",
      "125\n",
      "126\n",
      "'NoneType' object is not subscriptable\n",
      "1635 <Response [200]> {'errors': [{'message': '500: Internal Server Error', 'locations': [{'line': 2, 'column': 3}], 'path': ['staticLandingGenreSection'], 'extensions': {'code': 'INTERNAL_SERVER_ERROR', 'response': {'url': 'https://api-page.kakao.com/view/v1/landing/genre?category_uid=10&subcategory_uid=0&sort_type=update&page=1635', 'status': 500, 'statusText': 'Internal Server Error', 'body': {'result_code': -3000, 'message': '서버 에러', 'response_time': '2023-04-25 23:28:37'}}}}], 'data': None}\n",
      "127\n",
      "128\n",
      "129\n",
      "130\n",
      "131\n",
      "132\n",
      "133\n",
      "134\n",
      "135\n",
      "136\n",
      "137\n",
      "138\n",
      "139\n",
      "140\n",
      "141\n",
      "142\n",
      "143\n",
      "144\n",
      "145\n"
     ]
    }
   ],
   "source": [
    "for i, page in enumerate(error_page):\n",
    "    print(i)\n",
    "    try:\n",
    "        time.sleep(3)\n",
    "\n",
    "        variables = {\n",
    "            'param': {\n",
    "                'categoryUid': 10,\n",
    "                'page' : page,\n",
    "                'sortType': 'update',\n",
    "                'subcategoryUid': '0'\n",
    "            },\n",
    "            'sectionId': 'static-landing-Genre-section-Layout-10-0-update'\n",
    "        }\n",
    "\n",
    "\n",
    "        response = requests.post(\n",
    "            url,\n",
    "            json={\n",
    "                'query': query,\n",
    "                'variables': variables,\n",
    "            }\n",
    "        )\n",
    "\n",
    "        data = response.json()\n",
    "\n",
    "        contents = data['data']['staticLandingGenreSection']['groups'][0]['items']\n",
    "        # print(contents[0].keys())\n",
    "        for content in contents:\n",
    "\n",
    "            series_id = content['seriesId']\n",
    "            series_title = content['title']\n",
    "            detail_url = \"https://page.kakao.com/content/\" + str(series_id)\n",
    "            desc_url = detail_url + \"?tab_type=about\"\n",
    "            thumbnail = content['thumbnail']\n",
    "            category = content['eventLog']['eventMeta']['subcategory']\n",
    "            view_cnt = content['subtitleList'][0]\n",
    "            age_limit = content['ageGrade']\n",
    "            rank = content['rank']\n",
    "\n",
    "            ws.append([\n",
    "                series_id, series_title, detail_url, desc_url, thumbnail, category, view_cnt, age_limit, rank\n",
    "            ])\n",
    "    except Exception as e:\n",
    "        print(e)\n",
    "        print(page, response, data)\n",
    "        new_error_page.append(page)"
   ]
  },
  {
   "cell_type": "code",
   "execution_count": 57,
   "metadata": {},
   "outputs": [
    {
     "name": "stdout",
     "output_type": "stream",
     "text": [
      "[421, 542, 698, 1317, 1401, 1412, 1586, 1635]\n"
     ]
    }
   ],
   "source": [
    "wb.save('카카오페이지_에러페이지.xlsx'.format(start_page, last_page))\n",
    "print(new_error_page)"
   ]
  },
  {
   "cell_type": "code",
   "execution_count": 63,
   "metadata": {},
   "outputs": [],
   "source": [
    "wb = openpyxl.Workbook()\n",
    "ws = wb.active\n",
    "ws.append([\n",
    "    'series_id', 'series_title', 'detail_url', 'desc_url', 'thumbnail', 'category', 'view_cnt', 'age_limit', 'rank'\n",
    "])\n",
    "\n",
    "new_new_error_page = []"
   ]
  },
  {
   "cell_type": "code",
   "execution_count": 64,
   "metadata": {},
   "outputs": [
    {
     "name": "stdout",
     "output_type": "stream",
     "text": [
      "0\n",
      "1\n",
      "2\n",
      "3\n",
      "4\n",
      "5\n",
      "6\n",
      "7\n"
     ]
    }
   ],
   "source": [
    "for i, page in enumerate(new_error_page):\n",
    "    print(i)\n",
    "    try:\n",
    "        time.sleep(5)\n",
    "\n",
    "        variables = {\n",
    "            'param': {\n",
    "                'categoryUid': 10,\n",
    "                'page' : page,\n",
    "                'sortType': 'update',\n",
    "                'subcategoryUid': '0'\n",
    "            },\n",
    "            'sectionId': 'static-landing-Genre-section-Layout-10-0-update'\n",
    "        }\n",
    "\n",
    "\n",
    "        response = requests.post(\n",
    "            url,\n",
    "            json={\n",
    "                'query': query,\n",
    "                'variables': variables,\n",
    "            }\n",
    "        )\n",
    "\n",
    "        data = response.json()\n",
    "\n",
    "        contents = data['data']['staticLandingGenreSection']['groups'][0]['items']\n",
    "        # print(contents[0].keys())\n",
    "        for content in contents:\n",
    "\n",
    "            series_id = content['seriesId']\n",
    "            series_title = content['title']\n",
    "            detail_url = \"https://page.kakao.com/content/\" + str(series_id)\n",
    "            desc_url = detail_url + \"?tab_type=about\"\n",
    "            thumbnail = content['thumbnail']\n",
    "            category = content['eventLog']['eventMeta']['subcategory']\n",
    "            view_cnt = content['subtitleList'][0]\n",
    "            age_limit = content['ageGrade']\n",
    "            rank = content['rank']\n",
    "\n",
    "            ws.append([\n",
    "                series_id, series_title, detail_url, desc_url, thumbnail, category, view_cnt, age_limit, rank\n",
    "            ])\n",
    "    except Exception as e:\n",
    "        print(e)\n",
    "        print(page, response, data)\n",
    "        new_new_error_page.append(page)"
   ]
  },
  {
   "cell_type": "code",
   "execution_count": 65,
   "metadata": {},
   "outputs": [
    {
     "name": "stdout",
     "output_type": "stream",
     "text": [
      "[]\n"
     ]
    }
   ],
   "source": [
    "wb.save('카카오페이지_에러페이지.xlsx'.format(start_page, last_page))\n",
    "print(new_new_error_page)"
   ]
  },
  {
   "cell_type": "code",
   "execution_count": null,
   "metadata": {},
   "outputs": [],
   "source": []
  }
 ],
 "metadata": {
  "kernelspec": {
   "display_name": "base",
   "language": "python",
   "name": "python3"
  },
  "language_info": {
   "codemirror_mode": {
    "name": "ipython",
    "version": 3
   },
   "file_extension": ".py",
   "mimetype": "text/x-python",
   "name": "python",
   "nbconvert_exporter": "python",
   "pygments_lexer": "ipython3",
   "version": "3.9.12"
  },
  "orig_nbformat": 4
 },
 "nbformat": 4,
 "nbformat_minor": 2
}
