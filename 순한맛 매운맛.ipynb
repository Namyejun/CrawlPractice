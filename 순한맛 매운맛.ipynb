{
 "cells": [
  {
   "cell_type": "markdown",
   "metadata": {
    "id": "mAo_mSYb_BP4"
   },
   "source": [
    "순한맛<br>\n",
    "상품 코드, 상세페이지url, 이미지url, 할인 후 가격 수집(없으면 원래가격)<br>\n",
    "매운맛(순한맛 포함)<br>\n",
    "카테고리별로 데이터 수집해서 각 카테고리별 평균 가격 시각화<br>\n",
    "- 전체적으로 비교 -> 각 카테고리 별로 비교\n",
    "- 상위 50 / 하위 50개를 카테고리별로 비교"
   ]
  },
  {
   "cell_type": "code",
   "execution_count": null,
   "metadata": {
    "colab": {
     "base_uri": "https://localhost:8080/"
    },
    "executionInfo": {
     "elapsed": 4574,
     "status": "ok",
     "timestamp": 1679993652399,
     "user": {
      "displayName": "남예준",
      "userId": "07670159004319314504"
     },
     "user_tz": -540
    },
    "id": "PUoOhAedQQP4",
    "outputId": "2d6bee43-dd69-44bc-83b3-3b712eaba75f"
   },
   "outputs": [
    {
     "name": "stdout",
     "output_type": "stream",
     "text": [
      "Reading package lists... Done\n",
      "Building dependency tree       \n",
      "Reading state information... Done\n",
      "fonts-nanum is already the newest version (20180306-3).\n",
      "0 upgraded, 0 newly installed, 0 to remove and 23 not upgraded.\n",
      "/usr/share/fonts: caching, new cache contents: 0 fonts, 1 dirs\n",
      "/usr/share/fonts/truetype: caching, new cache contents: 0 fonts, 3 dirs\n",
      "/usr/share/fonts/truetype/humor-sans: caching, new cache contents: 1 fonts, 0 dirs\n",
      "/usr/share/fonts/truetype/liberation: caching, new cache contents: 16 fonts, 0 dirs\n",
      "/usr/share/fonts/truetype/nanum: caching, new cache contents: 10 fonts, 0 dirs\n",
      "/usr/local/share/fonts: caching, new cache contents: 0 fonts, 0 dirs\n",
      "/root/.local/share/fonts: skipping, no such directory\n",
      "/root/.fonts: skipping, no such directory\n",
      "/usr/share/fonts/truetype: skipping, looped directory detected\n",
      "/usr/share/fonts/truetype/humor-sans: skipping, looped directory detected\n",
      "/usr/share/fonts/truetype/liberation: skipping, looped directory detected\n",
      "/usr/share/fonts/truetype/nanum: skipping, looped directory detected\n",
      "/var/cache/fontconfig: cleaning cache directory\n",
      "/root/.cache/fontconfig: not cleaning non-existent cache directory\n",
      "/root/.fontconfig: not cleaning non-existent cache directory\n",
      "fc-cache: succeeded\n"
     ]
    }
   ],
   "source": [
    "!sudo apt-get install -y fonts-nanum\n",
    "!sudo fc-cache -fv\n",
    "!rm ~/.cache/matplotlib -rf"
   ]
  },
  {
   "cell_type": "code",
   "execution_count": null,
   "metadata": {
    "id": "akgs7LiV-1le"
   },
   "outputs": [],
   "source": [
    "GMARKET_BEST_PRODUCT_URL = \"https://corners.gmarket.co.kr/bestsellers\""
   ]
  },
  {
   "cell_type": "code",
   "execution_count": null,
   "metadata": {
    "id": "U8gJHRgT_dFj"
   },
   "outputs": [],
   "source": [
    "import requests\n",
    "from bs4 import BeautifulSoup as BS\n",
    "import pandas as pd\n",
    "import seaborn as sns\n",
    "import numpy as np\n",
    "import matplotlib.pyplot as plt"
   ]
  },
  {
   "cell_type": "code",
   "execution_count": null,
   "metadata": {
    "id": "2SKZjeqd_efu"
   },
   "outputs": [],
   "source": [
    "response = requests.get(GMARKET_BEST_PRODUCT_URL)\n",
    "html_src = BS(response.content, \"html.parser\")"
   ]
  },
  {
   "cell_type": "code",
   "execution_count": null,
   "metadata": {
    "id": "H-_kvodJCrY4"
   },
   "outputs": [],
   "source": [
    "best_item_sample = html_src.select(\"#gBestWrap > div.gbest-top > div > div.best-list > ul > li\")\n",
    "best_item_sample"
   ]
  },
  {
   "cell_type": "code",
   "execution_count": null,
   "metadata": {
    "colab": {
     "base_uri": "https://localhost:8080/",
     "height": 424
    },
    "executionInfo": {
     "elapsed": 4,
     "status": "ok",
     "timestamp": 1679993655625,
     "user": {
      "displayName": "남예준",
      "userId": "07670159004319314504"
     },
     "user_tz": -540
    },
    "id": "oUSZWegi_gOJ",
    "outputId": "38e52032-44dc-4d65-a86f-fb67593ca55c"
   },
   "outputs": [
    {
     "data": {
      "text/html": [
       "\n",
       "  <div id=\"df-6b129141-2060-4097-b0ef-ae7983c23f4b\">\n",
       "    <div class=\"colab-df-container\">\n",
       "      <div>\n",
       "<style scoped>\n",
       "    .dataframe tbody tr th:only-of-type {\n",
       "        vertical-align: middle;\n",
       "    }\n",
       "\n",
       "    .dataframe tbody tr th {\n",
       "        vertical-align: top;\n",
       "    }\n",
       "\n",
       "    .dataframe thead th {\n",
       "        text-align: right;\n",
       "    }\n",
       "</style>\n",
       "<table border=\"1\" class=\"dataframe\">\n",
       "  <thead>\n",
       "    <tr style=\"text-align: right;\">\n",
       "      <th></th>\n",
       "      <th>상품코드</th>\n",
       "      <th>상세페이지</th>\n",
       "      <th>이미지</th>\n",
       "      <th>가격</th>\n",
       "    </tr>\n",
       "  </thead>\n",
       "  <tbody>\n",
       "    <tr>\n",
       "      <th>0</th>\n",
       "      <td>1833766346</td>\n",
       "      <td>http://item.gmarket.co.kr/Item?goodscode=18337...</td>\n",
       "      <td>https://gdimg.gmarket.co.kr/1833766346/still/3...</td>\n",
       "      <td>16900</td>\n",
       "    </tr>\n",
       "    <tr>\n",
       "      <th>1</th>\n",
       "      <td>1707731465</td>\n",
       "      <td>http://item.gmarket.co.kr/Item?goodscode=17077...</td>\n",
       "      <td>https://gdimg.gmarket.co.kr/1707731465/still/3...</td>\n",
       "      <td>14940</td>\n",
       "    </tr>\n",
       "    <tr>\n",
       "      <th>2</th>\n",
       "      <td>1894144268</td>\n",
       "      <td>http://item.gmarket.co.kr/Item?goodscode=18941...</td>\n",
       "      <td>https://gdimg.gmarket.co.kr/1894144268/still/3...</td>\n",
       "      <td>22500</td>\n",
       "    </tr>\n",
       "    <tr>\n",
       "      <th>3</th>\n",
       "      <td>1158321387</td>\n",
       "      <td>http://item.gmarket.co.kr/Item?goodscode=11583...</td>\n",
       "      <td>https://gdimg.gmarket.co.kr/1158321387/still/3...</td>\n",
       "      <td>32500</td>\n",
       "    </tr>\n",
       "    <tr>\n",
       "      <th>4</th>\n",
       "      <td>1827907353</td>\n",
       "      <td>http://item.gmarket.co.kr/Item?goodscode=18279...</td>\n",
       "      <td>https://gdimg.gmarket.co.kr/1827907353/still/3...</td>\n",
       "      <td>15000</td>\n",
       "    </tr>\n",
       "    <tr>\n",
       "      <th>...</th>\n",
       "      <td>...</td>\n",
       "      <td>...</td>\n",
       "      <td>...</td>\n",
       "      <td>...</td>\n",
       "    </tr>\n",
       "    <tr>\n",
       "      <th>195</th>\n",
       "      <td>2808783843</td>\n",
       "      <td>http://item.gmarket.co.kr/Item?goodscode=28087...</td>\n",
       "      <td>https://gdimg.gmarket.co.kr/2808783843/still/3...</td>\n",
       "      <td>42900</td>\n",
       "    </tr>\n",
       "    <tr>\n",
       "      <th>196</th>\n",
       "      <td>1850540165</td>\n",
       "      <td>http://item.gmarket.co.kr/Item?goodscode=18505...</td>\n",
       "      <td>https://gdimg.gmarket.co.kr/1850540165/still/3...</td>\n",
       "      <td>24750</td>\n",
       "    </tr>\n",
       "    <tr>\n",
       "      <th>197</th>\n",
       "      <td>2105185856</td>\n",
       "      <td>http://item.gmarket.co.kr/Item?goodscode=21051...</td>\n",
       "      <td>https://gdimg.gmarket.co.kr/2105185856/still/3...</td>\n",
       "      <td>30900</td>\n",
       "    </tr>\n",
       "    <tr>\n",
       "      <th>198</th>\n",
       "      <td>2855164895</td>\n",
       "      <td>http://item.gmarket.co.kr/Item?goodscode=28551...</td>\n",
       "      <td>https://gdimg.gmarket.co.kr/2855164895/still/3...</td>\n",
       "      <td>26600</td>\n",
       "    </tr>\n",
       "    <tr>\n",
       "      <th>199</th>\n",
       "      <td>937468008</td>\n",
       "      <td>http://item.gmarket.co.kr/Item?goodscode=93746...</td>\n",
       "      <td>https://gdimg.gmarket.co.kr/937468008/still/30...</td>\n",
       "      <td>9900</td>\n",
       "    </tr>\n",
       "  </tbody>\n",
       "</table>\n",
       "<p>200 rows × 4 columns</p>\n",
       "</div>\n",
       "      <button class=\"colab-df-convert\" onclick=\"convertToInteractive('df-6b129141-2060-4097-b0ef-ae7983c23f4b')\"\n",
       "              title=\"Convert this dataframe to an interactive table.\"\n",
       "              style=\"display:none;\">\n",
       "        \n",
       "  <svg xmlns=\"http://www.w3.org/2000/svg\" height=\"24px\"viewBox=\"0 0 24 24\"\n",
       "       width=\"24px\">\n",
       "    <path d=\"M0 0h24v24H0V0z\" fill=\"none\"/>\n",
       "    <path d=\"M18.56 5.44l.94 2.06.94-2.06 2.06-.94-2.06-.94-.94-2.06-.94 2.06-2.06.94zm-11 1L8.5 8.5l.94-2.06 2.06-.94-2.06-.94L8.5 2.5l-.94 2.06-2.06.94zm10 10l.94 2.06.94-2.06 2.06-.94-2.06-.94-.94-2.06-.94 2.06-2.06.94z\"/><path d=\"M17.41 7.96l-1.37-1.37c-.4-.4-.92-.59-1.43-.59-.52 0-1.04.2-1.43.59L10.3 9.45l-7.72 7.72c-.78.78-.78 2.05 0 2.83L4 21.41c.39.39.9.59 1.41.59.51 0 1.02-.2 1.41-.59l7.78-7.78 2.81-2.81c.8-.78.8-2.07 0-2.86zM5.41 20L4 18.59l7.72-7.72 1.47 1.35L5.41 20z\"/>\n",
       "  </svg>\n",
       "      </button>\n",
       "      \n",
       "  <style>\n",
       "    .colab-df-container {\n",
       "      display:flex;\n",
       "      flex-wrap:wrap;\n",
       "      gap: 12px;\n",
       "    }\n",
       "\n",
       "    .colab-df-convert {\n",
       "      background-color: #E8F0FE;\n",
       "      border: none;\n",
       "      border-radius: 50%;\n",
       "      cursor: pointer;\n",
       "      display: none;\n",
       "      fill: #1967D2;\n",
       "      height: 32px;\n",
       "      padding: 0 0 0 0;\n",
       "      width: 32px;\n",
       "    }\n",
       "\n",
       "    .colab-df-convert:hover {\n",
       "      background-color: #E2EBFA;\n",
       "      box-shadow: 0px 1px 2px rgba(60, 64, 67, 0.3), 0px 1px 3px 1px rgba(60, 64, 67, 0.15);\n",
       "      fill: #174EA6;\n",
       "    }\n",
       "\n",
       "    [theme=dark] .colab-df-convert {\n",
       "      background-color: #3B4455;\n",
       "      fill: #D2E3FC;\n",
       "    }\n",
       "\n",
       "    [theme=dark] .colab-df-convert:hover {\n",
       "      background-color: #434B5C;\n",
       "      box-shadow: 0px 1px 3px 1px rgba(0, 0, 0, 0.15);\n",
       "      filter: drop-shadow(0px 1px 2px rgba(0, 0, 0, 0.3));\n",
       "      fill: #FFFFFF;\n",
       "    }\n",
       "  </style>\n",
       "\n",
       "      <script>\n",
       "        const buttonEl =\n",
       "          document.querySelector('#df-6b129141-2060-4097-b0ef-ae7983c23f4b button.colab-df-convert');\n",
       "        buttonEl.style.display =\n",
       "          google.colab.kernel.accessAllowed ? 'block' : 'none';\n",
       "\n",
       "        async function convertToInteractive(key) {\n",
       "          const element = document.querySelector('#df-6b129141-2060-4097-b0ef-ae7983c23f4b');\n",
       "          const dataTable =\n",
       "            await google.colab.kernel.invokeFunction('convertToInteractive',\n",
       "                                                     [key], {});\n",
       "          if (!dataTable) return;\n",
       "\n",
       "          const docLinkHtml = 'Like what you see? Visit the ' +\n",
       "            '<a target=\"_blank\" href=https://colab.research.google.com/notebooks/data_table.ipynb>data table notebook</a>'\n",
       "            + ' to learn more about interactive tables.';\n",
       "          element.innerHTML = '';\n",
       "          dataTable['output_type'] = 'display_data';\n",
       "          await google.colab.output.renderOutput(dataTable, element);\n",
       "          const docLink = document.createElement('div');\n",
       "          docLink.innerHTML = docLinkHtml;\n",
       "          element.appendChild(docLink);\n",
       "        }\n",
       "      </script>\n",
       "    </div>\n",
       "  </div>\n",
       "  "
      ],
      "text/plain": [
       "           상품코드                                              상세페이지  \\\n",
       "0    1833766346  http://item.gmarket.co.kr/Item?goodscode=18337...   \n",
       "1    1707731465  http://item.gmarket.co.kr/Item?goodscode=17077...   \n",
       "2    1894144268  http://item.gmarket.co.kr/Item?goodscode=18941...   \n",
       "3    1158321387  http://item.gmarket.co.kr/Item?goodscode=11583...   \n",
       "4    1827907353  http://item.gmarket.co.kr/Item?goodscode=18279...   \n",
       "..          ...                                                ...   \n",
       "195  2808783843  http://item.gmarket.co.kr/Item?goodscode=28087...   \n",
       "196  1850540165  http://item.gmarket.co.kr/Item?goodscode=18505...   \n",
       "197  2105185856  http://item.gmarket.co.kr/Item?goodscode=21051...   \n",
       "198  2855164895  http://item.gmarket.co.kr/Item?goodscode=28551...   \n",
       "199   937468008  http://item.gmarket.co.kr/Item?goodscode=93746...   \n",
       "\n",
       "                                                   이미지     가격  \n",
       "0    https://gdimg.gmarket.co.kr/1833766346/still/3...  16900  \n",
       "1    https://gdimg.gmarket.co.kr/1707731465/still/3...  14940  \n",
       "2    https://gdimg.gmarket.co.kr/1894144268/still/3...  22500  \n",
       "3    https://gdimg.gmarket.co.kr/1158321387/still/3...  32500  \n",
       "4    https://gdimg.gmarket.co.kr/1827907353/still/3...  15000  \n",
       "..                                                 ...    ...  \n",
       "195  https://gdimg.gmarket.co.kr/2808783843/still/3...  42900  \n",
       "196  https://gdimg.gmarket.co.kr/1850540165/still/3...  24750  \n",
       "197  https://gdimg.gmarket.co.kr/2105185856/still/3...  30900  \n",
       "198  https://gdimg.gmarket.co.kr/2855164895/still/3...  26600  \n",
       "199  https://gdimg.gmarket.co.kr/937468008/still/30...   9900  \n",
       "\n",
       "[200 rows x 4 columns]"
      ]
     },
     "execution_count": 6,
     "metadata": {},
     "output_type": "execute_result"
    }
   ],
   "source": [
    "# 순한 맛\n",
    "dict_list = []\n",
    "rule = re.compile(\"[0-9]+\")\n",
    "for item in range(len(best_item_sample)):\n",
    "  dict_list.append({})\n",
    "  상품코드 = re.findall(rule, best_item_sample[item].select_one(\"a\")[\"href\"])[0]\n",
    "  상세페이지 = best_item_sample[item].select_one(\"a\")[\"href\"]\n",
    "  이미지 = \"https:\" + best_item_sample[item].select_one(\"img.lazy\")[\"data-original\"]\n",
    "  가격 = best_item_sample[item].select_one(\".item_price > .s-price > strong > span\").text\n",
    "  dict_list[item][\"상품코드\"] = 상품코드\n",
    "  dict_list[item][\"상세페이지\"] = 상세페이지\n",
    "  dict_list[item][\"이미지\"] = 이미지\n",
    "  dict_list[item][\"가격\"] = 가격[:-1].replace(\",\",\"\")\n",
    "data = pd.DataFrame(dict_list)\n",
    "data"
   ]
  },
  {
   "cell_type": "code",
   "execution_count": null,
   "metadata": {
    "id": "yF_6vxmVHQ5C"
   },
   "outputs": [],
   "source": [
    "data.to_csv('best_all.csv', encoding=\"cp949\")"
   ]
  },
  {
   "cell_type": "code",
   "execution_count": null,
   "metadata": {
    "id": "s8uH8woSIozz"
   },
   "outputs": [],
   "source": [
    "GMARKET_BEST_PRODUCT_URL_LIST = [\n",
    "  \"https://corners.gmarket.co.kr/Bestsellers?viewType=G&groupCode=G01\",\n",
    "  \"https://corners.gmarket.co.kr/Bestsellers?viewType=G&groupCode=G02\",\n",
    "  \"https://corners.gmarket.co.kr/Bestsellers?viewType=G&groupCode=G03\",\n",
    "  \"https://corners.gmarket.co.kr/Bestsellers?viewType=G&groupCode=G04\",\n",
    "  \"https://corners.gmarket.co.kr/Bestsellers?viewType=G&groupCode=G07\",\n",
    "  \"https://corners.gmarket.co.kr/Bestsellers?viewType=G&groupCode=G08\",\n",
    "  \"https://corners.gmarket.co.kr/Bestsellers?viewType=G&groupCode=G09\",\n",
    "  \"https://corners.gmarket.co.kr/Bestsellers?viewType=G&groupCode=G05\",\n",
    "  \"https://corners.gmarket.co.kr/Bestsellers?viewType=G&groupCode=G06\",\n",
    "  \"https://corners.gmarket.co.kr/Bestsellers?viewType=G&groupCode=G10\",\n",
    "  \"https://corners.gmarket.co.kr/Bestsellers?viewType=G&groupCode=G11\",\n",
    "  \"https://corners.gmarket.co.kr/Bestsellers?viewType=G&groupCode=G12\",\n",
    "]"
   ]
  },
  {
   "cell_type": "code",
   "execution_count": null,
   "metadata": {
    "id": "ScOOiM27JXDg"
   },
   "outputs": [],
   "source": [
    "html_src_list = []\n",
    "best_item_sample_list = []\n",
    "data_list = []\n",
    "for idx in range(len(GMARKET_BEST_PRODUCT_URL_LIST)):\n",
    "  response = requests.get(GMARKET_BEST_PRODUCT_URL_LIST[idx])\n",
    "  html_src_list.append(BS(response.content, \"html.parser\"))\n",
    "  best_item_sample_list.append(html_src_list[idx].select(\"#gBestWrap > div.gbest-top > div > div.best-list > ul > li\"))\n",
    "  dict_list = []\n",
    "  for item in range(len(best_item_sample_list[idx])):\n",
    "    dict_list.append({})\n",
    "    상품코드 = re.findall(rule, best_item_sample_list[idx][item].select_one(\"a\")[\"href\"])[0]\n",
    "    상세페이지 = best_item_sample_list[idx][item].select_one(\"a\")[\"href\"]\n",
    "    이미지 = \"https:\" + best_item_sample_list[idx][item].select_one(\"img.lazy\")[\"data-original\"]\n",
    "    가격 = best_item_sample_list[idx][item].select_one(\".item_price > .s-price > strong > span\").text\n",
    "    dict_list[item][\"상품코드\"] = 상품코드\n",
    "    dict_list[item][\"상세페이지\"] = 상세페이지\n",
    "    dict_list[item][\"이미지\"] = 이미지\n",
    "    dict_list[item][\"가격\"] = int(가격[:-1].replace(\",\",\"\"))\n",
    "  data = pd.DataFrame(dict_list)\n",
    "  data.to_csv(f\"data{idx}\")\n",
    "  data_list.append(data)"
   ]
  },
  {
   "cell_type": "code",
   "execution_count": null,
   "metadata": {
    "colab": {
     "base_uri": "https://localhost:8080/",
     "height": 35
    },
    "executionInfo": {
     "elapsed": 27,
     "status": "ok",
     "timestamp": 1679993673525,
     "user": {
      "displayName": "남예준",
      "userId": "07670159004319314504"
     },
     "user_tz": -540
    },
    "id": "Gw-LBlRtLUT-",
    "outputId": "b45ce5a6-84ef-4a5b-f41a-f749e40129fe"
   },
   "outputs": [
    {
     "data": {
      "application/vnd.google.colaboratory.intrinsic+json": {
       "type": "string"
      },
      "text/plain": [
       "'https://gdimg.gmarket.co.kr/2793776596/still/300?ver=2023032817'"
      ]
     },
     "execution_count": 10,
     "metadata": {},
     "output_type": "execute_result"
    }
   ],
   "source": [
    "data_list[1][\"이미지\"][0]"
   ]
  },
  {
   "cell_type": "code",
   "execution_count": null,
   "metadata": {
    "id": "DM1nP_S3MZc1"
   },
   "outputs": [],
   "source": [
    "x = np.array(range(0,24, 2))\n",
    "y = [data_list[i][\"가격\"].mean() for i in range(len(data_list))]\n",
    "plt.rc('font', family='NanumBarunGothic')"
   ]
  },
  {
   "cell_type": "code",
   "execution_count": null,
   "metadata": {
    "colab": {
     "base_uri": "https://localhost:8080/",
     "height": 549
    },
    "executionInfo": {
     "elapsed": 22,
     "status": "ok",
     "timestamp": 1679993673525,
     "user": {
      "displayName": "남예준",
      "userId": "07670159004319314504"
     },
     "user_tz": -540
    },
    "id": "Z2nr3P8HP19c",
    "outputId": "b791127d-25ed-43aa-a91a-5f64ec90218c"
   },
   "outputs": [
    {
     "data": {
      "image/png": "[encoded data removed]",
      "text/plain": [
       "<Figure size 720x576 with 1 Axes>"
      ]
     },
     "metadata": {
      "needs_background": "light"
     },
     "output_type": "display_data"
    }
   ],
   "source": [
    "fig, ax= plt.subplots(figsize=(10,8))\n",
    "plt.bar(x,y, color = ['yellow', 'cyan', 'pink', 'purple', 'red', 'blue', 'orange', 'green', 'gold', 'indigo', 'gray', '#554422'])\n",
    "plt.xlabel('카테고리')\n",
    "plt.xticks(x,[\"패션의류\", \"신발/잡화\", \"화장품/헤어\", \"유아동/출산\", \"식품\", \"생활/주방/건강\", \"가구/침구\", \"스포츠/자동차\", \"컴퓨터/전자\", \"도서/음반\", \"여행\", \"e쿠폰\"])\n",
    "plt.xticks(rotation=90)\n",
    "plt.ylabel('평균 가격의 log scale')\n",
    "plt.yticks()\n",
    "ax.set_yscale(\"log\")\n",
    "plt.show()"
   ]
  },
  {
   "cell_type": "code",
   "execution_count": null,
   "metadata": {
    "colab": {
     "base_uri": "https://localhost:8080/"
    },
    "executionInfo": {
     "elapsed": 20,
     "status": "ok",
     "timestamp": 1679993673525,
     "user": {
      "displayName": "남예준",
      "userId": "07670159004319314504"
     },
     "user_tz": -540
    },
    "id": "k6ILOnOqQ4BO",
    "outputId": "506e9e39-7863-4062-fcf7-79ee93986a2c"
   },
   "outputs": [
    {
     "name": "stdout",
     "output_type": "stream",
     "text": [
      "[[ 22900.4  23407.6]\n",
      " [ 23104.4  27622. ]\n",
      " [ 25049.8  28102.4]\n",
      " [ 33086.2  30810.6]\n",
      " [ 29727.6  26983. ]\n",
      " [ 24183.2  27272.8]\n",
      " [ 27542.8  44153.4]\n",
      " [ 57486.8  49936.8]\n",
      " [242529.2 148429.2]\n",
      " [ 76477.4  83915.4]\n",
      " [164920.8 392538.2]\n",
      " [ 45898.   46930.2]]\n",
      "[[ 22900.4  23104.4  25049.8  33086.2  29727.6  24183.2  27542.8  57486.8\n",
      "  242529.2  76477.4 164920.8  45898. ]\n",
      " [ 23407.6  27622.   28102.4  30810.6  26983.   27272.8  44153.4  49936.8\n",
      "  148429.2  83915.4 392538.2  46930.2]]\n"
     ]
    }
   ],
   "source": [
    "x = np.array(range(0,24, 2))\n",
    "y = np.array([[data_list[i][\"가격\"].head(50).mean(), data_list[i][\"가격\"].tail(50).mean()] for i in range(len(data_list))])\n",
    "print(y)\n",
    "y = y.T\n",
    "print(y)"
   ]
  },
  {
   "cell_type": "code",
   "execution_count": null,
   "metadata": {
    "colab": {
     "base_uri": "https://localhost:8080/",
     "height": 549
    },
    "executionInfo": {
     "elapsed": 17,
     "status": "ok",
     "timestamp": 1679993673525,
     "user": {
      "displayName": "남예준",
      "userId": "07670159004319314504"
     },
     "user_tz": -540
    },
    "id": "MSewEJmJRvgb",
    "outputId": "2f0c6eca-7e85-4526-8473-eb1085f46e32"
   },
   "outputs": [
    {
     "data": {
      "image/png": "[encoded data removed]",
      "text/plain": [
       "<Figure size 720x576 with 1 Axes>"
      ]
     },
     "metadata": {
      "needs_background": "light"
     },
     "output_type": "display_data"
    }
   ],
   "source": [
    "fig, ax= plt.subplots(figsize=(10,8))\n",
    "\n",
    "plt.bar(x,y[0], color=\"red\", width = 0.5,label=\"상위 50\")\n",
    "plt.bar(x+0.5, y[1], color=\"blue\", width = 0.5, label=\"하위 50\")\n",
    "plt.xlabel('카테고리')\n",
    "plt.xticks(x,[\"패션의류\", \"신발/잡화\", \"화장품/헤어\", \"유아동/출산\", \"식품\", \"생활/주방/건강\", \"가구/침구\", \"스포츠/자동차\", \"컴퓨터/전자\", \"도서/음반\", \"여행\", \"e쿠폰\"])\n",
    "plt.xticks(rotation=90)\n",
    "plt.ylabel('평균 가격의 log scale')\n",
    "plt.yticks()\n",
    "ax.set_yscale(\"log\")\n",
    "plt.show()"
   ]
  }
 ],
 "metadata": {
  "colab": {
   "authorship_tag": "ABX9TyPgd6X17w4Loz+7K6fBYIHH",
   "provenance": []
  },
  "kernelspec": {
   "display_name": "Python 3 (ipykernel)",
   "language": "python",
   "name": "python3"
  },
  "language_info": {
   "codemirror_mode": {
    "name": "ipython",
    "version": 3
   },
   "file_extension": ".py",
   "mimetype": "text/x-python",
   "name": "python",
   "nbconvert_exporter": "python",
   "pygments_lexer": "ipython3",
   "version": "3.9.12"
  }
 },
 "nbformat": 4,
 "nbformat_minor": 1
}
